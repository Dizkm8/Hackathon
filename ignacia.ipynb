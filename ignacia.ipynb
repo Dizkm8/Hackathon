{
 "cells": [
  {
   "cell_type": "markdown",
   "source": [
    "# Hackathon"
   ],
   "metadata": {
    "collapsed": false
   },
   "id": "5760456efb47f7dd"
  },
  {
   "cell_type": "code",
   "execution_count": 2,
   "outputs": [
    {
     "data": {
      "text/plain": "'Hello World'"
     },
     "execution_count": 2,
     "metadata": {},
     "output_type": "execute_result"
    }
   ],
   "source": [
    "import pandas as pd\n",
    "import matplotlib.pyplot as plt\n",
    "import numpy as np\n",
    "import sklearn\n",
    "\n",
    "\"Hello World\""
   ],
   "metadata": {
    "collapsed": false,
    "ExecuteTime": {
     "end_time": "2023-11-20T18:00:44.806569200Z",
     "start_time": "2023-11-20T18:00:40.143434400Z"
    }
   },
   "id": "initial_id"
  },
  {
   "cell_type": "code",
   "execution_count": 4,
   "outputs": [
    {
     "data": {
      "text/plain": "               tiempo  % Solido  Bombeo concentrado_EB  \\\n0 2023-01-01 00:00:00                        60.305771   \n1 2023-01-01 00:03:00                        60.316761   \n2 2023-01-01 00:06:00                        60.327747   \n3 2023-01-01 00:09:00                        60.338734   \n4 2023-01-01 00:12:00                        60.350990   \n\n   Presión de Descarga_EB_1  Presión de Descarga_EB_2  \\\n0                 -0.663051               1625.289917   \n1                 -0.663393               1625.912354   \n2                 -0.663736               1626.534790   \n3                 -0.664078               1627.157349   \n4                 -0.664420               1627.779785   \n\n   Presion_Estación de Valvulas_EV1_1  Presion_Estación de Valvulas_EV1_2  \\\n0                         3662.116943                         3653.241699   \n1                         3666.185059                         3657.404053   \n2                         3670.252930                         3661.566406   \n3                         3674.321045                         3665.728760   \n4                         3678.389160                         3669.891357   \n\n   Presión_SM-1  Presión_SM-2  Presión estación de valvulas 2_EV2_1  \\\n0  16701.179688   3040.474121                           3330.878174   \n1  16702.007812   3044.661621                           3335.265137   \n2  16702.835938   3048.849121                           3339.652100   \n3  16703.664062   3053.036621                           3344.039062   \n4  16704.492188   3057.224121                           3348.426025   \n\n   Presión estación de valvulas 2_EV2_2  \\\n0                           3303.286377   \n1                           3307.434814   \n2                           3311.583252   \n3                           3315.731689   \n4                           3319.880127   \n\n   Porcentaje de Solido Alimentación Espesador  Presión_EDT_1  Presión_EDT_2  \\\n0                                    59.756073   10653.394531    8614.203125   \n1                                    59.675354   10658.351562    8619.733398   \n2                                    59.709515   10658.579102    8621.905273   \n3                                    59.712528   10663.964844    8622.951172   \n4                                    59.747906   10667.239258    8625.802734   \n\n   Presión_EDT_3  Presión_SM-3  Presión_SM-4  \n0     321.568634   2477.526611   1647.383789  \n1     320.516357   2484.498535   1650.932861  \n2     321.340149   2489.650879   1653.877686  \n3     321.454895   2493.044678   1656.922974  \n4     322.045898   2498.507568   1662.279785  ",
      "text/html": "<div>\n<style scoped>\n    .dataframe tbody tr th:only-of-type {\n        vertical-align: middle;\n    }\n\n    .dataframe tbody tr th {\n        vertical-align: top;\n    }\n\n    .dataframe thead th {\n        text-align: right;\n    }\n</style>\n<table border=\"1\" class=\"dataframe\">\n  <thead>\n    <tr style=\"text-align: right;\">\n      <th></th>\n      <th>tiempo</th>\n      <th>% Solido  Bombeo concentrado_EB</th>\n      <th>Presión de Descarga_EB_1</th>\n      <th>Presión de Descarga_EB_2</th>\n      <th>Presion_Estación de Valvulas_EV1_1</th>\n      <th>Presion_Estación de Valvulas_EV1_2</th>\n      <th>Presión_SM-1</th>\n      <th>Presión_SM-2</th>\n      <th>Presión estación de valvulas 2_EV2_1</th>\n      <th>Presión estación de valvulas 2_EV2_2</th>\n      <th>Porcentaje de Solido Alimentación Espesador</th>\n      <th>Presión_EDT_1</th>\n      <th>Presión_EDT_2</th>\n      <th>Presión_EDT_3</th>\n      <th>Presión_SM-3</th>\n      <th>Presión_SM-4</th>\n    </tr>\n  </thead>\n  <tbody>\n    <tr>\n      <th>0</th>\n      <td>2023-01-01 00:00:00</td>\n      <td>60.305771</td>\n      <td>-0.663051</td>\n      <td>1625.289917</td>\n      <td>3662.116943</td>\n      <td>3653.241699</td>\n      <td>16701.179688</td>\n      <td>3040.474121</td>\n      <td>3330.878174</td>\n      <td>3303.286377</td>\n      <td>59.756073</td>\n      <td>10653.394531</td>\n      <td>8614.203125</td>\n      <td>321.568634</td>\n      <td>2477.526611</td>\n      <td>1647.383789</td>\n    </tr>\n    <tr>\n      <th>1</th>\n      <td>2023-01-01 00:03:00</td>\n      <td>60.316761</td>\n      <td>-0.663393</td>\n      <td>1625.912354</td>\n      <td>3666.185059</td>\n      <td>3657.404053</td>\n      <td>16702.007812</td>\n      <td>3044.661621</td>\n      <td>3335.265137</td>\n      <td>3307.434814</td>\n      <td>59.675354</td>\n      <td>10658.351562</td>\n      <td>8619.733398</td>\n      <td>320.516357</td>\n      <td>2484.498535</td>\n      <td>1650.932861</td>\n    </tr>\n    <tr>\n      <th>2</th>\n      <td>2023-01-01 00:06:00</td>\n      <td>60.327747</td>\n      <td>-0.663736</td>\n      <td>1626.534790</td>\n      <td>3670.252930</td>\n      <td>3661.566406</td>\n      <td>16702.835938</td>\n      <td>3048.849121</td>\n      <td>3339.652100</td>\n      <td>3311.583252</td>\n      <td>59.709515</td>\n      <td>10658.579102</td>\n      <td>8621.905273</td>\n      <td>321.340149</td>\n      <td>2489.650879</td>\n      <td>1653.877686</td>\n    </tr>\n    <tr>\n      <th>3</th>\n      <td>2023-01-01 00:09:00</td>\n      <td>60.338734</td>\n      <td>-0.664078</td>\n      <td>1627.157349</td>\n      <td>3674.321045</td>\n      <td>3665.728760</td>\n      <td>16703.664062</td>\n      <td>3053.036621</td>\n      <td>3344.039062</td>\n      <td>3315.731689</td>\n      <td>59.712528</td>\n      <td>10663.964844</td>\n      <td>8622.951172</td>\n      <td>321.454895</td>\n      <td>2493.044678</td>\n      <td>1656.922974</td>\n    </tr>\n    <tr>\n      <th>4</th>\n      <td>2023-01-01 00:12:00</td>\n      <td>60.350990</td>\n      <td>-0.664420</td>\n      <td>1627.779785</td>\n      <td>3678.389160</td>\n      <td>3669.891357</td>\n      <td>16704.492188</td>\n      <td>3057.224121</td>\n      <td>3348.426025</td>\n      <td>3319.880127</td>\n      <td>59.747906</td>\n      <td>10667.239258</td>\n      <td>8625.802734</td>\n      <td>322.045898</td>\n      <td>2498.507568</td>\n      <td>1662.279785</td>\n    </tr>\n  </tbody>\n</table>\n</div>"
     },
     "execution_count": 4,
     "metadata": {},
     "output_type": "execute_result"
    }
   ],
   "source": [
    "data = pd.read_excel('Hack_concentraducto_v01.xlsx', sheet_name='Data_Hackathon')\n",
    "df1 = data.copy()\n",
    "df1.head()"
   ],
   "metadata": {
    "collapsed": false,
    "ExecuteTime": {
     "end_time": "2023-11-20T18:02:17.710689Z",
     "start_time": "2023-11-20T18:01:52.561936500Z"
    }
   },
   "id": "6a1ee7894e64d3af"
  },
  {
   "cell_type": "code",
   "execution_count": 5,
   "outputs": [
    {
     "data": {
      "text/plain": "tiempo                                         0\n% Solido  Bombeo concentrado_EB                0\nPresión de Descarga_EB_1                       0\nPresión de Descarga_EB_2                       0\nPresion_Estación de Valvulas_EV1_1             0\nPresion_Estación de Valvulas_EV1_2             0\nPresión_SM-1                                   0\nPresión_SM-2                                   0\nPresión estación de valvulas 2_EV2_1           0\nPresión estación de valvulas 2_EV2_2           0\nPorcentaje de Solido Alimentación Espesador    0\nPresión_EDT_1                                  0\nPresión_EDT_2                                  0\nPresión_EDT_3                                  0\nPresión_SM-3                                   0\nPresión_SM-4                                   0\ndtype: int64"
     },
     "execution_count": 5,
     "metadata": {},
     "output_type": "execute_result"
    }
   ],
   "source": [
    "df1.isnull().sum()"
   ],
   "metadata": {
    "collapsed": false,
    "ExecuteTime": {
     "end_time": "2023-11-20T18:02:31.016920900Z",
     "start_time": "2023-11-20T18:02:30.918083200Z"
    }
   },
   "id": "318c4a25a3cb2c1c"
  },
  {
   "cell_type": "code",
   "execution_count": 8,
   "outputs": [
    {
     "data": {
      "text/plain": "43.04818888272726"
     },
     "execution_count": 8,
     "metadata": {},
     "output_type": "execute_result"
    }
   ],
   "source": [
    "mean_concentrated = df1[\"% Solido  Bombeo concentrado_EB\"].mean()\n",
    "min_concentrated = df1[\"% Solido  Bombeo concentrado_EB\"].min()\n",
    "max_concentrated = df1[\"% Solido  Bombeo concentrado_EB\"].max()\n",
    "mean_concentrated\n"
   ],
   "metadata": {
    "collapsed": false,
    "ExecuteTime": {
     "end_time": "2023-11-20T18:09:24.928403800Z",
     "start_time": "2023-11-20T18:09:24.882267100Z"
    }
   },
   "id": "ed34686e5413df11"
  },
  {
   "cell_type": "code",
   "execution_count": 9,
   "outputs": [
    {
     "data": {
      "text/plain": "-7.87132453918457"
     },
     "execution_count": 9,
     "metadata": {},
     "output_type": "execute_result"
    }
   ],
   "source": [
    "min_concentrated = df1[\"Presión de Descarga_EB_1\"].min()\n",
    "min_concentrated"
   ],
   "metadata": {
    "collapsed": false,
    "ExecuteTime": {
     "end_time": "2023-11-20T18:09:27.413795Z",
     "start_time": "2023-11-20T18:09:27.397819200Z"
    }
   },
   "id": "7289cbd6e5d00727"
  },
  {
   "cell_type": "code",
   "execution_count": null,
   "outputs": [],
   "source": [],
   "metadata": {
    "collapsed": false
   },
   "id": "27c3b569ba04a654"
  }
 ],
 "metadata": {
  "kernelspec": {
   "display_name": "Python 3",
   "language": "python",
   "name": "python3"
  },
  "language_info": {
   "codemirror_mode": {
    "name": "ipython",
    "version": 2
   },
   "file_extension": ".py",
   "mimetype": "text/x-python",
   "name": "python",
   "nbconvert_exporter": "python",
   "pygments_lexer": "ipython2",
   "version": "2.7.6"
  }
 },
 "nbformat": 4,
 "nbformat_minor": 5
}
