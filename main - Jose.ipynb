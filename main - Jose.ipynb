{
 "cells": [
  {
   "cell_type": "markdown",
   "source": [
    "# Hackathon"
   ],
   "metadata": {
    "collapsed": false
   },
   "id": "5760456efb47f7dd"
  },
  {
   "cell_type": "code",
   "execution_count": 54,
   "outputs": [],
   "source": [
    "import pandas as pd\n",
    "import matplotlib.pyplot as plt\n",
    "import numpy as np\n",
    "import sklearn"
   ],
   "metadata": {
    "collapsed": false,
    "ExecuteTime": {
     "end_time": "2023-11-21T15:33:52.553157Z",
     "start_time": "2023-11-21T15:33:52.537074100Z"
    }
   },
   "id": "initial_id"
  },
  {
   "cell_type": "code",
   "execution_count": 55,
   "outputs": [
    {
     "data": {
      "text/plain": "               tiempo  % Solido  Bombeo concentrado_EB  \\\n0 2023-01-01 00:00:00                        60.305771   \n1 2023-01-01 00:03:00                        60.316761   \n2 2023-01-01 00:06:00                        60.327747   \n3 2023-01-01 00:09:00                        60.338734   \n4 2023-01-01 00:12:00                        60.350990   \n\n   Presión de Descarga_EB_1  Presión de Descarga_EB_2  \\\n0                 -0.663051               1625.289917   \n1                 -0.663393               1625.912354   \n2                 -0.663736               1626.534790   \n3                 -0.664078               1627.157349   \n4                 -0.664420               1627.779785   \n\n   Presion_Estación de Valvulas_EV1_1  Presion_Estación de Valvulas_EV1_2  \\\n0                         3662.116943                         3653.241699   \n1                         3666.185059                         3657.404053   \n2                         3670.252930                         3661.566406   \n3                         3674.321045                         3665.728760   \n4                         3678.389160                         3669.891357   \n\n   Presión_SM-1  Presión_SM-2  Presión estación de valvulas 2_EV2_1  \\\n0  16701.179688   3040.474121                           3330.878174   \n1  16702.007812   3044.661621                           3335.265137   \n2  16702.835938   3048.849121                           3339.652100   \n3  16703.664062   3053.036621                           3344.039062   \n4  16704.492188   3057.224121                           3348.426025   \n\n   Presión estación de valvulas 2_EV2_2  \\\n0                           3303.286377   \n1                           3307.434814   \n2                           3311.583252   \n3                           3315.731689   \n4                           3319.880127   \n\n   Porcentaje de Solido Alimentación Espesador  Presión_EDT_1  Presión_EDT_2  \\\n0                                    59.756073   10653.394531    8614.203125   \n1                                    59.675354   10658.351562    8619.733398   \n2                                    59.709515   10658.579102    8621.905273   \n3                                    59.712528   10663.964844    8622.951172   \n4                                    59.747906   10667.239258    8625.802734   \n\n   Presión_EDT_3  Presión_SM-3  Presión_SM-4  \n0     321.568634   2477.526611   1647.383789  \n1     320.516357   2484.498535   1650.932861  \n2     321.340149   2489.650879   1653.877686  \n3     321.454895   2493.044678   1656.922974  \n4     322.045898   2498.507568   1662.279785  ",
      "text/html": "<div>\n<style scoped>\n    .dataframe tbody tr th:only-of-type {\n        vertical-align: middle;\n    }\n\n    .dataframe tbody tr th {\n        vertical-align: top;\n    }\n\n    .dataframe thead th {\n        text-align: right;\n    }\n</style>\n<table border=\"1\" class=\"dataframe\">\n  <thead>\n    <tr style=\"text-align: right;\">\n      <th></th>\n      <th>tiempo</th>\n      <th>% Solido  Bombeo concentrado_EB</th>\n      <th>Presión de Descarga_EB_1</th>\n      <th>Presión de Descarga_EB_2</th>\n      <th>Presion_Estación de Valvulas_EV1_1</th>\n      <th>Presion_Estación de Valvulas_EV1_2</th>\n      <th>Presión_SM-1</th>\n      <th>Presión_SM-2</th>\n      <th>Presión estación de valvulas 2_EV2_1</th>\n      <th>Presión estación de valvulas 2_EV2_2</th>\n      <th>Porcentaje de Solido Alimentación Espesador</th>\n      <th>Presión_EDT_1</th>\n      <th>Presión_EDT_2</th>\n      <th>Presión_EDT_3</th>\n      <th>Presión_SM-3</th>\n      <th>Presión_SM-4</th>\n    </tr>\n  </thead>\n  <tbody>\n    <tr>\n      <th>0</th>\n      <td>2023-01-01 00:00:00</td>\n      <td>60.305771</td>\n      <td>-0.663051</td>\n      <td>1625.289917</td>\n      <td>3662.116943</td>\n      <td>3653.241699</td>\n      <td>16701.179688</td>\n      <td>3040.474121</td>\n      <td>3330.878174</td>\n      <td>3303.286377</td>\n      <td>59.756073</td>\n      <td>10653.394531</td>\n      <td>8614.203125</td>\n      <td>321.568634</td>\n      <td>2477.526611</td>\n      <td>1647.383789</td>\n    </tr>\n    <tr>\n      <th>1</th>\n      <td>2023-01-01 00:03:00</td>\n      <td>60.316761</td>\n      <td>-0.663393</td>\n      <td>1625.912354</td>\n      <td>3666.185059</td>\n      <td>3657.404053</td>\n      <td>16702.007812</td>\n      <td>3044.661621</td>\n      <td>3335.265137</td>\n      <td>3307.434814</td>\n      <td>59.675354</td>\n      <td>10658.351562</td>\n      <td>8619.733398</td>\n      <td>320.516357</td>\n      <td>2484.498535</td>\n      <td>1650.932861</td>\n    </tr>\n    <tr>\n      <th>2</th>\n      <td>2023-01-01 00:06:00</td>\n      <td>60.327747</td>\n      <td>-0.663736</td>\n      <td>1626.534790</td>\n      <td>3670.252930</td>\n      <td>3661.566406</td>\n      <td>16702.835938</td>\n      <td>3048.849121</td>\n      <td>3339.652100</td>\n      <td>3311.583252</td>\n      <td>59.709515</td>\n      <td>10658.579102</td>\n      <td>8621.905273</td>\n      <td>321.340149</td>\n      <td>2489.650879</td>\n      <td>1653.877686</td>\n    </tr>\n    <tr>\n      <th>3</th>\n      <td>2023-01-01 00:09:00</td>\n      <td>60.338734</td>\n      <td>-0.664078</td>\n      <td>1627.157349</td>\n      <td>3674.321045</td>\n      <td>3665.728760</td>\n      <td>16703.664062</td>\n      <td>3053.036621</td>\n      <td>3344.039062</td>\n      <td>3315.731689</td>\n      <td>59.712528</td>\n      <td>10663.964844</td>\n      <td>8622.951172</td>\n      <td>321.454895</td>\n      <td>2493.044678</td>\n      <td>1656.922974</td>\n    </tr>\n    <tr>\n      <th>4</th>\n      <td>2023-01-01 00:12:00</td>\n      <td>60.350990</td>\n      <td>-0.664420</td>\n      <td>1627.779785</td>\n      <td>3678.389160</td>\n      <td>3669.891357</td>\n      <td>16704.492188</td>\n      <td>3057.224121</td>\n      <td>3348.426025</td>\n      <td>3319.880127</td>\n      <td>59.747906</td>\n      <td>10667.239258</td>\n      <td>8625.802734</td>\n      <td>322.045898</td>\n      <td>2498.507568</td>\n      <td>1662.279785</td>\n    </tr>\n  </tbody>\n</table>\n</div>"
     },
     "execution_count": 55,
     "metadata": {},
     "output_type": "execute_result"
    }
   ],
   "source": [
    "data = pd.read_excel('Hack_concentraducto_v01.xlsx', sheet_name='Data_Hackathon')\n",
    "df1 = data.copy()\n",
    "df1.head()"
   ],
   "metadata": {
    "collapsed": false,
    "ExecuteTime": {
     "end_time": "2023-11-21T15:34:17.164648400Z",
     "start_time": "2023-11-21T15:33:54.487089300Z"
    }
   },
   "id": "6a1ee7894e64d3af"
  },
  {
   "cell_type": "code",
   "execution_count": 56,
   "outputs": [
    {
     "data": {
      "text/plain": "tiempo                                         0\n% Solido  Bombeo concentrado_EB                0\nPresión de Descarga_EB_1                       0\nPresión de Descarga_EB_2                       0\nPresion_Estación de Valvulas_EV1_1             0\nPresion_Estación de Valvulas_EV1_2             0\nPresión_SM-1                                   0\nPresión_SM-2                                   0\nPresión estación de valvulas 2_EV2_1           0\nPresión estación de valvulas 2_EV2_2           0\nPorcentaje de Solido Alimentación Espesador    0\nPresión_EDT_1                                  0\nPresión_EDT_2                                  0\nPresión_EDT_3                                  0\nPresión_SM-3                                   0\nPresión_SM-4                                   0\ndtype: int64"
     },
     "execution_count": 56,
     "metadata": {},
     "output_type": "execute_result"
    }
   ],
   "source": [
    "df1.isnull().sum()"
   ],
   "metadata": {
    "collapsed": false,
    "ExecuteTime": {
     "end_time": "2023-11-21T15:34:17.242874900Z",
     "start_time": "2023-11-21T15:34:17.159226900Z"
    }
   },
   "id": "318c4a25a3cb2c1c"
  },
  {
   "cell_type": "code",
   "execution_count": 57,
   "outputs": [
    {
     "data": {
      "text/plain": "43.04818888272726"
     },
     "execution_count": 57,
     "metadata": {},
     "output_type": "execute_result"
    }
   ],
   "source": [
    "mean_concentrated = df1[\"% Solido  Bombeo concentrado_EB\"].mean()\n",
    "mean_concentrated"
   ],
   "metadata": {
    "collapsed": false,
    "ExecuteTime": {
     "end_time": "2023-11-21T15:34:17.244874100Z",
     "start_time": "2023-11-21T15:34:17.183838100Z"
    }
   },
   "id": "ed34686e5413df11"
  },
  {
   "cell_type": "code",
   "execution_count": 58,
   "outputs": [
    {
     "data": {
      "text/plain": "-7.87132453918457"
     },
     "execution_count": 58,
     "metadata": {},
     "output_type": "execute_result"
    }
   ],
   "source": [
    "min_concentrated = df1[\"Presión de Descarga_EB_1\"].min()\n",
    "min_concentrated"
   ],
   "metadata": {
    "collapsed": false,
    "ExecuteTime": {
     "end_time": "2023-11-21T15:34:17.245874100Z",
     "start_time": "2023-11-21T15:34:17.199588500Z"
    }
   },
   "id": "7289cbd6e5d00727"
  },
  {
   "cell_type": "markdown",
   "source": [
    "# Preprocesamiento\n",
    "## Conversión de datos"
   ],
   "metadata": {
    "collapsed": false
   },
   "id": "c18f1eb0e1079016"
  },
  {
   "cell_type": "code",
   "execution_count": 59,
   "outputs": [],
   "source": [
    "df2 = data.copy()\n",
    "conversion = 6.89476\n",
    "\n",
    "df2['Presión de Descarga_EB_1'] = df2['Presión de Descarga_EB_1'].apply(lambda x: x * conversion)\n",
    "df2['Presión de Descarga_EB_2'] = df2['Presión de Descarga_EB_2'].apply(lambda x: x * conversion)"
   ],
   "metadata": {
    "collapsed": false,
    "ExecuteTime": {
     "end_time": "2023-11-21T15:34:17.615650700Z",
     "start_time": "2023-11-21T15:34:17.215364600Z"
    }
   },
   "id": "8aa636c2d0448c13"
  },
  {
   "cell_type": "code",
   "execution_count": 60,
   "outputs": [],
   "source": [
    "from sklearn.preprocessing import StandardScaler\n",
    "\n",
    "excluded_columns = ['tiempo']\n",
    "normalize_columns = [col for col in df2.columns if col not in excluded_columns]\n",
    "\n",
    "scaler = StandardScaler()\n",
    "\n",
    "df_normalized = pd.DataFrame(scaler.fit_transform(df2[normalize_columns]), columns=normalize_columns)\n",
    "df_normalized = pd.concat([df2[excluded_columns], df_normalized], axis=1)\n"
   ],
   "metadata": {
    "collapsed": false,
    "ExecuteTime": {
     "end_time": "2023-11-21T15:34:17.626067500Z",
     "start_time": "2023-11-21T15:34:17.282396900Z"
    }
   },
   "id": "a0655a334549ce45"
  },
  {
   "cell_type": "code",
   "execution_count": 61,
   "outputs": [],
   "source": [
    "df2.rename(columns=\n",
    "           {'tiempo': 'T',\n",
    "            '% Solido  Bombeo concentrado_EB': 'EB%', \n",
    "            'Presión de Descarga_EB_1': 'EB1',\n",
    "            'Presión de Descarga_EB_2': 'EB2',\n",
    "            'Presion_Estación de Valvulas_EV1_1': 'EV1_1',\n",
    "            'Presión estación de valvulas 2_EV2_1': 'EV2_1',\n",
    "            'Presion_Estación de Valvulas_EV1_2': 'EV1_2',\n",
    "            'Presión estación de valvulas 2_EV2_2': 'EV2_2',\n",
    "            'Presión_SM-1': 'SM1',\n",
    "            'Presión_SM-2': 'SM2',\n",
    "            'Presión_SM-3': 'SM3',\n",
    "            'Presión_SM-4': 'SM4',\n",
    "            'Porcentaje de Solido Alimentación Espesador': 'EDT%',\n",
    "            'Presión_EDT_1': 'EDT1',\n",
    "            'Presión_EDT_2': 'EDT2',\n",
    "            'Presión_EDT_3': 'EDT3',\n",
    "            }\n",
    "           , inplace=True)"
   ],
   "metadata": {
    "collapsed": false,
    "ExecuteTime": {
     "end_time": "2023-11-21T15:34:17.626067500Z",
     "start_time": "2023-11-21T15:34:17.362678900Z"
    }
   },
   "id": "27c3b569ba04a654"
  },
  {
   "cell_type": "code",
   "execution_count": 62,
   "outputs": [],
   "source": [
    "df_normalized.rename(columns=\n",
    "           {'tiempo': 'T',\n",
    "            '% Solido  Bombeo concentrado_EB': 'EB%', \n",
    "            'Presión de Descarga_EB_1': 'EB1',\n",
    "            'Presión de Descarga_EB_2': 'EB2',\n",
    "            'Presion_Estación de Valvulas_EV1_1': 'EV1_1',\n",
    "            'Presión estación de valvulas 2_EV2_1': 'EV2_1',\n",
    "            'Presion_Estación de Valvulas_EV1_2': 'EV1_2',\n",
    "            'Presión estación de valvulas 2_EV2_2': 'EV2_2',\n",
    "            'Presión_SM-1': 'SM1',\n",
    "            'Presión_SM-2': 'SM2',\n",
    "            'Presión_SM-3': 'SM3',\n",
    "            'Presión_SM-4': 'SM4',\n",
    "            'Porcentaje de Solido Alimentación Espesador': 'EDT%',\n",
    "            'Presión_EDT_1': 'EDT1',\n",
    "            'Presión_EDT_2': 'EDT2',\n",
    "            'Presión_EDT_3': 'EDT3',\n",
    "            }\n",
    "           , inplace=True)"
   ],
   "metadata": {
    "collapsed": false,
    "ExecuteTime": {
     "end_time": "2023-11-21T15:34:17.695007400Z",
     "start_time": "2023-11-21T15:34:17.372678300Z"
    }
   },
   "id": "6992656e73c98907"
  },
  {
   "cell_type": "code",
   "execution_count": 63,
   "outputs": [],
   "source": [
    "df_normalized = df2 ## TEMPORAL"
   ],
   "metadata": {
    "collapsed": false,
    "ExecuteTime": {
     "end_time": "2023-11-21T15:34:17.696512Z",
     "start_time": "2023-11-21T15:34:17.385683400Z"
    }
   },
   "id": "a87b6a6668c3145"
  },
  {
   "cell_type": "markdown",
   "source": [
    "# Visualización de datos"
   ],
   "metadata": {
    "collapsed": false
   },
   "id": "e9f23a49febbd767"
  },
  {
   "cell_type": "code",
   "execution_count": null,
   "outputs": [],
   "source": [
    "pd.plotting.scatter_matrix(df2)"
   ],
   "metadata": {
    "collapsed": false,
    "ExecuteTime": {
     "start_time": "2023-11-21T15:33:07.590270400Z"
    }
   },
   "id": "78300d1794613a06"
  },
  {
   "cell_type": "code",
   "execution_count": null,
   "outputs": [],
   "source": [
    "pd.plotting.scatter_matrix(df_normalized)"
   ],
   "metadata": {
    "collapsed": false,
    "ExecuteTime": {
     "start_time": "2023-11-21T15:33:07.593275500Z"
    }
   },
   "id": "482f68b19801a9a2"
  },
  {
   "cell_type": "code",
   "execution_count": null,
   "outputs": [],
   "source": [
    "feats = df2.columns.difference(['T'])\n",
    "for feat in df2.columns.difference(['T']):\n",
    " plt.plot(df2['T'], df2[feat])\n",
    "plt.xlabel('T')\n",
    "plt.show()"
   ],
   "metadata": {
    "collapsed": false,
    "ExecuteTime": {
     "start_time": "2023-11-21T15:33:07.596271500Z"
    }
   },
   "id": "7077a0d783bd8b88"
  },
  {
   "cell_type": "code",
   "execution_count": null,
   "outputs": [],
   "source": [
    "for feat in feats:\n",
    " plt.plot(df_normalized['T'], df_normalized[feat])\n",
    "plt.xlabel('T')\n",
    "plt.show()"
   ],
   "metadata": {
    "collapsed": false,
    "ExecuteTime": {
     "start_time": "2023-11-21T15:33:07.598270800Z"
    }
   },
   "id": "4796de97a1204eaf"
  },
  {
   "cell_type": "markdown",
   "source": [
    "### Correlación entre SM2 y EV2\n",
    "Analizando el conjunto de datos, se encontró que, en casos donde la presión de SM2 cambia entre dos tuplas de manera drástica, el cambio se propaga de manera instantánea a la presión de EV2. Esto se puede observar en el siguiente gráfico:"
   ],
   "metadata": {
    "collapsed": false
   },
   "id": "59efd3addd89e6ee"
  },
  {
   "cell_type": "code",
   "execution_count": null,
   "outputs": [],
   "source": [
    "plt.scatter(df_normalized['SM2'], df_normalized['EV1_1'], xlabel='SM2', ylabel='EV1_1')"
   ],
   "metadata": {
    "collapsed": false,
    "ExecuteTime": {
     "start_time": "2023-11-21T15:33:07.599270500Z"
    }
   },
   "id": "d41a3de8aa603b54"
  },
  {
   "cell_type": "code",
   "execution_count": null,
   "outputs": [],
   "source": [
    "plt.scatter(df_normalized['SM4'], df_normalized['EV2_2'])"
   ],
   "metadata": {
    "collapsed": false,
    "ExecuteTime": {
     "start_time": "2023-11-21T15:33:07.601271100Z"
    }
   },
   "id": "2fa97166dc4d6dea"
  },
  {
   "cell_type": "code",
   "execution_count": null,
   "outputs": [],
   "source": [
    "plt.scatter(df_normalized['SM4'], df_normalized['EDT1'])"
   ],
   "metadata": {
    "collapsed": false,
    "ExecuteTime": {
     "start_time": "2023-11-21T15:33:07.602776500Z"
    }
   },
   "id": "bf00c66cfa1b51a3"
  },
  {
   "cell_type": "code",
   "execution_count": null,
   "outputs": [],
   "source": [
    "plt.scatter(df_normalized['SM1'], df_normalized['EB2'])\n"
   ],
   "metadata": {
    "collapsed": false,
    "ExecuteTime": {
     "end_time": "2023-11-21T15:33:07.685467500Z",
     "start_time": "2023-11-21T15:33:07.605783900Z"
    }
   },
   "id": "4e7f981339e9891c"
  },
  {
   "cell_type": "code",
   "execution_count": null,
   "outputs": [],
   "source": [
    "plt.scatter(df_normalized['SM1'], df_normalized['SM2'])"
   ],
   "metadata": {
    "collapsed": false,
    "ExecuteTime": {
     "start_time": "2023-11-21T15:33:07.607783400Z"
    }
   },
   "id": "76905499233657dc"
  },
  {
   "cell_type": "code",
   "execution_count": null,
   "outputs": [],
   "source": [
    "plt.scatter(df_normalized['SM3'], df_normalized['EV2_1'])"
   ],
   "metadata": {
    "collapsed": false,
    "ExecuteTime": {
     "start_time": "2023-11-21T15:33:07.609288Z"
    }
   },
   "id": "a51e534d9b43e5c4"
  },
  {
   "cell_type": "code",
   "execution_count": null,
   "outputs": [],
   "source": [
    "plt.scatter(df_normalized['SM3'], df_normalized['EV1_2'])"
   ],
   "metadata": {
    "collapsed": false,
    "ExecuteTime": {
     "start_time": "2023-11-21T15:33:07.612294500Z"
    }
   },
   "id": "d9cafbda3496cf8"
  },
  {
   "cell_type": "markdown",
   "source": [
    "# Modelo Lineal"
   ],
   "metadata": {
    "collapsed": false
   },
   "id": "7bd9e466bb804cfb"
  },
  {
   "cell_type": "code",
   "execution_count": 64,
   "outputs": [],
   "source": [
    "from sklearn.linear_model import LinearRegression, LassoCV, ElasticNetCV, SGDRegressor\n",
    "from sklearn.ensemble import RandomForestRegressor\n",
    "from sklearn.model_selection import train_test_split\n",
    "from sklearn.metrics import r2_score, mean_absolute_error"
   ],
   "metadata": {
    "collapsed": false,
    "ExecuteTime": {
     "end_time": "2023-11-21T15:38:11.845779300Z",
     "start_time": "2023-11-21T15:38:11.528154Z"
    }
   },
   "id": "41c6ddd220d3144f"
  },
  {
   "cell_type": "markdown",
   "source": [],
   "metadata": {
    "collapsed": false
   },
   "id": "3402e182a7731365"
  },
  {
   "cell_type": "markdown",
   "source": [
    "## Predicción SM1"
   ],
   "metadata": {
    "collapsed": false
   },
   "id": "ecadd5c2d8dd30b2"
  },
  {
   "cell_type": "code",
   "execution_count": 65,
   "outputs": [],
   "source": [
    "X_1 = df_normalized[df_normalized.columns.difference(['T', 'SM1'])]\n",
    "y_1 = df_normalized['SM1']\n",
    "X_train, X_test, y_train, y_test = train_test_split(X_1, y_1, random_state=42, test_size=0.4)"
   ],
   "metadata": {
    "collapsed": false,
    "ExecuteTime": {
     "end_time": "2023-11-21T15:38:11.953338300Z",
     "start_time": "2023-11-21T15:38:11.567001700Z"
    }
   },
   "id": "16b123bc430d1d9d"
  },
  {
   "cell_type": "markdown",
   "source": [
    "### Regresión Linear"
   ],
   "metadata": {
    "collapsed": false
   },
   "id": "355fa93bc955c707"
  },
  {
   "cell_type": "code",
   "execution_count": 66,
   "outputs": [
    {
     "name": "stdout",
     "output_type": "stream",
     "text": [
      "SM1: R2 = 0.7619118923106403, MAE = 1141.0736015973444\n"
     ]
    }
   ],
   "source": [
    "sm1 = LinearRegression()\n",
    "sm1.fit(X_train, y_train)\n",
    "y_pred = sm1.predict(X_test)\n",
    "r2_1 = r2_score(y_test, y_pred)\n",
    "mae_1 = mean_absolute_error(y_test, y_pred)\n",
    "print(f'SM1: R2 = {r2_1}, MAE = {mae_1}')"
   ],
   "metadata": {
    "collapsed": false,
    "ExecuteTime": {
     "end_time": "2023-11-21T15:38:11.982378800Z",
     "start_time": "2023-11-21T15:38:11.684887900Z"
    }
   },
   "id": "478488929f1faded"
  },
  {
   "cell_type": "markdown",
   "source": [
    "Observaciones:\n",
    "Mayor puntuación, con un 30% de datos asignados para validación, con todos los datos de presión en [kPa]"
   ],
   "metadata": {
    "collapsed": false
   },
   "id": "12c26f69183d2dfb"
  },
  {
   "cell_type": "markdown",
   "source": [
    "### Regresión Lasso"
   ],
   "metadata": {
    "collapsed": false
   },
   "id": "ff706b8b8fe05df0"
  },
  {
   "cell_type": "code",
   "execution_count": 67,
   "outputs": [
    {
     "name": "stdout",
     "output_type": "stream",
     "text": [
      "SM1: R2 = 0.7437786713579749, MAE = 1195.3907803464697\n"
     ]
    }
   ],
   "source": [
    "sm1 = LassoCV(max_iter=5000)\n",
    "sm1.fit(X_train, y_train)\n",
    "y_pred = sm1.predict(X_test)\n",
    "r2_1 = r2_score(y_test, y_pred)\n",
    "mae_1 = mean_absolute_error(y_test, y_pred)\n",
    "print(f'SM1: R2 = {r2_1}, MAE = {mae_1}')"
   ],
   "metadata": {
    "collapsed": false,
    "ExecuteTime": {
     "end_time": "2023-11-21T15:38:20.988552700Z",
     "start_time": "2023-11-21T15:38:11.775803200Z"
    }
   },
   "id": "5a250ad581f0ff9a"
  },
  {
   "cell_type": "markdown",
   "source": [
    "En primer intento, se tuvo menor puntaje y problemas de convergencia.\n",
    "Se aumenta número de iteraciones y se obtiene mayor demora, manteniendo puntaje."
   ],
   "metadata": {
    "collapsed": false
   },
   "id": "df8d651d4c016f2"
  },
  {
   "cell_type": "markdown",
   "source": [
    "### Elastic Net"
   ],
   "metadata": {
    "collapsed": false
   },
   "id": "5e2eb9a3931e4c17"
  },
  {
   "cell_type": "code",
   "execution_count": 68,
   "outputs": [
    {
     "name": "stdout",
     "output_type": "stream",
     "text": [
      "SM1: R2 = 0.7206142734963006, MAE = 1250.5607053794197\n"
     ]
    }
   ],
   "source": [
    "sm1 = ElasticNetCV()\n",
    "sm1.fit(X_train, y_train)\n",
    "y_pred = sm1.predict(X_test)\n",
    "r2_1 = r2_score(y_test, y_pred)\n",
    "mae_1 = mean_absolute_error(y_test, y_pred)\n",
    "print(f'SM1: R2 = {r2_1}, MAE = {mae_1}')"
   ],
   "metadata": {
    "collapsed": false,
    "ExecuteTime": {
     "end_time": "2023-11-21T15:38:22.752407Z",
     "start_time": "2023-11-21T15:38:20.994569Z"
    }
   },
   "id": "843343358e71d088"
  },
  {
   "cell_type": "markdown",
   "source": [
    "### SGD"
   ],
   "metadata": {
    "collapsed": false
   },
   "id": "180129a43982176d"
  },
  {
   "cell_type": "code",
   "execution_count": 69,
   "outputs": [
    {
     "name": "stdout",
     "output_type": "stream",
     "text": [
      "SM1: R2 = -2.0113713927020896e+25, MAE = 1.1723133168805562e+16\n"
     ]
    }
   ],
   "source": [
    "sm1 = SGDRegressor()\n",
    "sm1.fit(X_train, y_train)\n",
    "y_pred = sm1.predict(X_test)\n",
    "r2_1 = r2_score(y_test, y_pred)\n",
    "mae_1 = mean_absolute_error(y_test, y_pred)\n",
    "print(f'SM1: R2 = {r2_1}, MAE = {mae_1}')"
   ],
   "metadata": {
    "collapsed": false,
    "ExecuteTime": {
     "end_time": "2023-11-21T15:38:28.182402800Z",
     "start_time": "2023-11-21T15:38:22.746408200Z"
    }
   },
   "id": "d4c34de384a34094"
  },
  {
   "cell_type": "markdown",
   "source": [
    "### Random Forest"
   ],
   "metadata": {
    "collapsed": false
   },
   "id": "cbe0f04572730352"
  },
  {
   "cell_type": "raw",
   "source": [
    "sm1 = RandomForestRegressor()\n",
    "sm1.fit(X_train, y_train)\n",
    "y_pred = sm1.predict(X_test)\n",
    "r2_1 = r2_score(y_test, y_pred)\n",
    "mae_1 = mean_absolute_error(y_test, y_pred)\n",
    "print(f'SM1: R2 = {r2_1}, MAE = {mae_1}')"
   ],
   "metadata": {
    "collapsed": false
   },
   "id": "b1e347f63d7c9b5d"
  },
  {
   "cell_type": "markdown",
   "source": [
    "Observaciones:\n",
    "Entrenamiento lento, fuera de plazo máximo. Descartado."
   ],
   "metadata": {
    "collapsed": false
   },
   "id": "774c3b6149104"
  },
  {
   "cell_type": "markdown",
   "source": [
    "## Predicción SM2\n",
    "Luego del análisis explorativo, se encontró una alta correlación entre las mediciones de SM2 y EV1, por lo cual se escogen sus sensores como únicas entradas del modelo."
   ],
   "metadata": {
    "collapsed": false
   },
   "id": "d267fc0798bf354d"
  },
  {
   "cell_type": "code",
   "execution_count": 71,
   "outputs": [],
   "source": [
    "X_2 = df_normalized[['EV1_1', 'EV1_2']] #['EV1_1'].array.reshape(-1, 1)# df_normalized[df_normalized.columns.difference(['T', 'SM2'])]\n",
    "y_2 = df_normalized['SM2']\n",
    "X_2_train, X_2_test, y_2_train, y_2_test = train_test_split(X_2, y_2, random_state=42, test_size=0.4)"
   ],
   "metadata": {
    "collapsed": false,
    "ExecuteTime": {
     "end_time": "2023-11-21T15:38:57.162643900Z",
     "start_time": "2023-11-21T15:38:56.991847900Z"
    }
   },
   "id": "a6297bd57a8bfd40"
  },
  {
   "cell_type": "markdown",
   "source": [
    "### Regresión Linear"
   ],
   "metadata": {
    "collapsed": false
   },
   "id": "f992c9dc73c9fa66"
  },
  {
   "cell_type": "code",
   "execution_count": 72,
   "outputs": [
    {
     "name": "stdout",
     "output_type": "stream",
     "text": [
      "SM2: R2 = 0.9951879786633565, MAE = 92.02318713802477\n"
     ]
    }
   ],
   "source": [
    "sm2 = LinearRegression()\n",
    "sm2.fit(X_2_train, y_2_train)\n",
    "y_2_pred = sm2.predict(X_2_test)\n",
    "r2_2 = r2_score(y_2_test, y_2_pred)\n",
    "mae_2 = mean_absolute_error(y_2_test, y_2_pred)\n",
    "print(f'SM2: R2 = {r2_2}, MAE = {mae_2}')"
   ],
   "metadata": {
    "collapsed": false,
    "ExecuteTime": {
     "end_time": "2023-11-21T15:38:57.171643200Z",
     "start_time": "2023-11-21T15:38:57.030693300Z"
    }
   },
   "id": "ac0a21d18c824c64"
  },
  {
   "cell_type": "markdown",
   "source": [
    "Observaciones:\n",
    "Evaluando indivdualmente, al considerar solo la medición de entrada de EV1, se obtiene una puntuación de R2 = 0.9948631933284161, MAE = 0.061770157769054965; considerando entrada y salida de EV1, se obtiene R2 = 0.9951739335689458, MAE = 0.06143409021178661."
   ],
   "metadata": {
    "collapsed": false
   },
   "id": "4307d189f2658244"
  },
  {
   "cell_type": "markdown",
   "source": [
    "## Predicción SM3\n",
    "Luego del análisis explorativo, se encontró una correlación entre las mediciones de SM3 y EV1, y entre SM3 y EB2."
   ],
   "metadata": {
    "collapsed": false
   },
   "id": "29003c3acba84a7a"
  },
  {
   "cell_type": "code",
   "execution_count": 73,
   "outputs": [],
   "source": [
    "X_3 = df_normalized[['EV1_2', 'EV2_1']]\n",
    "y_3 = df_normalized['SM3']\n",
    "X_3_train, X_3_test, y_3_train, y_3_test = train_test_split(X_3, y_3, random_state=42, test_size=0.4)"
   ],
   "metadata": {
    "collapsed": false,
    "ExecuteTime": {
     "end_time": "2023-11-21T15:38:57.196161500Z",
     "start_time": "2023-11-21T15:38:57.062256600Z"
    }
   },
   "id": "a0aeded01b1f3f9e"
  },
  {
   "cell_type": "markdown",
   "source": [
    "### Regresión Linear"
   ],
   "metadata": {
    "collapsed": false
   },
   "id": "e11fb0884284e236"
  },
  {
   "cell_type": "code",
   "execution_count": 74,
   "outputs": [
    {
     "name": "stdout",
     "output_type": "stream",
     "text": [
      "SM3: R2 = 0.8643170593568688, MAE = 299.19840348020784\n"
     ]
    }
   ],
   "source": [
    "sm3 = LinearRegression()\n",
    "sm3.fit(X_3_train, y_3_train)\n",
    "y_3_pred = sm3.predict(X_3_test) \n",
    "r2_3 = r2_score(y_3_test, y_3_pred)\n",
    "mae_3 = mean_absolute_error(y_3_test, y_3_pred)\n",
    "print(f'SM3: R2 = {r2_3}, MAE = {mae_3}')"
   ],
   "metadata": {
    "collapsed": false,
    "ExecuteTime": {
     "end_time": "2023-11-21T15:38:57.198160300Z",
     "start_time": "2023-11-21T15:38:57.094289500Z"
    }
   },
   "id": "eb0e88ae4ebb4b0"
  },
  {
   "cell_type": "markdown",
   "source": [
    "Observaciones:\n",
    "Evaluando indivdualmente, al considerar solo la medición de salida de EV1, se obtiene una puntuación de R2 = 0.757428290149249, MAE = 0.36624686002811024; y considerando solo la medición de entrada de EV2, se obtiene R2 = 0.5894141038841055, MAE = 0.44782809908607935.\n",
    "Considerando ambas mediciones, se obtiene R2 = 0.8643364789365919, MAE = 0.27408716724892734"
   ],
   "metadata": {
    "collapsed": false
   },
   "id": "585c29a8c6a8f7f2"
  },
  {
   "cell_type": "markdown",
   "source": [
    "## Predicción SM4\n",
    "Luego del análisis explorativo, se encontró una correlación  entre las mediciones de SM4 y EV2, y entre SM4 y EDT1."
   ],
   "metadata": {
    "collapsed": false
   },
   "id": "e323a887a7135cc"
  },
  {
   "cell_type": "code",
   "execution_count": 75,
   "outputs": [],
   "source": [
    "X_4 = df_normalized[['EV2_2', 'EDT1']] \n",
    "y_4 = df_normalized['SM4']\n",
    "X_4_train, X_4_test, y_4_train, y_4_test = train_test_split(X_4, y_4, random_state=42, test_size=0.4)"
   ],
   "metadata": {
    "collapsed": false,
    "ExecuteTime": {
     "end_time": "2023-11-21T15:38:57.198160300Z",
     "start_time": "2023-11-21T15:38:57.123802600Z"
    }
   },
   "id": "5c3674fa6a06f76c"
  },
  {
   "cell_type": "markdown",
   "source": [
    "### Regresión Linear"
   ],
   "metadata": {
    "collapsed": false
   },
   "id": "14e1ea27dc7323da"
  },
  {
   "cell_type": "code",
   "execution_count": 76,
   "outputs": [
    {
     "name": "stdout",
     "output_type": "stream",
     "text": [
      "SM4: R2 = 0.7570600063897843, MAE = 243.69239360067135\n"
     ]
    }
   ],
   "source": [
    "sm4 = LinearRegression()\n",
    "sm4.fit(X_4_train, y_4_train)\n",
    "y_4_pred = sm4.predict(X_4_test)\n",
    "r2_4 = r2_score(y_4_test, y_4_pred)\n",
    "mae_4 = mean_absolute_error(y_4_test, y_4_pred)\n",
    "print(f'SM4: R2 = {r2_4}, MAE = {mae_4}')"
   ],
   "metadata": {
    "collapsed": false,
    "ExecuteTime": {
     "end_time": "2023-11-21T15:38:57.306899900Z",
     "start_time": "2023-11-21T15:38:57.157310600Z"
    }
   },
   "id": "6c80fb3c60f1c452"
  },
  {
   "cell_type": "markdown",
   "source": [],
   "metadata": {
    "collapsed": false
   },
   "id": "eda8d0ceba75be7b"
  }
 ],
 "metadata": {
  "kernelspec": {
   "display_name": "Python 3",
   "language": "python",
   "name": "python3"
  },
  "language_info": {
   "codemirror_mode": {
    "name": "ipython",
    "version": 2
   },
   "file_extension": ".py",
   "mimetype": "text/x-python",
   "name": "python",
   "nbconvert_exporter": "python",
   "pygments_lexer": "ipython2",
   "version": "2.7.6"
  }
 },
 "nbformat": 4,
 "nbformat_minor": 5
}
