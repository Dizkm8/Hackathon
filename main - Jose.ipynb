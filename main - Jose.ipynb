{
 "cells": [
  {
   "cell_type": "markdown",
   "id": "5760456efb47f7dd",
   "metadata": {},
   "source": [
    "# Hackathon"
   ]
  },
  {
   "cell_type": "code",
   "execution_count": 1,
   "id": "initial_id",
   "metadata": {
    "ExecuteTime": {
     "end_time": "2023-11-22T17:29:42.127358100Z",
     "start_time": "2023-11-22T17:29:29.886923100Z"
    }
   },
   "outputs": [],
   "source": [
    "import pandas as pd\n",
    "import matplotlib.pyplot as plt\n",
    "import numpy as np\n",
    "from sklearn.base import clone as clone_model\n",
    "from sklearn.linear_model import LinearRegression, LassoCV, ElasticNetCV, SGDRegressor\n",
    "from sklearn.preprocessing import PolynomialFeatures, StandardScaler\n",
    "from sklearn.pipeline import make_pipeline\n",
    "from sklearn.model_selection import GridSearchCV, cross_validate\n",
    "from xgboost import XGBRegressor\n",
    "from sklearn.model_selection import train_test_split\n",
    "from sklearn.metrics import r2_score, mean_absolute_error, mean_squared_error"
   ]
  },
  {
   "cell_type": "code",
   "execution_count": 2,
   "outputs": [],
   "source": [
    "columns_rename = {\n",
    " 'tiempo': 'T',\n",
    " '% Solido  Bombeo concentrado_EB': 'EB%', \n",
    " 'Presión de Descarga_EB_1': 'EB1',\n",
    " 'Presión de Descarga_EB_2': 'EB2',\n",
    " 'Presion_Estación de Valvulas_EV1_1': 'EV1_1',\n",
    " 'Presión estación de valvulas 2_EV2_1': 'EV2_1',\n",
    " 'Presion_Estación de Valvulas_EV1_2': 'EV1_2',\n",
    " 'Presión estación de valvulas 2_EV2_2': 'EV2_2',\n",
    " 'Presión_SM-1': 'SM1',\n",
    " 'Presión_SM-2': 'SM2',\n",
    " 'Presión_SM-3': 'SM3',\n",
    " 'Presión_SM-4': 'SM4',\n",
    " 'Porcentaje de Solido Alimentación Espesador': 'EDT%',\n",
    " 'Presión_EDT_1': 'EDT1',\n",
    " 'Presión_EDT_2': 'EDT2',\n",
    " 'Presión_EDT_3': 'EDT3'\n",
    "}"
   ],
   "metadata": {
    "collapsed": false,
    "ExecuteTime": {
     "end_time": "2023-11-22T17:29:42.151773300Z",
     "start_time": "2023-11-22T17:29:42.127358100Z"
    }
   },
   "id": "e0c660306b9bee83"
  },
  {
   "cell_type": "markdown",
   "id": "3c6e41ea4eec974c",
   "metadata": {},
   "source": [
    "# Solución final"
   ]
  },
  {
   "cell_type": "code",
   "execution_count": 3,
   "id": "7d489bd9e96590ca",
   "metadata": {
    "ExecuteTime": {
     "end_time": "2023-11-22T17:30:08.555970Z",
     "start_time": "2023-11-22T17:29:42.135486500Z"
    }
   },
   "outputs": [],
   "source": [
    "final_data = pd.read_excel('Data_test_hakcathon_CEN.xlsx')\n",
    "train_data = pd.read_excel('Hack_concentraducto_v01.xlsx', sheet_name='Data_Hackathon')"
   ]
  },
  {
   "cell_type": "code",
   "execution_count": 4,
   "outputs": [],
   "source": [
    "final_data.rename(columns=columns_rename, inplace=True)\n",
    "train_data.rename(columns=columns_rename, inplace=True)"
   ],
   "metadata": {
    "collapsed": false,
    "ExecuteTime": {
     "end_time": "2023-11-22T17:30:08.581333200Z",
     "start_time": "2023-11-22T17:30:08.555970Z"
    }
   },
   "id": "798b60f9f63c27bd"
  },
  {
   "cell_type": "code",
   "execution_count": 5,
   "outputs": [],
   "source": [
    "models = dict()\n",
    "pretrained_models = dict()"
   ],
   "metadata": {
    "collapsed": false,
    "ExecuteTime": {
     "end_time": "2023-11-22T17:30:08.637026800Z",
     "start_time": "2023-11-22T17:30:08.581333200Z"
    }
   },
   "id": "c224d22b97badd11"
  },
  {
   "cell_type": "markdown",
   "source": [
    "## Modelo SM1"
   ],
   "metadata": {
    "collapsed": false
   },
   "id": "f75483aa50460d1c"
  },
  {
   "cell_type": "code",
   "execution_count": 6,
   "outputs": [],
   "source": [
    "sm1_model = XGBRegressor(random_state=42, n_estimators=175, learning_rate=0.302, reg_lambda=1, reg_alpha=0.5)\n",
    "models['SM1'] = clone_model(sm1_model)"
   ],
   "metadata": {
    "collapsed": false,
    "ExecuteTime": {
     "end_time": "2023-11-22T17:30:08.637026800Z",
     "start_time": "2023-11-22T17:30:08.590183500Z"
    }
   },
   "id": "19d6a1ba0a78e840"
  },
  {
   "cell_type": "code",
   "execution_count": 7,
   "outputs": [],
   "source": [
    "sm1_model.fit(train_data[['EB%','EB1','EB2','SM2','EV1_1']], train_data['SM1'])\n",
    "pretrained_models['SM1'] = sm1_model"
   ],
   "metadata": {
    "collapsed": false,
    "ExecuteTime": {
     "end_time": "2023-11-22T17:30:09.628116300Z",
     "start_time": "2023-11-22T17:30:08.609131Z"
    }
   },
   "id": "dde1dc252d6d24a7"
  },
  {
   "cell_type": "markdown",
   "source": [
    "## Modelo SM2"
   ],
   "metadata": {
    "collapsed": false
   },
   "id": "bfcf5cba77047f8a"
  },
  {
   "cell_type": "code",
   "execution_count": 8,
   "outputs": [],
   "source": [
    "sm2_model = make_pipeline(PolynomialFeatures(degree=4),  LinearRegression())\n",
    "models['SM2'] = clone_model(sm2_model)"
   ],
   "metadata": {
    "collapsed": false,
    "ExecuteTime": {
     "end_time": "2023-11-22T17:30:09.651355900Z",
     "start_time": "2023-11-22T17:30:09.628116300Z"
    }
   },
   "id": "46b4dd3174ec1670"
  },
  {
   "cell_type": "code",
   "execution_count": 9,
   "outputs": [],
   "source": [
    "sm2_model.fit(train_data[['EV1_1', 'EV1_2']], train_data['SM2'])\n",
    "pretrained_models['SM2'] = sm2_model"
   ],
   "metadata": {
    "collapsed": false,
    "ExecuteTime": {
     "end_time": "2023-11-22T17:30:09.755723600Z",
     "start_time": "2023-11-22T17:30:09.645660900Z"
    }
   },
   "id": "66f849a40821e9bb"
  },
  {
   "cell_type": "markdown",
   "source": [
    "## Modelo SM3"
   ],
   "metadata": {
    "collapsed": false
   },
   "id": "df1edbc2b20e4697"
  },
  {
   "cell_type": "code",
   "execution_count": 10,
   "outputs": [],
   "source": [
    "sm3_model = XGBRegressor(random_state=42, n_estimators=175, learning_rate=0.302, reg_lambda=1, reg_alpha=0.5)\n",
    "models['SM3'] = clone_model(sm3_model)"
   ],
   "metadata": {
    "collapsed": false,
    "ExecuteTime": {
     "end_time": "2023-11-22T17:30:09.779703400Z",
     "start_time": "2023-11-22T17:30:09.755723600Z"
    }
   },
   "id": "cede5d4ae4d1c9fc"
  },
  {
   "cell_type": "code",
   "execution_count": 11,
   "outputs": [],
   "source": [
    "sm3_model.fit(train_data[['SM2', 'EV1_2', 'EV2_1', 'EV2_2']], train_data['SM3'])\n",
    "pretrained_models['SM3'] = sm3_model"
   ],
   "metadata": {
    "collapsed": false,
    "ExecuteTime": {
     "end_time": "2023-11-22T17:30:10.546460200Z",
     "start_time": "2023-11-22T17:30:09.775694300Z"
    }
   },
   "id": "77468508abe2fdf"
  },
  {
   "cell_type": "markdown",
   "source": [
    "## Modelo SM4"
   ],
   "metadata": {
    "collapsed": false
   },
   "id": "98ef0eb4f01f7dd1"
  },
  {
   "cell_type": "code",
   "execution_count": 12,
   "outputs": [],
   "source": [
    "sm4_model = XGBRegressor(random_state=42, n_estimators=175, learning_rate=0.302, reg_lambda=1, reg_alpha=0.5)\n",
    "models['SM4'] = clone_model(sm4_model)"
   ],
   "metadata": {
    "collapsed": false,
    "ExecuteTime": {
     "end_time": "2023-11-22T17:30:10.568613400Z",
     "start_time": "2023-11-22T17:30:10.546460200Z"
    }
   },
   "id": "b5fca45ea4c8c6f0"
  },
  {
   "cell_type": "code",
   "execution_count": 13,
   "outputs": [],
   "source": [
    "sm4_model.fit(train_data[['EV2_1','EV2_2', 'EDT%', 'EDT1']], train_data['SM4'])\n",
    "pretrained_models['SM4'] = sm4_model"
   ],
   "metadata": {
    "collapsed": false,
    "ExecuteTime": {
     "end_time": "2023-11-22T17:30:11.300028400Z",
     "start_time": "2023-11-22T17:30:10.560578700Z"
    }
   },
   "id": "a169f7938fafdc58"
  },
  {
   "cell_type": "markdown",
   "source": [
    "## Predicción de datos faltantes"
   ],
   "metadata": {
    "collapsed": false
   },
   "id": "6660d3e60e46bbba"
  },
  {
   "cell_type": "markdown",
   "source": [],
   "metadata": {
    "collapsed": false
   },
   "id": "294348c75749c3ea"
  },
  {
   "cell_type": "code",
   "execution_count": 14,
   "outputs": [],
   "source": [
    "y_1 = final_data['SM1']\n",
    "y_1_targets = y_1.isna()\n",
    "X_1 = final_data[y_1_targets][['EB%','EB1','EB2','SM2','EV1_1']]\n",
    "y_1_pred = pretrained_models['SM1'].predict(X_1)\n",
    "final_data.loc[y_1_targets, 'SM1'] = y_1_pred"
   ],
   "metadata": {
    "collapsed": false,
    "ExecuteTime": {
     "end_time": "2023-11-22T17:30:11.327576800Z",
     "start_time": "2023-11-22T17:30:11.300028400Z"
    }
   },
   "id": "7e46c172c1b4900f"
  },
  {
   "cell_type": "markdown",
   "source": [
    "### SM2"
   ],
   "metadata": {
    "collapsed": false
   },
   "id": "a0b3e22e507197b5"
  },
  {
   "cell_type": "code",
   "execution_count": 15,
   "outputs": [],
   "source": [
    "y_2 = final_data['SM2']\n",
    "y_2_targets = y_2.isna()\n",
    "X_2 = final_data[y_2_targets][['EV1_1', 'EV1_2']]\n",
    "y_2_pred = pretrained_models['SM2'].predict(X_2)\n",
    "final_data.loc[y_2_targets, 'SM2'] = y_2_pred"
   ],
   "metadata": {
    "collapsed": false,
    "ExecuteTime": {
     "end_time": "2023-11-22T17:30:11.414033200Z",
     "start_time": "2023-11-22T17:30:11.316071600Z"
    }
   },
   "id": "428437fd747bf42"
  },
  {
   "cell_type": "markdown",
   "source": [
    "### SM3"
   ],
   "metadata": {
    "collapsed": false
   },
   "id": "75334b62211012b1"
  },
  {
   "cell_type": "code",
   "execution_count": 16,
   "outputs": [],
   "source": [
    "y_3 = final_data['SM3']\n",
    "y_3_targets = y_3.isna()\n",
    "X_3 = final_data[y_3_targets][['SM2', 'EV1_2', 'EV2_1', 'EV2_2']]\n",
    "y_3_pred = pretrained_models['SM3'].predict(X_3)\n",
    "final_data.loc[y_3_targets, 'SM3'] = y_3_pred"
   ],
   "metadata": {
    "collapsed": false,
    "ExecuteTime": {
     "end_time": "2023-11-22T17:30:11.414033200Z",
     "start_time": "2023-11-22T17:30:11.335596200Z"
    }
   },
   "id": "97da369bf9d5270a"
  },
  {
   "cell_type": "markdown",
   "source": [
    "### SM4"
   ],
   "metadata": {
    "collapsed": false
   },
   "id": "b6a8e46f4080eb05"
  },
  {
   "cell_type": "code",
   "execution_count": 17,
   "outputs": [],
   "source": [
    "y_4 = final_data['SM4']\n",
    "y_4_targets = y_4.isna()\n",
    "X_4 = final_data[y_4_targets][['EV2_1','EV2_2', 'EDT%', 'EDT1']]\n",
    "y_4_pred = pretrained_models['SM4'].predict(X_4)\n",
    "final_data.loc[y_4_targets, 'SM4'] = y_4_pred"
   ],
   "metadata": {
    "collapsed": false,
    "ExecuteTime": {
     "end_time": "2023-11-22T17:30:11.414033200Z",
     "start_time": "2023-11-22T17:30:11.357354700Z"
    }
   },
   "id": "9057f26e86cb36c9"
  },
  {
   "cell_type": "markdown",
   "source": [
    "## Exportado de datos finales"
   ],
   "metadata": {
    "collapsed": false
   },
   "id": "7893e2bb90e26ac"
  },
  {
   "cell_type": "code",
   "execution_count": 18,
   "outputs": [],
   "source": [
    "final_data.to_excel('Data_test_hackathon_CEN_final_Team_ARCA.xlsx', index=False)"
   ],
   "metadata": {
    "collapsed": false,
    "ExecuteTime": {
     "end_time": "2023-11-22T17:30:14.263454900Z",
     "start_time": "2023-11-22T17:30:11.385665100Z"
    }
   },
   "id": "cbd0c70b701a58d8"
  },
  {
   "cell_type": "markdown",
   "id": "a97ae6090ccf4eaa",
   "metadata": {},
   "source": [
    "# Trabajo de desarrollo y selección de modelos"
   ]
  },
  {
   "cell_type": "code",
   "execution_count": 19,
   "id": "6a1ee7894e64d3af",
   "metadata": {
    "ExecuteTime": {
     "end_time": "2023-11-22T17:30:46.884526300Z",
     "start_time": "2023-11-22T17:30:14.263454900Z"
    }
   },
   "outputs": [
    {
     "data": {
      "text/plain": "               tiempo  % Solido  Bombeo concentrado_EB  \\\n0 2023-01-01 00:00:00                        60.305771   \n1 2023-01-01 00:03:00                        60.316761   \n2 2023-01-01 00:06:00                        60.327747   \n3 2023-01-01 00:09:00                        60.338734   \n4 2023-01-01 00:12:00                        60.350990   \n\n   Presión de Descarga_EB_1  Presión de Descarga_EB_2  \\\n0                 -0.663051               1625.289917   \n1                 -0.663393               1625.912354   \n2                 -0.663736               1626.534790   \n3                 -0.664078               1627.157349   \n4                 -0.664420               1627.779785   \n\n   Presion_Estación de Valvulas_EV1_1  Presion_Estación de Valvulas_EV1_2  \\\n0                         3662.116943                         3653.241699   \n1                         3666.185059                         3657.404053   \n2                         3670.252930                         3661.566406   \n3                         3674.321045                         3665.728760   \n4                         3678.389160                         3669.891357   \n\n   Presión_SM-1  Presión_SM-2  Presión estación de valvulas 2_EV2_1  \\\n0  16701.179688   3040.474121                           3330.878174   \n1  16702.007812   3044.661621                           3335.265137   \n2  16702.835938   3048.849121                           3339.652100   \n3  16703.664062   3053.036621                           3344.039062   \n4  16704.492188   3057.224121                           3348.426025   \n\n   Presión estación de valvulas 2_EV2_2  \\\n0                           3303.286377   \n1                           3307.434814   \n2                           3311.583252   \n3                           3315.731689   \n4                           3319.880127   \n\n   Porcentaje de Solido Alimentación Espesador  Presión_EDT_1  Presión_EDT_2  \\\n0                                    59.756073   10653.394531    8614.203125   \n1                                    59.675354   10658.351562    8619.733398   \n2                                    59.709515   10658.579102    8621.905273   \n3                                    59.712528   10663.964844    8622.951172   \n4                                    59.747906   10667.239258    8625.802734   \n\n   Presión_EDT_3  Presión_SM-3  Presión_SM-4  \n0     321.568634   2477.526611   1647.383789  \n1     320.516357   2484.498535   1650.932861  \n2     321.340149   2489.650879   1653.877686  \n3     321.454895   2493.044678   1656.922974  \n4     322.045898   2498.507568   1662.279785  ",
      "text/html": "<div>\n<style scoped>\n    .dataframe tbody tr th:only-of-type {\n        vertical-align: middle;\n    }\n\n    .dataframe tbody tr th {\n        vertical-align: top;\n    }\n\n    .dataframe thead th {\n        text-align: right;\n    }\n</style>\n<table border=\"1\" class=\"dataframe\">\n  <thead>\n    <tr style=\"text-align: right;\">\n      <th></th>\n      <th>tiempo</th>\n      <th>% Solido  Bombeo concentrado_EB</th>\n      <th>Presión de Descarga_EB_1</th>\n      <th>Presión de Descarga_EB_2</th>\n      <th>Presion_Estación de Valvulas_EV1_1</th>\n      <th>Presion_Estación de Valvulas_EV1_2</th>\n      <th>Presión_SM-1</th>\n      <th>Presión_SM-2</th>\n      <th>Presión estación de valvulas 2_EV2_1</th>\n      <th>Presión estación de valvulas 2_EV2_2</th>\n      <th>Porcentaje de Solido Alimentación Espesador</th>\n      <th>Presión_EDT_1</th>\n      <th>Presión_EDT_2</th>\n      <th>Presión_EDT_3</th>\n      <th>Presión_SM-3</th>\n      <th>Presión_SM-4</th>\n    </tr>\n  </thead>\n  <tbody>\n    <tr>\n      <th>0</th>\n      <td>2023-01-01 00:00:00</td>\n      <td>60.305771</td>\n      <td>-0.663051</td>\n      <td>1625.289917</td>\n      <td>3662.116943</td>\n      <td>3653.241699</td>\n      <td>16701.179688</td>\n      <td>3040.474121</td>\n      <td>3330.878174</td>\n      <td>3303.286377</td>\n      <td>59.756073</td>\n      <td>10653.394531</td>\n      <td>8614.203125</td>\n      <td>321.568634</td>\n      <td>2477.526611</td>\n      <td>1647.383789</td>\n    </tr>\n    <tr>\n      <th>1</th>\n      <td>2023-01-01 00:03:00</td>\n      <td>60.316761</td>\n      <td>-0.663393</td>\n      <td>1625.912354</td>\n      <td>3666.185059</td>\n      <td>3657.404053</td>\n      <td>16702.007812</td>\n      <td>3044.661621</td>\n      <td>3335.265137</td>\n      <td>3307.434814</td>\n      <td>59.675354</td>\n      <td>10658.351562</td>\n      <td>8619.733398</td>\n      <td>320.516357</td>\n      <td>2484.498535</td>\n      <td>1650.932861</td>\n    </tr>\n    <tr>\n      <th>2</th>\n      <td>2023-01-01 00:06:00</td>\n      <td>60.327747</td>\n      <td>-0.663736</td>\n      <td>1626.534790</td>\n      <td>3670.252930</td>\n      <td>3661.566406</td>\n      <td>16702.835938</td>\n      <td>3048.849121</td>\n      <td>3339.652100</td>\n      <td>3311.583252</td>\n      <td>59.709515</td>\n      <td>10658.579102</td>\n      <td>8621.905273</td>\n      <td>321.340149</td>\n      <td>2489.650879</td>\n      <td>1653.877686</td>\n    </tr>\n    <tr>\n      <th>3</th>\n      <td>2023-01-01 00:09:00</td>\n      <td>60.338734</td>\n      <td>-0.664078</td>\n      <td>1627.157349</td>\n      <td>3674.321045</td>\n      <td>3665.728760</td>\n      <td>16703.664062</td>\n      <td>3053.036621</td>\n      <td>3344.039062</td>\n      <td>3315.731689</td>\n      <td>59.712528</td>\n      <td>10663.964844</td>\n      <td>8622.951172</td>\n      <td>321.454895</td>\n      <td>2493.044678</td>\n      <td>1656.922974</td>\n    </tr>\n    <tr>\n      <th>4</th>\n      <td>2023-01-01 00:12:00</td>\n      <td>60.350990</td>\n      <td>-0.664420</td>\n      <td>1627.779785</td>\n      <td>3678.389160</td>\n      <td>3669.891357</td>\n      <td>16704.492188</td>\n      <td>3057.224121</td>\n      <td>3348.426025</td>\n      <td>3319.880127</td>\n      <td>59.747906</td>\n      <td>10667.239258</td>\n      <td>8625.802734</td>\n      <td>322.045898</td>\n      <td>2498.507568</td>\n      <td>1662.279785</td>\n    </tr>\n  </tbody>\n</table>\n</div>"
     },
     "execution_count": 19,
     "metadata": {},
     "output_type": "execute_result"
    }
   ],
   "source": [
    "data = pd.read_excel('Hack_concentraducto_v01.xlsx', sheet_name='Data_Hackathon')\n",
    "df1 = data.copy()\n",
    "df1.head()"
   ]
  },
  {
   "cell_type": "code",
   "execution_count": 20,
   "id": "318c4a25a3cb2c1c",
   "metadata": {
    "ExecuteTime": {
     "end_time": "2023-11-22T17:30:46.926956Z",
     "start_time": "2023-11-22T17:30:46.881411200Z"
    }
   },
   "outputs": [
    {
     "data": {
      "text/plain": "tiempo                                         0\n% Solido  Bombeo concentrado_EB                0\nPresión de Descarga_EB_1                       0\nPresión de Descarga_EB_2                       0\nPresion_Estación de Valvulas_EV1_1             0\nPresion_Estación de Valvulas_EV1_2             0\nPresión_SM-1                                   0\nPresión_SM-2                                   0\nPresión estación de valvulas 2_EV2_1           0\nPresión estación de valvulas 2_EV2_2           0\nPorcentaje de Solido Alimentación Espesador    0\nPresión_EDT_1                                  0\nPresión_EDT_2                                  0\nPresión_EDT_3                                  0\nPresión_SM-3                                   0\nPresión_SM-4                                   0\ndtype: int64"
     },
     "execution_count": 20,
     "metadata": {},
     "output_type": "execute_result"
    }
   ],
   "source": [
    "df1.isnull().sum()"
   ]
  },
  {
   "cell_type": "code",
   "execution_count": 21,
   "id": "ed34686e5413df11",
   "metadata": {
    "ExecuteTime": {
     "end_time": "2023-11-22T17:30:47.014010300Z",
     "start_time": "2023-11-22T17:30:46.904468300Z"
    }
   },
   "outputs": [
    {
     "data": {
      "text/plain": "43.04818888272726"
     },
     "execution_count": 21,
     "metadata": {},
     "output_type": "execute_result"
    }
   ],
   "source": [
    "mean_concentrated = df1[\"% Solido  Bombeo concentrado_EB\"].mean()\n",
    "mean_concentrated"
   ]
  },
  {
   "cell_type": "code",
   "execution_count": 22,
   "id": "7289cbd6e5d00727",
   "metadata": {
    "ExecuteTime": {
     "end_time": "2023-11-22T17:30:47.128588300Z",
     "start_time": "2023-11-22T17:30:46.915957200Z"
    }
   },
   "outputs": [
    {
     "data": {
      "text/plain": "-7.87132453918457"
     },
     "execution_count": 22,
     "metadata": {},
     "output_type": "execute_result"
    }
   ],
   "source": [
    "min_concentrated = df1[\"Presión de Descarga_EB_1\"].min()\n",
    "min_concentrated"
   ]
  },
  {
   "cell_type": "markdown",
   "id": "c18f1eb0e1079016",
   "metadata": {},
   "source": [
    "# Preprocesamiento\n",
    "## Conversión de datos"
   ]
  },
  {
   "cell_type": "code",
   "execution_count": 23,
   "id": "48714c5da0190ea2",
   "metadata": {
    "ExecuteTime": {
     "end_time": "2023-11-22T17:30:47.129687700Z",
     "start_time": "2023-11-22T17:30:46.932220300Z"
    }
   },
   "outputs": [],
   "source": [
    "df2 = data.copy()\n",
    "df2.rename(columns=columns_rename, inplace=True)"
   ]
  },
  {
   "cell_type": "markdown",
   "source": [
    "### Conversión de presiones"
   ],
   "metadata": {
    "collapsed": false
   },
   "id": "da98fedd5b1dc982"
  },
  {
   "cell_type": "code",
   "execution_count": 24,
   "id": "8aa636c2d0448c13",
   "metadata": {
    "ExecuteTime": {
     "end_time": "2023-11-22T17:30:47.184904200Z",
     "start_time": "2023-11-22T17:30:46.956732Z"
    }
   },
   "outputs": [],
   "source": [
    "conversion = 6.89476\n",
    "\n",
    "df2[['EB1','EB2']] = df2[['EB1','EB2']].apply(lambda x: x * conversion)"
   ]
  },
  {
   "cell_type": "markdown",
   "source": [
    "### Normalización de datos\n",
    "El resultado de esta etapa fue utilizado para el análisis exploratorio de datos, pero no se considero esta transformación para los modelos finales, ya que en los modelos escogidos, no generaban diferencias, y se quiso evitar transformaciones innecesesarias entre las medidas (puesto que, si se normalizaban los datos, se debería hacer la transformación inversa para obtener los valores reales)."
   ],
   "metadata": {
    "collapsed": false
   },
   "id": "c49eae48f20196f"
  },
  {
   "cell_type": "code",
   "execution_count": 25,
   "id": "a0655a334549ce45",
   "metadata": {
    "ExecuteTime": {
     "end_time": "2023-11-22T17:30:47.344217800Z",
     "start_time": "2023-11-22T17:30:46.981402400Z"
    }
   },
   "outputs": [],
   "source": [
    "excluded_columns = ['T']\n",
    "normalize_columns = [col for col in df2.columns if col not in excluded_columns]\n",
    "\n",
    "scaler = StandardScaler()\n",
    "\n",
    "df_normalized = pd.DataFrame(scaler.fit_transform(df2[normalize_columns]), columns=normalize_columns)\n",
    "df_normalized = pd.concat([df2[excluded_columns], df_normalized], axis=1)\n"
   ]
  },
  {
   "cell_type": "raw",
   "source": [
    "df2 = df_normalized"
   ],
   "metadata": {
    "collapsed": false
   },
   "id": "11283f970fe9941e"
  },
  {
   "cell_type": "markdown",
   "id": "e9f23a49febbd767",
   "metadata": {},
   "source": [
    "# Visualización de datos"
   ]
  },
  {
   "cell_type": "code",
   "execution_count": null,
   "id": "78300d1794613a06",
   "metadata": {
    "is_executing": true
   },
   "outputs": [],
   "source": [
    "pd.plotting.scatter_matrix(df2)"
   ]
  },
  {
   "cell_type": "code",
   "execution_count": null,
   "id": "482f68b19801a9a2",
   "metadata": {
    "is_executing": true,
    "ExecuteTime": {
     "start_time": "2023-11-22T17:33:42.475895800Z"
    }
   },
   "outputs": [],
   "source": [
    "pd.plotting.scatter_matrix(df_normalized)"
   ]
  },
  {
   "cell_type": "code",
   "execution_count": null,
   "id": "7077a0d783bd8b88",
   "metadata": {
    "is_executing": true
   },
   "outputs": [],
   "source": [
    "feats = df2.columns.difference(['T'])\n",
    "for feat in df2.columns.difference(['T']):\n",
    " plt.plot(df2['T'], df2[feat])\n",
    "plt.xlabel('T')\n",
    "plt.show()"
   ]
  },
  {
   "cell_type": "code",
   "execution_count": null,
   "id": "4796de97a1204eaf",
   "metadata": {
    "is_executing": true
   },
   "outputs": [],
   "source": [
    "for feat in feats:\n",
    " plt.plot(df_normalized['T'], df_normalized[feat])\n",
    "plt.xlabel('T')\n",
    "plt.show()"
   ]
  },
  {
   "cell_type": "markdown",
   "id": "59efd3addd89e6ee",
   "metadata": {},
   "source": [
    "### Correlación entre SM2 y EV2\n",
    "Analizando el conjunto de datos, se encontró que, en casos donde la presión de SM2 cambia entre dos tuplas de manera drástica, el cambio se propaga de manera instantánea a la presión de EV2. Esto se puede observar en el siguiente gráfico:"
   ]
  },
  {
   "cell_type": "code",
   "execution_count": null,
   "id": "d41a3de8aa603b54",
   "metadata": {
    "is_executing": true
   },
   "outputs": [],
   "source": [
    "plt.scatter(df_normalized['SM2'], df_normalized['EV1_1'])"
   ]
  },
  {
   "cell_type": "code",
   "execution_count": null,
   "id": "2fa97166dc4d6dea",
   "metadata": {
    "is_executing": true
   },
   "outputs": [],
   "source": [
    "plt.scatter(df_normalized['SM4'], df_normalized['EV2_2'])"
   ]
  },
  {
   "cell_type": "code",
   "execution_count": null,
   "id": "bf00c66cfa1b51a3",
   "metadata": {
    "is_executing": true
   },
   "outputs": [],
   "source": [
    "plt.scatter(df_normalized['SM4'], df_normalized['EDT1'])"
   ]
  },
  {
   "cell_type": "code",
   "execution_count": null,
   "id": "4e7f981339e9891c",
   "metadata": {
    "is_executing": true
   },
   "outputs": [],
   "source": [
    "plt.scatter(df_normalized['SM1'], df_normalized['EB2'])\n"
   ]
  },
  {
   "cell_type": "code",
   "execution_count": null,
   "id": "76905499233657dc",
   "metadata": {
    "is_executing": true
   },
   "outputs": [],
   "source": [
    "plt.scatter(df_normalized['SM1'], df_normalized['SM2'])"
   ]
  },
  {
   "cell_type": "code",
   "execution_count": null,
   "id": "a51e534d9b43e5c4",
   "metadata": {
    "is_executing": true
   },
   "outputs": [],
   "source": [
    "plt.scatter(df_normalized['SM3'], df_normalized['EV2_1'])"
   ]
  },
  {
   "cell_type": "code",
   "execution_count": null,
   "id": "d9cafbda3496cf8",
   "metadata": {
    "is_executing": true
   },
   "outputs": [],
   "source": [
    "plt.scatter(df_normalized['SM3'], df_normalized['EV1_2'])"
   ]
  },
  {
   "cell_type": "markdown",
   "id": "7bd9e466bb804cfb",
   "metadata": {},
   "source": [
    "# Modelo Lineal"
   ]
  },
  {
   "cell_type": "markdown",
   "id": "ecadd5c2d8dd30b2",
   "metadata": {},
   "source": [
    "## Predicción SM1"
   ]
  },
  {
   "cell_type": "code",
   "execution_count": null,
   "id": "16b123bc430d1d9d",
   "metadata": {
    "is_executing": true
   },
   "outputs": [],
   "source": [
    "X_1 = df2[['EB%','EB1','EB2','SM2','EV1_1']]\n",
    "y_1 = df2['SM1']\n",
    "X_train, X_test, y_train, y_test = train_test_split(X_1, y_1, random_state=42, test_size=0.4)"
   ]
  },
  {
   "cell_type": "markdown",
   "id": "355fa93bc955c707",
   "metadata": {},
   "source": [
    "### Regresión Linear"
   ]
  },
  {
   "cell_type": "code",
   "execution_count": null,
   "id": "478488929f1faded",
   "metadata": {
    "is_executing": true
   },
   "outputs": [],
   "source": [
    "sm1 = LinearRegression()\n",
    "%time sm1.fit(X_train, y_train)\n",
    "y_pred = sm1.predict(X_test)\n",
    "r2_1 = r2_score(y_test, y_pred)\n",
    "mae_1 = mean_absolute_error(y_test, y_pred)\n",
    "rmse_1 = mean_squared_error(y_test, y_pred, squared=False)\n",
    "print(f'SM1: R2 = {r2_1}, MAE = {mae_1}, RMSE = {rmse_1}')\n",
    "cross_validate(sm1, X_3, y_3, cv=10, scoring=('r2', 'neg_mean_absolute_error', 'neg_root_mean_squared_error'))"
   ]
  },
  {
   "cell_type": "markdown",
   "id": "12c26f69183d2dfb",
   "metadata": {},
   "source": [
    "Observaciones:\n",
    "Mayor puntuación, con un 30% de datos asignados para validación, con todos los datos de presión en [kPa]"
   ]
  },
  {
   "cell_type": "markdown",
   "id": "be968d753fa84a9a",
   "metadata": {},
   "source": [
    "### Regresión Linear Polinomial"
   ]
  },
  {
   "cell_type": "raw",
   "source": [
    "poly = PolynomialFeatures()\n",
    "linear = LinearRegression()\n",
    "sm1 = make_pipeline(poly, linear)\n",
    "param_grid = {'polynomialfeatures__degree': [2, 3, 4, 5, 6, 7, 8, 9, 10]}\n",
    "grid = GridSearchCV(sm1, param_grid)\n",
    "grid.fit(X_train, y_train)\n",
    "display(grid.best_params_)"
   ],
   "metadata": {
    "collapsed": false
   },
   "id": "d143f931d2eb6f4b"
  },
  {
   "cell_type": "code",
   "execution_count": null,
   "id": "3470a943d1517ba8",
   "metadata": {
    "is_executing": true
   },
   "outputs": [],
   "source": [
    "poly = PolynomialFeatures(degree=3)\n",
    "linear = LinearRegression()\n",
    "sm1 = make_pipeline(poly, linear)\n",
    "%time sm1.fit(X_train, y_train)\n",
    "y_pred = sm1.predict(X_test)\n",
    "r2_1 = r2_score(y_test, y_pred)\n",
    "mae_1 = mean_absolute_error(y_test, y_pred)\n",
    "rmse_1 = mean_squared_error(y_test, y_pred, squared=False)\n",
    "print(f'SM1: R2 = {r2_1}, MAE = {mae_1}, RMSE = {rmse_1}')\n",
    "cross_validate(sm1, X_3, y_3, cv=10, scoring=('r2', 'neg_mean_absolute_error', 'neg_root_mean_squared_error'))"
   ]
  },
  {
   "cell_type": "markdown",
   "id": "ff706b8b8fe05df0",
   "metadata": {},
   "source": [
    "### Regresión Lasso"
   ]
  },
  {
   "cell_type": "code",
   "execution_count": null,
   "id": "5a250ad581f0ff9a",
   "metadata": {
    "is_executing": true
   },
   "outputs": [],
   "source": [
    "sm1 = LassoCV(max_iter=5000)\n",
    "sm1.fit(X_train, y_train)\n",
    "y_pred = sm1.predict(X_test)\n",
    "r2_1 = r2_score(y_test, y_pred)\n",
    "mae_1 = mean_absolute_error(y_test, y_pred)\n",
    "print(f'SM1: R2 = {r2_1}, MAE = {mae_1}')"
   ]
  },
  {
   "cell_type": "markdown",
   "id": "df8d651d4c016f2",
   "metadata": {},
   "source": [
    "En primer intento, se tuvo menor puntaje y problemas de convergencia.\n",
    "Se aumenta número de iteraciones y se obtiene mayor demora, manteniendo puntaje."
   ]
  },
  {
   "cell_type": "markdown",
   "id": "5e2eb9a3931e4c17",
   "metadata": {},
   "source": [
    "### Elastic Net"
   ]
  },
  {
   "cell_type": "code",
   "execution_count": null,
   "id": "843343358e71d088",
   "metadata": {
    "is_executing": true
   },
   "outputs": [],
   "source": [
    "sm1 = ElasticNetCV()\n",
    "sm1.fit(X_train, y_train)\n",
    "y_pred = sm1.predict(X_test)\n",
    "r2_1 = r2_score(y_test, y_pred)\n",
    "mae_1 = mean_absolute_error(y_test, y_pred)\n",
    "print(f'SM1: R2 = {r2_1}, MAE = {mae_1}')"
   ]
  },
  {
   "cell_type": "markdown",
   "id": "180129a43982176d",
   "metadata": {},
   "source": [
    "### SGD"
   ]
  },
  {
   "cell_type": "code",
   "execution_count": null,
   "id": "d4c34de384a34094",
   "metadata": {
    "is_executing": true
   },
   "outputs": [],
   "source": [
    "sm1 = SGDRegressor()\n",
    "sm1.fit(X_train, y_train)\n",
    "y_pred = sm1.predict(X_test)\n",
    "r2_1 = r2_score(y_test, y_pred)\n",
    "mae_1 = mean_absolute_error(y_test, y_pred)\n",
    "print(f'SM1: R2 = {r2_1}, MAE = {mae_1}')"
   ]
  },
  {
   "cell_type": "markdown",
   "id": "6a4b6b544926d11c",
   "metadata": {},
   "source": [
    "### XGBoost"
   ]
  },
  {
   "cell_type": "code",
   "execution_count": null,
   "id": "d12fc0f0dd8f41d8",
   "metadata": {
    "is_executing": true
   },
   "outputs": [],
   "source": [
    "sm1 = XGBRegressor(random_state=42, n_estimators=175, learning_rate=0.302, reg_lambda=1, reg_alpha=0.5)\n",
    "%time sm1.fit(X_train, y_train)\n",
    "y_pred = sm1.predict(X_test)\n",
    "r2_1 = r2_score(y_test, y_pred)\n",
    "mae_1 = mean_absolute_error(y_test, y_pred)\n",
    "rmse_1 = mean_squared_error(y_test, y_pred, squared=False)\n",
    "print(f'SM1: R2 = {r2_1}, MAE = {mae_1}, RMSE = {rmse_1}')\n",
    "cross_validate(sm1, X_3, y_3, cv=10, scoring=('r2', 'neg_mean_absolute_error', 'neg_root_mean_squared_error'))"
   ]
  },
  {
   "cell_type": "markdown",
   "id": "cbe0f04572730352",
   "metadata": {},
   "source": [
    "### Random Forest"
   ]
  },
  {
   "cell_type": "raw",
   "id": "b1e347f63d7c9b5d",
   "metadata": {},
   "source": [
    "sm1 = RandomForestRegressor()\n",
    "sm1.fit(X_train, y_train)\n",
    "y_pred = sm1.predict(X_test)\n",
    "r2_1 = r2_score(y_test, y_pred)\n",
    "mae_1 = mean_absolute_error(y_test, y_pred)\n",
    "print(f'SM1: R2 = {r2_1}, MAE = {mae_1}')"
   ]
  },
  {
   "cell_type": "markdown",
   "id": "774c3b6149104",
   "metadata": {},
   "source": [
    "Observaciones:\n",
    "Entrenamiento lento, fuera de plazo máximo. Descartado."
   ]
  },
  {
   "cell_type": "markdown",
   "id": "d267fc0798bf354d",
   "metadata": {},
   "source": [
    "## Predicción SM2\n",
    "Luego del análisis explorativo, se encontró una alta correlación entre las mediciones de SM2 y EV1, por lo cual se escogen sus sensores como únicas entradas del modelo."
   ]
  },
  {
   "cell_type": "code",
   "execution_count": null,
   "id": "a6297bd57a8bfd40",
   "metadata": {
    "is_executing": true
   },
   "outputs": [],
   "source": [
    "X_2 = df2[['EV1_1', 'EV1_2']]\n",
    "y_2 = df2['SM2']\n",
    "X_2_train, X_2_test, y_2_train, y_2_test = train_test_split(X_2, y_2, random_state=42, test_size=0.4)"
   ]
  },
  {
   "cell_type": "markdown",
   "id": "f992c9dc73c9fa66",
   "metadata": {},
   "source": [
    "### Regresión Linear"
   ]
  },
  {
   "cell_type": "code",
   "execution_count": null,
   "id": "ac0a21d18c824c64",
   "metadata": {
    "is_executing": true
   },
   "outputs": [],
   "source": [
    "sm2 = LinearRegression()\n",
    "%time sm2.fit(X_2_train, y_2_train)\n",
    "y_2_pred = sm2.predict(X_2_test)\n",
    "r2_2 = r2_score(y_2_test, y_2_pred)\n",
    "mae_2 = mean_absolute_error(y_2_test, y_2_pred)\n",
    "rmse_2 = mean_squared_error(y_2_test, y_2_pred, squared=False)\n",
    "print(f'SM2: R2 = {r2_2}, MAE = {mae_2}')\n",
    "cross_validate(sm2, X_2, y_2, cv=10, scoring=('r2', 'neg_mean_absolute_error'))"
   ]
  },
  {
   "cell_type": "markdown",
   "id": "4307d189f2658244",
   "metadata": {},
   "source": [
    "Observaciones:\n",
    "Evaluando indivdualmente, al considerar solo la medición de entrada de EV1, se obtiene una puntuación de R2 = 0.9948631933284161, MAE = 0.061770157769054965; considerando entrada y salida de EV1, se obtiene R2 = 0.9951739335689458, MAE = 0.06143409021178661."
   ]
  },
  {
   "cell_type": "markdown",
   "id": "8d898ad8f46a4fee",
   "metadata": {},
   "source": [
    "### Regresión Linear Polinomial"
   ]
  },
  {
   "cell_type": "raw",
   "source": [
    "poly = PolynomialFeatures()\n",
    "linear = LinearRegression()\n",
    "sm2 = make_pipeline(poly, linear)\n",
    "param_grid = {'polynomialfeatures__degree': [2, 3, 4, 5, 6, 7, 8, 9, 10]}\n",
    "grid = GridSearchCV(sm2, param_grid)\n",
    "grid.fit(X_2_train, y_2_train)\n",
    "display(grid.best_params_)"
   ],
   "metadata": {
    "collapsed": false
   },
   "id": "5d2f466135c10abf"
  },
  {
   "cell_type": "code",
   "execution_count": null,
   "id": "f143d5876a1a30fc",
   "metadata": {
    "is_executing": true
   },
   "outputs": [],
   "source": [
    "poly = PolynomialFeatures(degree=4)\n",
    "linear = LinearRegression()\n",
    "sm2 = make_pipeline(poly, linear)\n",
    "%time sm2.fit(X_2_train, y_2_train)\n",
    "y_2_pred = sm2.predict(X_2_test)\n",
    "r2_2 = r2_score(y_2_test, y_2_pred)\n",
    "mae_2 = mean_absolute_error(y_2_test, y_2_pred)\n",
    "rmse_2 = mean_squared_error(y_2_test, y_2_pred, squared=False)\n",
    "print(f'SM2: R2 = {r2_2}, MAE = {mae_2}')\n",
    "cross_validate(sm2, X_2, y_2, cv=10, scoring=('r2', 'neg_mean_absolute_error'))"
   ]
  },
  {
   "cell_type": "markdown",
   "id": "c84422da85f14016",
   "metadata": {},
   "source": [
    "### Regresión Lasso"
   ]
  },
  {
   "cell_type": "code",
   "execution_count": null,
   "id": "7d427889cf68b709",
   "metadata": {
    "is_executing": true
   },
   "outputs": [],
   "source": [
    "sm2 = LassoCV()\n",
    "sm2.fit(X_2_train, y_2_train)\n",
    "y_2_pred = sm2.predict(X_2_test)\n",
    "r2_2 = r2_score(y_2_test, y_2_pred)\n",
    "mae_2 = mean_absolute_error(y_2_test, y_2_pred)\n",
    "rmse_2 = mean_squared_error(y_2_test, y_2_pred, squared=False)\n",
    "print(f'SM2: R2 = {r2_2}, MAE = {mae_2}')\n",
    "cross_validate(sm2, X_2, y_2, cv=10, scoring=('r2', 'neg_mean_absolute_error'))"
   ]
  },
  {
   "cell_type": "markdown",
   "id": "9b57cab397d037a5",
   "metadata": {},
   "source": [
    "### Elastic Net"
   ]
  },
  {
   "cell_type": "code",
   "execution_count": null,
   "id": "5cbbdbcbb2cbb4b",
   "metadata": {
    "is_executing": true
   },
   "outputs": [],
   "source": [
    "sm2 = ElasticNetCV()\n",
    "sm2.fit(X_2_train, y_2_train)\n",
    "y_2_pred = sm2.predict(X_2_test)\n",
    "r2_2 = r2_score(y_2_test, y_2_pred)\n",
    "mae_2 = mean_absolute_error(y_2_test, y_2_pred)\n",
    "rmse_2 = mean_squared_error(y_2_test, y_2_pred, squared=False)\n",
    "print(f'SM2: R2 = {r2_2}, MAE = {mae_2}')\n",
    "cross_validate(sm2, X_2, y_2, cv=10, scoring=('r2', 'neg_mean_absolute_error'))"
   ]
  },
  {
   "cell_type": "markdown",
   "id": "fddc44cb201f088b",
   "metadata": {},
   "source": [
    "### SGD"
   ]
  },
  {
   "cell_type": "code",
   "execution_count": null,
   "id": "c462b9475c95c456",
   "metadata": {
    "is_executing": true
   },
   "outputs": [],
   "source": [
    "sm2 = SGDRegressor()\n",
    "sm2.fit(X_2_train, y_2_train)\n",
    "y_2_pred = sm2.predict(X_2_test)\n",
    "r2_2 = r2_score(y_2_test, y_2_pred)\n",
    "mae_2 = mean_absolute_error(y_2_test, y_2_pred)\n",
    "rmse_2 = mean_squared_error(y_2_test, y_2_pred, squared=False)\n",
    "print(f'SM2: R2 = {r2_2}, MAE = {mae_2}')\n",
    "cross_validate(sm2, X_2, y_2, cv=10, scoring=('r2', 'neg_mean_absolute_error'))"
   ]
  },
  {
   "cell_type": "markdown",
   "id": "fa7dd51419e03d2c",
   "metadata": {},
   "source": [
    "### XGBoost"
   ]
  },
  {
   "cell_type": "code",
   "execution_count": null,
   "id": "923218bff8b99370",
   "metadata": {
    "is_executing": true
   },
   "outputs": [],
   "source": [
    "sm2 = XGBRegressor(random_state=42)\n",
    "%time sm2.fit(X_2_train, y_2_train)\n",
    "y_2_pred = sm2.predict(X_2_test)\n",
    "r2_2 = r2_score(y_2_test, y_2_pred)\n",
    "mae_2 = mean_absolute_error(y_2_test, y_2_pred)\n",
    "print(f'SM2: R2 = {r2_2}, MAE = {mae_2}')"
   ]
  },
  {
   "cell_type": "markdown",
   "id": "29003c3acba84a7a",
   "metadata": {},
   "source": [
    "## Predicción SM3\n",
    "Luego del análisis explorativo, se encontró una correlación entre las mediciones de SM3 y EV1, y entre SM3 y EB2."
   ]
  },
  {
   "cell_type": "code",
   "execution_count": null,
   "id": "a0aeded01b1f3f9e",
   "metadata": {
    "is_executing": true
   },
   "outputs": [],
   "source": [
    "X_3 = df2[['SM2', 'EV1_2', 'EV2_1', 'EV2_2']]\n",
    "y_3 = df2['SM3']\n",
    "X_3_train, X_3_test, y_3_train, y_3_test = train_test_split(X_3, y_3, random_state=42, test_size=0.4)"
   ]
  },
  {
   "cell_type": "markdown",
   "id": "e11fb0884284e236",
   "metadata": {},
   "source": [
    "### Regresión Linear"
   ]
  },
  {
   "cell_type": "code",
   "execution_count": null,
   "id": "eb0e88ae4ebb4b0",
   "metadata": {
    "is_executing": true
   },
   "outputs": [],
   "source": [
    "sm3 = LinearRegression()\n",
    "%time sm3.fit(X_3_train, y_3_train)\n",
    "y_3_pred = sm3.predict(X_3_test) \n",
    "r2_3 = r2_score(y_3_test, y_3_pred)\n",
    "mae_3 = mean_absolute_error(y_3_test, y_3_pred)\n",
    "rmse_3 = mean_squared_error(y_3_test, y_3_pred, squared=False)\n",
    "print(f'SM3: R2 = {r2_3}, MAE = {mae_3}, RMSE = {rmse_3}')\n",
    "cross_validate(sm3, X_3, y_3, cv=10, scoring=('r2', 'neg_mean_absolute_error', 'neg_root_mean_squared_error'))"
   ]
  },
  {
   "cell_type": "markdown",
   "id": "585c29a8c6a8f7f2",
   "metadata": {},
   "source": [
    "Observaciones:\n",
    "Evaluando indivdualmente, al considerar solo la medición de salida de EV1, se obtiene una puntuación de R2 = 0.757428290149249, MAE = 0.36624686002811024; y considerando solo la medición de entrada de EV2, se obtiene R2 = 0.5894141038841055, MAE = 0.44782809908607935.\n",
    "Considerando ambas mediciones, se obtiene R2 = 0.8643364789365919, MAE = 0.27408716724892734"
   ]
  },
  {
   "cell_type": "markdown",
   "id": "8590e8c4522ba75f",
   "metadata": {},
   "source": [
    "### Regresión Linear Polinomial"
   ]
  },
  {
   "cell_type": "raw",
   "source": [
    "poly = PolynomialFeatures()\n",
    "linear = LinearRegression()\n",
    "sm3 = make_pipeline(poly, linear)\n",
    "param_grid = {'polynomialfeatures__degree': [2, 3, 4, 5, 6, 7, 8, 9, 10]}\n",
    "grid = GridSearchCV(sm3, param_grid)\n",
    "grid.fit(X_3_train, y_3_train)\n",
    "display(grid.best_params_)"
   ],
   "metadata": {
    "collapsed": false
   },
   "id": "a19dd66368568573"
  },
  {
   "cell_type": "code",
   "execution_count": null,
   "id": "c245c5df86464c5d",
   "metadata": {
    "is_executing": true
   },
   "outputs": [],
   "source": [
    "poly = PolynomialFeatures(degree=4)\n",
    "linear = LinearRegression()\n",
    "%time sm3 = make_pipeline(poly, linear)\n",
    "sm3.fit(X_3_train, y_3_train)\n",
    "y_3_pred = sm3.predict(X_3_test)\n",
    "r2_3 = r2_score(y_3_test, y_3_pred)\n",
    "mae_3 = mean_absolute_error(y_3_test, y_3_pred)\n",
    "rmse_3 = mean_squared_error(y_3_test, y_3_pred, squared=False)\n",
    "print(f'SM3: R2 = {r2_3}, MAE = {mae_3}, RMSE = {rmse_3}')\n",
    "cross_validate(sm3, X_3, y_3, cv=10, scoring=('r2', 'neg_mean_absolute_error', 'neg_root_mean_squared_error'))"
   ]
  },
  {
   "cell_type": "markdown",
   "id": "696e4db354b4696f",
   "metadata": {},
   "source": [
    "### Regresión Lasso"
   ]
  },
  {
   "cell_type": "code",
   "execution_count": null,
   "id": "80c9da5af7c0b9a8",
   "metadata": {
    "is_executing": true
   },
   "outputs": [],
   "source": [
    "sm3 = LassoCV()\n",
    "sm3.fit(X_3_train, y_3_train)\n",
    "y_3_pred = sm3.predict(X_3_test)\n",
    "r2_3 = r2_score(y_3_test, y_3_pred)\n",
    "mae_3 = mean_absolute_error(y_3_test, y_3_pred)\n",
    "rmse_3 = mean_squared_error(y_3_test, y_3_pred, squared=False)\n",
    "print(f'SM3: R2 = {r2_3}, MAE = {mae_3}, RMSE = {rmse_3}')\n",
    "cross_validate(sm3, X_3, y_3, cv=10, scoring=('r2', 'neg_mean_absolute_error', 'neg_root_mean_squared_error'))"
   ]
  },
  {
   "cell_type": "markdown",
   "id": "5c7b273bd35d284c",
   "metadata": {},
   "source": [
    "### Elastic Net"
   ]
  },
  {
   "cell_type": "code",
   "execution_count": null,
   "id": "dc432d66825276eb",
   "metadata": {
    "is_executing": true
   },
   "outputs": [],
   "source": [
    "sm3 = ElasticNetCV()\n",
    "sm3.fit(X_3_train, y_3_train)\n",
    "y_3_pred = sm3.predict(X_3_test)\n",
    "r2_3 = r2_score(y_3_test, y_3_pred)\n",
    "mae_3 = mean_absolute_error(y_3_test, y_3_pred)\n",
    "rmse_3 = mean_squared_error(y_3_test, y_3_pred, squared=False)\n",
    "print(f'SM3: R2 = {r2_3}, MAE = {mae_3}, RMSE = {rmse_3}')\n",
    "cross_validate(sm3, X_3, y_3, cv=10, scoring=('r2', 'neg_mean_absolute_error', 'neg_root_mean_squared_error'))"
   ]
  },
  {
   "cell_type": "markdown",
   "id": "3d334d79231ba74d",
   "metadata": {},
   "source": [
    "### SGD"
   ]
  },
  {
   "cell_type": "code",
   "execution_count": null,
   "id": "e28175358af95dc2",
   "metadata": {
    "is_executing": true
   },
   "outputs": [],
   "source": [
    "sm3 = SGDRegressor()\n",
    "sm3.fit(X_3_train, y_3_train)\n",
    "y_3_pred = sm3.predict(X_3_test)\n",
    "r2_3 = r2_score(y_3_test, y_3_pred)\n",
    "mae_3 = mean_absolute_error(y_3_test, y_3_pred)\n",
    "rmse_3 = mean_squared_error(y_3_test, y_3_pred, squared=False)\n",
    "print(f'SM3: R2 = {r2_3}, MAE = {mae_3}, RMSE = {rmse_3}')\n",
    "cross_validate(sm3, X_3, y_3, cv=10, scoring=('r2', 'neg_mean_absolute_error', 'neg_root_mean_squared_error'))"
   ]
  },
  {
   "cell_type": "markdown",
   "id": "21f344d45b67d0f",
   "metadata": {},
   "source": [
    "### XGBoost"
   ]
  },
  {
   "cell_type": "code",
   "execution_count": null,
   "id": "bd156d1617d5bc2b",
   "metadata": {
    "is_executing": true
   },
   "outputs": [],
   "source": [
    "sm3 = XGBRegressor(random_state=42, n_estimators=175, learning_rate=0.302, reg_lambda=1, reg_alpha=0.5)\n",
    "sm3.fit(X_3_train, y_3_train)\n",
    "y_3_pred = sm3.predict(X_3_test)\n",
    "r2_3 = r2_score(y_3_test, y_3_pred)\n",
    "mae_3 = mean_absolute_error(y_3_test, y_3_pred)\n",
    "rmse_3 = mean_squared_error(y_3_test, y_3_pred, squared=False)\n",
    "print(f'SM3: R2 = {r2_3}, MAE = {mae_3}, RMSE = {rmse_3}')\n",
    "cross_validate(sm3, X_3, y_3, cv=10, scoring=('r2', 'neg_mean_absolute_error', 'neg_root_mean_squared_error'))"
   ]
  },
  {
   "cell_type": "markdown",
   "id": "e323a887a7135cc",
   "metadata": {},
   "source": [
    "## Predicción SM4\n",
    "Luego del análisis explorativo, se encontró una correlación entre las mediciones de SM4 y EV2, y entre SM4 y EDT1."
   ]
  },
  {
   "cell_type": "code",
   "execution_count": null,
   "id": "5c3674fa6a06f76c",
   "metadata": {
    "is_executing": true
   },
   "outputs": [],
   "source": [
    "X_4 = df2[['EV2_1','EV2_2', 'EDT%', 'EDT1']] \n",
    "y_4 = df2['SM4']\n",
    "X_4_train, X_4_test, y_4_train, y_4_test = train_test_split(X_4, y_4, random_state=42, test_size=0.4)"
   ]
  },
  {
   "cell_type": "markdown",
   "id": "14e1ea27dc7323da",
   "metadata": {},
   "source": [
    "### Regresión Linear"
   ]
  },
  {
   "cell_type": "code",
   "execution_count": null,
   "id": "6c80fb3c60f1c452",
   "metadata": {
    "is_executing": true
   },
   "outputs": [],
   "source": [
    "sm4 = LinearRegression()\n",
    "sm4.fit(X_4_train, y_4_train)\n",
    "y_4_pred = sm4.predict(X_4_test)\n",
    "r2_4 = r2_score(y_4_test, y_4_pred)\n",
    "mae_4 = mean_absolute_error(y_4_test, y_4_pred)\n",
    "rmse_4 = mean_squared_error(y_4_test, y_4_pred, squared=False)\n",
    "print(f'SM4: R2 = {r2_4}, MAE = {mae_4}, RMSE = {rmse_4}')\n",
    "cross_validate(sm4, X_4, y_4, cv=10, scoring=('r2', 'neg_mean_absolute_error', 'neg_root_mean_squared_error'))"
   ]
  },
  {
   "cell_type": "markdown",
   "id": "e0d5216f923da0a1",
   "metadata": {},
   "source": [
    "### Regresión Lineal Polinomial"
   ]
  },
  {
   "cell_type": "raw",
   "source": [
    "poly = PolynomialFeatures()\n",
    "linear = LinearRegression()\n",
    "sm4 = make_pipeline(poly, linear)\n",
    "param_grid = {'polynomialfeatures__degree': [2, 3, 4, 5, 6, 7, 8, 9, 10]}\n",
    "grid = GridSearchCV(sm4, param_grid)\n",
    "grid.fit(X_4_train, y_4_train)\n",
    "display(grid.best_params_)"
   ],
   "metadata": {
    "collapsed": false
   },
   "id": "4ce8989d72d19309"
  },
  {
   "cell_type": "code",
   "execution_count": null,
   "id": "d35e40f1950b249d",
   "metadata": {
    "is_executing": true
   },
   "outputs": [],
   "source": [
    "poly = PolynomialFeatures(degree=4)\n",
    "linear = LinearRegression()\n",
    "sm4 = make_pipeline(poly, linear)\n",
    "sm4.fit(X_4_train, y_4_train)\n",
    "y_4_pred = sm4.predict(X_4_test)\n",
    "r2_4 = r2_score(y_4_test, y_4_pred)\n",
    "mae_4 = mean_absolute_error(y_4_test, y_4_pred)\n",
    "rmse_4 = mean_squared_error(y_4_test, y_4_pred, squared=False)\n",
    "print(f'SM4: R2 = {r2_4}, MAE = {mae_4}, RMSE = {rmse_4}')\n",
    "cross_validate(sm4, X_4, y_4, cv=10, scoring=('r2', 'neg_mean_absolute_error', 'neg_root_mean_squared_error'))"
   ]
  },
  {
   "cell_type": "markdown",
   "id": "859c492bc5ea355b",
   "metadata": {},
   "source": [
    "### Regresión Lasso"
   ]
  },
  {
   "cell_type": "code",
   "execution_count": null,
   "id": "f003d05b4a025175",
   "metadata": {
    "is_executing": true
   },
   "outputs": [],
   "source": [
    "sm4 = LassoCV()\n",
    "sm4.fit(X_4_train, y_4_train)\n",
    "y_4_pred = sm4.predict(X_4_test)\n",
    "r2_4 = r2_score(y_4_test, y_4_pred)\n",
    "mae_4 = mean_absolute_error(y_4_test, y_4_pred)\n",
    "rmse_4 = mean_squared_error(y_4_test, y_4_pred, squared=False)\n",
    "print(f'SM4: R2 = {r2_4}, MAE = {mae_4}, RMSE = {rmse_4}')\n",
    "cross_validate(sm4, X_4, y_4, cv=10, scoring=('r2', 'neg_mean_absolute_error', 'neg_root_mean_squared_error'))"
   ]
  },
  {
   "cell_type": "markdown",
   "id": "1ea9a5bd9574da82",
   "metadata": {},
   "source": [
    "### Elastic Net"
   ]
  },
  {
   "cell_type": "code",
   "execution_count": null,
   "id": "2f97f1a9010d9733",
   "metadata": {
    "is_executing": true
   },
   "outputs": [],
   "source": [
    "sm4 = ElasticNetCV()\n",
    "sm4.fit(X_4_train, y_4_train)\n",
    "y_4_pred = sm4.predict(X_4_test)\n",
    "r2_4 = r2_score(y_4_test, y_4_pred)\n",
    "mae_4 = mean_absolute_error(y_4_test, y_4_pred)\n",
    "rmse_4 = mean_squared_error(y_4_test, y_4_pred, squared=False)\n",
    "print(f'SM4: R2 = {r2_4}, MAE = {mae_4}, RMSE = {rmse_4}')\n",
    "cross_validate(sm4, X_4, y_4, cv=10, scoring=('r2', 'neg_mean_absolute_error', 'neg_root_mean_squared_error'))"
   ]
  },
  {
   "cell_type": "markdown",
   "id": "a5e5e788dfc6f508",
   "metadata": {},
   "source": [
    "### SGD"
   ]
  },
  {
   "cell_type": "code",
   "execution_count": null,
   "id": "4f9b84f6c2a5e732",
   "metadata": {
    "is_executing": true
   },
   "outputs": [],
   "source": [
    "sm4 = SGDRegressor()\n",
    "sm4.fit(X_4_train, y_4_train)\n",
    "y_4_pred = sm4.predict(X_4_test)\n",
    "r2_4 = r2_score(y_4_test, y_4_pred)\n",
    "mae_4 = mean_absolute_error(y_4_test, y_4_pred)\n",
    "rmse_4 = mean_squared_error(y_4_test, y_4_pred, squared=False)\n",
    "print(f'SM4: R2 = {r2_4}, MAE = {mae_4}, RMSE = {rmse_4}')\n",
    "cross_validate(sm4, X_4, y_4, cv=10, scoring=('r2', 'neg_mean_absolute_error', 'neg_root_mean_squared_error'))"
   ]
  },
  {
   "cell_type": "markdown",
   "id": "341a4a54819efe9c",
   "metadata": {},
   "source": [
    "### XGBoost"
   ]
  },
  {
   "cell_type": "code",
   "execution_count": null,
   "id": "b5faf96c8e17cbc9",
   "metadata": {
    "is_executing": true
   },
   "outputs": [],
   "source": [
    "sm4 = XGBRegressor(random_state=42, n_estimators=175, learning_rate=0.302, reg_lambda=1, reg_alpha=0.5)\n",
    "sm4.fit(X_4_train, y_4_train)\n",
    "y_4_pred = sm4.predict(X_4_test)\n",
    "r2_4 = r2_score(y_4_test, y_4_pred)\n",
    "mae_4 = mean_absolute_error(y_4_test, y_4_pred)\n",
    "rmse_4 = mean_squared_error(y_4_test, y_4_pred, squared=False)\n",
    "print(f'SM4: R2 = {r2_4}, MAE = {mae_4}, RMSE = {rmse_4}')\n",
    "cross_validate(sm4, X_4, y_4, cv=10, scoring=('r2', 'neg_mean_absolute_error', 'neg_root_mean_squared_error'))"
   ]
  },
  {
   "cell_type": "code",
   "execution_count": null,
   "id": "cb2724536f29ad28",
   "metadata": {
    "is_executing": true
   },
   "outputs": [],
   "source": []
  }
 ],
 "metadata": {
  "kernelspec": {
   "display_name": "Python 3 (ipykernel)",
   "language": "python",
   "name": "python3"
  },
  "language_info": {
   "codemirror_mode": {
    "name": "ipython",
    "version": 3
   },
   "file_extension": ".py",
   "mimetype": "text/x-python",
   "name": "python",
   "nbconvert_exporter": "python",
   "pygments_lexer": "ipython3",
   "version": "3.9.16"
  }
 },
 "nbformat": 4,
 "nbformat_minor": 5
}
