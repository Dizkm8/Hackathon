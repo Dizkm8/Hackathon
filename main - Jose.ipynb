{
 "cells": [
  {
   "cell_type": "markdown",
   "id": "5760456efb47f7dd",
   "metadata": {},
   "source": [
    "# Hackathon"
   ]
  },
  {
   "cell_type": "code",
   "execution_count": 210,
   "id": "initial_id",
   "metadata": {
    "ExecuteTime": {
     "end_time": "2023-11-22T04:25:20.447636400Z",
     "start_time": "2023-11-22T04:25:20.396754100Z"
    }
   },
   "outputs": [],
   "source": [
    "import pandas as pd\n",
    "import matplotlib.pyplot as plt\n",
    "import numpy as np\n",
    "from sklearn.base import clone as clone_model\n",
    "from sklearn.linear_model import LinearRegression, LassoCV, ElasticNetCV, SGDRegressor\n",
    "from sklearn.preprocessing import PolynomialFeatures, StandardScaler\n",
    "from sklearn.pipeline import make_pipeline\n",
    "from sklearn.model_selection import GridSearchCV\n",
    "from xgboost import XGBRegressor\n",
    "from sklearn.model_selection import train_test_split\n",
    "from sklearn.metrics import r2_score, mean_absolute_error"
   ]
  },
  {
   "cell_type": "code",
   "execution_count": 211,
   "outputs": [],
   "source": [
    "columns_rename = {\n",
    " 'tiempo': 'T',\n",
    " '% Solido  Bombeo concentrado_EB': 'EB%', \n",
    " 'Presión de Descarga_EB_1': 'EB1',\n",
    " 'Presión de Descarga_EB_2': 'EB2',\n",
    " 'Presion_Estación de Valvulas_EV1_1': 'EV1_1',\n",
    " 'Presión estación de valvulas 2_EV2_1': 'EV2_1',\n",
    " 'Presion_Estación de Valvulas_EV1_2': 'EV1_2',\n",
    " 'Presión estación de valvulas 2_EV2_2': 'EV2_2',\n",
    " 'Presión_SM-1': 'SM1',\n",
    " 'Presión_SM-2': 'SM2',\n",
    " 'Presión_SM-3': 'SM3',\n",
    " 'Presión_SM-4': 'SM4',\n",
    " 'Porcentaje de Solido Alimentación Espesador': 'EDT%',\n",
    " 'Presión_EDT_1': 'EDT1',\n",
    " 'Presión_EDT_2': 'EDT2',\n",
    " 'Presión_EDT_3': 'EDT3'\n",
    "}"
   ],
   "metadata": {
    "collapsed": false,
    "ExecuteTime": {
     "end_time": "2023-11-22T04:25:20.914414300Z",
     "start_time": "2023-11-22T04:25:20.694843400Z"
    }
   },
   "id": "e0c660306b9bee83"
  },
  {
   "cell_type": "markdown",
   "id": "3c6e41ea4eec974c",
   "metadata": {},
   "source": [
    "# Solución final"
   ]
  },
  {
   "cell_type": "code",
   "execution_count": 194,
   "id": "7d489bd9e96590ca",
   "metadata": {
    "ExecuteTime": {
     "end_time": "2023-11-22T03:42:36.812347800Z",
     "start_time": "2023-11-22T03:42:11.982290800Z"
    }
   },
   "outputs": [],
   "source": [
    "final_data = pd.read_excel('Data_test_hakcathon_CEN.xlsx')\n",
    "train_data = pd.read_excel('Hack_concentraducto_v01.xlsx', sheet_name='Data_Hackathon')"
   ]
  },
  {
   "cell_type": "code",
   "execution_count": 195,
   "outputs": [],
   "source": [
    "final_data.rename(columns=columns_rename, inplace=True)\n",
    "train_data.rename(columns=columns_rename, inplace=True)"
   ],
   "metadata": {
    "collapsed": false,
    "ExecuteTime": {
     "end_time": "2023-11-22T03:42:36.823721100Z",
     "start_time": "2023-11-22T03:42:36.820211600Z"
    }
   },
   "id": "798b60f9f63c27bd"
  },
  {
   "cell_type": "code",
   "execution_count": 196,
   "outputs": [],
   "source": [
    "models = dict()\n",
    "pretrained_models = dict()"
   ],
   "metadata": {
    "collapsed": false,
    "ExecuteTime": {
     "end_time": "2023-11-22T03:42:36.917878500Z",
     "start_time": "2023-11-22T03:42:36.823721100Z"
    }
   },
   "id": "c224d22b97badd11"
  },
  {
   "cell_type": "markdown",
   "source": [
    "## Modelo SM1"
   ],
   "metadata": {
    "collapsed": false
   },
   "id": "f75483aa50460d1c"
  },
  {
   "cell_type": "code",
   "execution_count": 197,
   "outputs": [],
   "source": [
    "sm1_model = XGBRegressor(random_state=42, n_estimators=175, learning_rate=0.302, reg_lambda=1, reg_alpha=0.5)\n",
    "models['SM1'] = clone_model(sm1_model)"
   ],
   "metadata": {
    "collapsed": false,
    "ExecuteTime": {
     "end_time": "2023-11-22T03:42:36.917878500Z",
     "start_time": "2023-11-22T03:42:36.839355700Z"
    }
   },
   "id": "19d6a1ba0a78e840"
  },
  {
   "cell_type": "code",
   "execution_count": 198,
   "outputs": [],
   "source": [
    "sm1_model.fit(train_data[['EB%','EB1','EB2','SM2','EV1_1']], train_data['SM1'])\n",
    "pretrained_models['SM1'] = sm1_model"
   ],
   "metadata": {
    "collapsed": false,
    "ExecuteTime": {
     "end_time": "2023-11-22T03:42:37.453104600Z",
     "start_time": "2023-11-22T03:42:36.854980900Z"
    }
   },
   "id": "dde1dc252d6d24a7"
  },
  {
   "cell_type": "markdown",
   "source": [
    "## Modelo SM2"
   ],
   "metadata": {
    "collapsed": false
   },
   "id": "bfcf5cba77047f8a"
  },
  {
   "cell_type": "code",
   "execution_count": 199,
   "outputs": [],
   "source": [
    "sm2_model = make_pipeline(PolynomialFeatures(degree=4),  LinearRegression())\n",
    "models['SM2'] = clone_model(sm2_model)"
   ],
   "metadata": {
    "collapsed": false,
    "ExecuteTime": {
     "end_time": "2023-11-22T03:42:37.474719400Z",
     "start_time": "2023-11-22T03:42:37.453104600Z"
    }
   },
   "id": "46b4dd3174ec1670"
  },
  {
   "cell_type": "code",
   "execution_count": 200,
   "outputs": [],
   "source": [
    "sm2_model.fit(train_data[['EV1_1', 'EV1_2']], train_data['SM2'])\n",
    "pretrained_models['SM2'] = sm2_model"
   ],
   "metadata": {
    "collapsed": false,
    "ExecuteTime": {
     "end_time": "2023-11-22T03:42:37.616155800Z",
     "start_time": "2023-11-22T03:42:37.468730700Z"
    }
   },
   "id": "66f849a40821e9bb"
  },
  {
   "cell_type": "markdown",
   "source": [
    "## Modelo SM3"
   ],
   "metadata": {
    "collapsed": false
   },
   "id": "df1edbc2b20e4697"
  },
  {
   "cell_type": "code",
   "execution_count": 201,
   "outputs": [],
   "source": [
    "sm3_model = XGBRegressor(random_state=42, n_estimators=175, learning_rate=0.302, reg_lambda=1, reg_alpha=0.5)\n",
    "models['SM3'] = clone_model(sm3_model)"
   ],
   "metadata": {
    "collapsed": false,
    "ExecuteTime": {
     "end_time": "2023-11-22T03:42:37.616155800Z",
     "start_time": "2023-11-22T03:42:37.584511100Z"
    }
   },
   "id": "cede5d4ae4d1c9fc"
  },
  {
   "cell_type": "code",
   "execution_count": 202,
   "outputs": [],
   "source": [
    "sm3_model.fit(train_data[['SM2', 'EV1_2', 'EV2_1', 'EV2_2']], train_data['SM3'])\n",
    "pretrained_models['SM3'] = sm3_model"
   ],
   "metadata": {
    "collapsed": false,
    "ExecuteTime": {
     "end_time": "2023-11-22T03:42:38.085461100Z",
     "start_time": "2023-11-22T03:42:37.600141500Z"
    }
   },
   "id": "77468508abe2fdf"
  },
  {
   "cell_type": "markdown",
   "source": [
    "## Modelo SM4"
   ],
   "metadata": {
    "collapsed": false
   },
   "id": "98ef0eb4f01f7dd1"
  },
  {
   "cell_type": "code",
   "execution_count": 203,
   "outputs": [],
   "source": [
    "sm4_model = XGBRegressor(random_state=42, n_estimators=175, learning_rate=0.302, reg_lambda=1, reg_alpha=0.5)\n",
    "models['SM4'] = clone_model(sm4_model)"
   ],
   "metadata": {
    "collapsed": false,
    "ExecuteTime": {
     "end_time": "2023-11-22T03:42:38.101083300Z",
     "start_time": "2023-11-22T03:42:38.085461100Z"
    }
   },
   "id": "b5fca45ea4c8c6f0"
  },
  {
   "cell_type": "code",
   "execution_count": 204,
   "outputs": [],
   "source": [
    "sm4_model.fit(train_data[['EV2_1','EV2_2', 'EDT%', 'EDT1']], train_data['SM4'])\n",
    "pretrained_models['SM4'] = sm4_model"
   ],
   "metadata": {
    "collapsed": false,
    "ExecuteTime": {
     "end_time": "2023-11-22T03:42:38.614807700Z",
     "start_time": "2023-11-22T03:42:38.101083300Z"
    }
   },
   "id": "a169f7938fafdc58"
  },
  {
   "cell_type": "markdown",
   "source": [
    "## Predicción de datos faltantes"
   ],
   "metadata": {
    "collapsed": false
   },
   "id": "6660d3e60e46bbba"
  },
  {
   "cell_type": "markdown",
   "source": [
    "### SM1"
   ],
   "metadata": {
    "collapsed": false
   },
   "id": "294348c75749c3ea"
  },
  {
   "cell_type": "code",
   "execution_count": 205,
   "outputs": [],
   "source": [
    "y_1 = final_data['SM1']\n",
    "y_1_targets = y_1.isna()\n",
    "X_1 = final_data[y_1_targets][['EB%','EB1','EB2','SM2','EV1_1']]\n",
    "y_1_pred = pretrained_models['SM1'].predict(X_1)\n",
    "final_data.loc[y_1_targets, 'SM1'] = y_1_pred"
   ],
   "metadata": {
    "collapsed": false,
    "ExecuteTime": {
     "end_time": "2023-11-22T03:42:38.722486900Z",
     "start_time": "2023-11-22T03:42:38.618322900Z"
    }
   },
   "id": "7e46c172c1b4900f"
  },
  {
   "cell_type": "markdown",
   "source": [
    "### SM2"
   ],
   "metadata": {
    "collapsed": false
   },
   "id": "a0b3e22e507197b5"
  },
  {
   "cell_type": "code",
   "execution_count": 206,
   "outputs": [],
   "source": [
    "y_2 = final_data['SM2']\n",
    "y_2_targets = y_2.isna()\n",
    "X_2 = final_data[y_2_targets][['EV1_1', 'EV1_2']]\n",
    "y_2_pred = pretrained_models['SM2'].predict(X_2)\n",
    "final_data.loc[y_2_targets, 'SM2'] = y_2_pred"
   ],
   "metadata": {
    "collapsed": false,
    "ExecuteTime": {
     "end_time": "2023-11-22T03:42:38.722486900Z",
     "start_time": "2023-11-22T03:42:38.675214600Z"
    }
   },
   "id": "428437fd747bf42"
  },
  {
   "cell_type": "markdown",
   "source": [
    "### SM3"
   ],
   "metadata": {
    "collapsed": false
   },
   "id": "75334b62211012b1"
  },
  {
   "cell_type": "code",
   "execution_count": 207,
   "outputs": [],
   "source": [
    "y_3 = final_data['SM3']\n",
    "y_3_targets = y_3.isna()\n",
    "X_3 = final_data[y_3_targets][['SM2', 'EV1_2', 'EV2_1', 'EV2_2']]\n",
    "y_3_pred = pretrained_models['SM3'].predict(X_3)\n",
    "final_data.loc[y_3_targets, 'SM3'] = y_3_pred"
   ],
   "metadata": {
    "collapsed": false,
    "ExecuteTime": {
     "end_time": "2023-11-22T03:42:38.722486900Z",
     "start_time": "2023-11-22T03:42:38.690838800Z"
    }
   },
   "id": "97da369bf9d5270a"
  },
  {
   "cell_type": "markdown",
   "source": [
    "### SM4"
   ],
   "metadata": {
    "collapsed": false
   },
   "id": "b6a8e46f4080eb05"
  },
  {
   "cell_type": "code",
   "execution_count": 208,
   "outputs": [],
   "source": [
    "y_4 = final_data['SM4']\n",
    "y_4_targets = y_4.isna()\n",
    "X_4 = final_data[y_4_targets][['EV2_1','EV2_2', 'EDT%', 'EDT1']]\n",
    "y_4_pred = pretrained_models['SM4'].predict(X_4)\n",
    "final_data.loc[y_4_targets, 'SM4'] = y_4_pred"
   ],
   "metadata": {
    "collapsed": false,
    "ExecuteTime": {
     "end_time": "2023-11-22T03:42:38.784995Z",
     "start_time": "2023-11-22T03:42:38.706468100Z"
    }
   },
   "id": "9057f26e86cb36c9"
  },
  {
   "cell_type": "markdown",
   "source": [
    "## Exportado de datos finales"
   ],
   "metadata": {
    "collapsed": false
   },
   "id": "7893e2bb90e26ac"
  },
  {
   "cell_type": "code",
   "execution_count": 212,
   "outputs": [
    {
     "ename": "PermissionError",
     "evalue": "[Errno 13] Permission denied: 'Data_test_hackathon_CEN_final_Team_ARCA.xlsx'",
     "output_type": "error",
     "traceback": [
      "\u001B[1;31m---------------------------------------------------------------------------\u001B[0m",
      "\u001B[1;31mPermissionError\u001B[0m                           Traceback (most recent call last)",
      "Cell \u001B[1;32mIn[212], line 1\u001B[0m\n\u001B[1;32m----> 1\u001B[0m \u001B[43mfinal_data\u001B[49m\u001B[38;5;241;43m.\u001B[39;49m\u001B[43mto_excel\u001B[49m\u001B[43m(\u001B[49m\u001B[38;5;124;43m'\u001B[39;49m\u001B[38;5;124;43mData_test_hackathon_CEN_final_Team_ARCA.xlsx\u001B[39;49m\u001B[38;5;124;43m'\u001B[39;49m\u001B[43m,\u001B[49m\u001B[43m \u001B[49m\u001B[43mindex\u001B[49m\u001B[38;5;241;43m=\u001B[39;49m\u001B[38;5;28;43;01mFalse\u001B[39;49;00m\u001B[43m)\u001B[49m\n",
      "File \u001B[1;32m~\\Dvd\\Centinela\\Hackaton\\venv\\lib\\site-packages\\pandas\\core\\generic.py:2345\u001B[0m, in \u001B[0;36mNDFrame.to_excel\u001B[1;34m(self, excel_writer, sheet_name, na_rep, float_format, columns, header, index, index_label, startrow, startcol, engine, merge_cells, inf_rep, freeze_panes, storage_options, engine_kwargs)\u001B[0m\n\u001B[0;32m   2332\u001B[0m \u001B[38;5;28;01mfrom\u001B[39;00m \u001B[38;5;21;01mpandas\u001B[39;00m\u001B[38;5;21;01m.\u001B[39;00m\u001B[38;5;21;01mio\u001B[39;00m\u001B[38;5;21;01m.\u001B[39;00m\u001B[38;5;21;01mformats\u001B[39;00m\u001B[38;5;21;01m.\u001B[39;00m\u001B[38;5;21;01mexcel\u001B[39;00m \u001B[38;5;28;01mimport\u001B[39;00m ExcelFormatter\n\u001B[0;32m   2334\u001B[0m formatter \u001B[38;5;241m=\u001B[39m ExcelFormatter(\n\u001B[0;32m   2335\u001B[0m     df,\n\u001B[0;32m   2336\u001B[0m     na_rep\u001B[38;5;241m=\u001B[39mna_rep,\n\u001B[1;32m   (...)\u001B[0m\n\u001B[0;32m   2343\u001B[0m     inf_rep\u001B[38;5;241m=\u001B[39minf_rep,\n\u001B[0;32m   2344\u001B[0m )\n\u001B[1;32m-> 2345\u001B[0m \u001B[43mformatter\u001B[49m\u001B[38;5;241;43m.\u001B[39;49m\u001B[43mwrite\u001B[49m\u001B[43m(\u001B[49m\n\u001B[0;32m   2346\u001B[0m \u001B[43m    \u001B[49m\u001B[43mexcel_writer\u001B[49m\u001B[43m,\u001B[49m\n\u001B[0;32m   2347\u001B[0m \u001B[43m    \u001B[49m\u001B[43msheet_name\u001B[49m\u001B[38;5;241;43m=\u001B[39;49m\u001B[43msheet_name\u001B[49m\u001B[43m,\u001B[49m\n\u001B[0;32m   2348\u001B[0m \u001B[43m    \u001B[49m\u001B[43mstartrow\u001B[49m\u001B[38;5;241;43m=\u001B[39;49m\u001B[43mstartrow\u001B[49m\u001B[43m,\u001B[49m\n\u001B[0;32m   2349\u001B[0m \u001B[43m    \u001B[49m\u001B[43mstartcol\u001B[49m\u001B[38;5;241;43m=\u001B[39;49m\u001B[43mstartcol\u001B[49m\u001B[43m,\u001B[49m\n\u001B[0;32m   2350\u001B[0m \u001B[43m    \u001B[49m\u001B[43mfreeze_panes\u001B[49m\u001B[38;5;241;43m=\u001B[39;49m\u001B[43mfreeze_panes\u001B[49m\u001B[43m,\u001B[49m\n\u001B[0;32m   2351\u001B[0m \u001B[43m    \u001B[49m\u001B[43mengine\u001B[49m\u001B[38;5;241;43m=\u001B[39;49m\u001B[43mengine\u001B[49m\u001B[43m,\u001B[49m\n\u001B[0;32m   2352\u001B[0m \u001B[43m    \u001B[49m\u001B[43mstorage_options\u001B[49m\u001B[38;5;241;43m=\u001B[39;49m\u001B[43mstorage_options\u001B[49m\u001B[43m,\u001B[49m\n\u001B[0;32m   2353\u001B[0m \u001B[43m    \u001B[49m\u001B[43mengine_kwargs\u001B[49m\u001B[38;5;241;43m=\u001B[39;49m\u001B[43mengine_kwargs\u001B[49m\u001B[43m,\u001B[49m\n\u001B[0;32m   2354\u001B[0m \u001B[43m\u001B[49m\u001B[43m)\u001B[49m\n",
      "File \u001B[1;32m~\\Dvd\\Centinela\\Hackaton\\venv\\lib\\site-packages\\pandas\\io\\formats\\excel.py:946\u001B[0m, in \u001B[0;36mExcelFormatter.write\u001B[1;34m(self, writer, sheet_name, startrow, startcol, freeze_panes, engine, storage_options, engine_kwargs)\u001B[0m\n\u001B[0;32m    942\u001B[0m     need_save \u001B[38;5;241m=\u001B[39m \u001B[38;5;28;01mFalse\u001B[39;00m\n\u001B[0;32m    943\u001B[0m \u001B[38;5;28;01melse\u001B[39;00m:\n\u001B[0;32m    944\u001B[0m     \u001B[38;5;66;03m# error: Cannot instantiate abstract class 'ExcelWriter' with abstract\u001B[39;00m\n\u001B[0;32m    945\u001B[0m     \u001B[38;5;66;03m# attributes 'engine', 'save', 'supported_extensions' and 'write_cells'\u001B[39;00m\n\u001B[1;32m--> 946\u001B[0m     writer \u001B[38;5;241m=\u001B[39m \u001B[43mExcelWriter\u001B[49m\u001B[43m(\u001B[49m\u001B[43m  \u001B[49m\u001B[38;5;66;43;03m# type: ignore[abstract]\u001B[39;49;00m\n\u001B[0;32m    947\u001B[0m \u001B[43m        \u001B[49m\u001B[43mwriter\u001B[49m\u001B[43m,\u001B[49m\n\u001B[0;32m    948\u001B[0m \u001B[43m        \u001B[49m\u001B[43mengine\u001B[49m\u001B[38;5;241;43m=\u001B[39;49m\u001B[43mengine\u001B[49m\u001B[43m,\u001B[49m\n\u001B[0;32m    949\u001B[0m \u001B[43m        \u001B[49m\u001B[43mstorage_options\u001B[49m\u001B[38;5;241;43m=\u001B[39;49m\u001B[43mstorage_options\u001B[49m\u001B[43m,\u001B[49m\n\u001B[0;32m    950\u001B[0m \u001B[43m        \u001B[49m\u001B[43mengine_kwargs\u001B[49m\u001B[38;5;241;43m=\u001B[39;49m\u001B[43mengine_kwargs\u001B[49m\u001B[43m,\u001B[49m\n\u001B[0;32m    951\u001B[0m \u001B[43m    \u001B[49m\u001B[43m)\u001B[49m\n\u001B[0;32m    952\u001B[0m     need_save \u001B[38;5;241m=\u001B[39m \u001B[38;5;28;01mTrue\u001B[39;00m\n\u001B[0;32m    954\u001B[0m \u001B[38;5;28;01mtry\u001B[39;00m:\n",
      "File \u001B[1;32m~\\Dvd\\Centinela\\Hackaton\\venv\\lib\\site-packages\\pandas\\io\\excel\\_openpyxl.py:61\u001B[0m, in \u001B[0;36mOpenpyxlWriter.__init__\u001B[1;34m(self, path, engine, date_format, datetime_format, mode, storage_options, if_sheet_exists, engine_kwargs, **kwargs)\u001B[0m\n\u001B[0;32m     57\u001B[0m \u001B[38;5;28;01mfrom\u001B[39;00m \u001B[38;5;21;01mopenpyxl\u001B[39;00m\u001B[38;5;21;01m.\u001B[39;00m\u001B[38;5;21;01mworkbook\u001B[39;00m \u001B[38;5;28;01mimport\u001B[39;00m Workbook\n\u001B[0;32m     59\u001B[0m engine_kwargs \u001B[38;5;241m=\u001B[39m combine_kwargs(engine_kwargs, kwargs)\n\u001B[1;32m---> 61\u001B[0m \u001B[38;5;28;43msuper\u001B[39;49m\u001B[43m(\u001B[49m\u001B[43m)\u001B[49m\u001B[38;5;241;43m.\u001B[39;49m\u001B[38;5;21;43m__init__\u001B[39;49m\u001B[43m(\u001B[49m\n\u001B[0;32m     62\u001B[0m \u001B[43m    \u001B[49m\u001B[43mpath\u001B[49m\u001B[43m,\u001B[49m\n\u001B[0;32m     63\u001B[0m \u001B[43m    \u001B[49m\u001B[43mmode\u001B[49m\u001B[38;5;241;43m=\u001B[39;49m\u001B[43mmode\u001B[49m\u001B[43m,\u001B[49m\n\u001B[0;32m     64\u001B[0m \u001B[43m    \u001B[49m\u001B[43mstorage_options\u001B[49m\u001B[38;5;241;43m=\u001B[39;49m\u001B[43mstorage_options\u001B[49m\u001B[43m,\u001B[49m\n\u001B[0;32m     65\u001B[0m \u001B[43m    \u001B[49m\u001B[43mif_sheet_exists\u001B[49m\u001B[38;5;241;43m=\u001B[39;49m\u001B[43mif_sheet_exists\u001B[49m\u001B[43m,\u001B[49m\n\u001B[0;32m     66\u001B[0m \u001B[43m    \u001B[49m\u001B[43mengine_kwargs\u001B[49m\u001B[38;5;241;43m=\u001B[39;49m\u001B[43mengine_kwargs\u001B[49m\u001B[43m,\u001B[49m\n\u001B[0;32m     67\u001B[0m \u001B[43m\u001B[49m\u001B[43m)\u001B[49m\n\u001B[0;32m     69\u001B[0m \u001B[38;5;66;03m# ExcelWriter replaced \"a\" by \"r+\" to allow us to first read the excel file from\u001B[39;00m\n\u001B[0;32m     70\u001B[0m \u001B[38;5;66;03m# the file and later write to it\u001B[39;00m\n\u001B[0;32m     71\u001B[0m \u001B[38;5;28;01mif\u001B[39;00m \u001B[38;5;124m\"\u001B[39m\u001B[38;5;124mr+\u001B[39m\u001B[38;5;124m\"\u001B[39m \u001B[38;5;129;01min\u001B[39;00m \u001B[38;5;28mself\u001B[39m\u001B[38;5;241m.\u001B[39m_mode:  \u001B[38;5;66;03m# Load from existing workbook\u001B[39;00m\n",
      "File \u001B[1;32m~\\Dvd\\Centinela\\Hackaton\\venv\\lib\\site-packages\\pandas\\io\\excel\\_base.py:1263\u001B[0m, in \u001B[0;36mExcelWriter.__init__\u001B[1;34m(self, path, engine, date_format, datetime_format, mode, storage_options, if_sheet_exists, engine_kwargs)\u001B[0m\n\u001B[0;32m   1259\u001B[0m \u001B[38;5;28mself\u001B[39m\u001B[38;5;241m.\u001B[39m_handles \u001B[38;5;241m=\u001B[39m IOHandles(\n\u001B[0;32m   1260\u001B[0m     cast(IO[\u001B[38;5;28mbytes\u001B[39m], path), compression\u001B[38;5;241m=\u001B[39m{\u001B[38;5;124m\"\u001B[39m\u001B[38;5;124mcompression\u001B[39m\u001B[38;5;124m\"\u001B[39m: \u001B[38;5;28;01mNone\u001B[39;00m}\n\u001B[0;32m   1261\u001B[0m )\n\u001B[0;32m   1262\u001B[0m \u001B[38;5;28;01mif\u001B[39;00m \u001B[38;5;129;01mnot\u001B[39;00m \u001B[38;5;28misinstance\u001B[39m(path, ExcelWriter):\n\u001B[1;32m-> 1263\u001B[0m     \u001B[38;5;28mself\u001B[39m\u001B[38;5;241m.\u001B[39m_handles \u001B[38;5;241m=\u001B[39m \u001B[43mget_handle\u001B[49m\u001B[43m(\u001B[49m\n\u001B[0;32m   1264\u001B[0m \u001B[43m        \u001B[49m\u001B[43mpath\u001B[49m\u001B[43m,\u001B[49m\u001B[43m \u001B[49m\u001B[43mmode\u001B[49m\u001B[43m,\u001B[49m\u001B[43m \u001B[49m\u001B[43mstorage_options\u001B[49m\u001B[38;5;241;43m=\u001B[39;49m\u001B[43mstorage_options\u001B[49m\u001B[43m,\u001B[49m\u001B[43m \u001B[49m\u001B[43mis_text\u001B[49m\u001B[38;5;241;43m=\u001B[39;49m\u001B[38;5;28;43;01mFalse\u001B[39;49;00m\n\u001B[0;32m   1265\u001B[0m \u001B[43m    \u001B[49m\u001B[43m)\u001B[49m\n\u001B[0;32m   1266\u001B[0m \u001B[38;5;28mself\u001B[39m\u001B[38;5;241m.\u001B[39m_cur_sheet \u001B[38;5;241m=\u001B[39m \u001B[38;5;28;01mNone\u001B[39;00m\n\u001B[0;32m   1268\u001B[0m \u001B[38;5;28;01mif\u001B[39;00m date_format \u001B[38;5;129;01mis\u001B[39;00m \u001B[38;5;28;01mNone\u001B[39;00m:\n",
      "File \u001B[1;32m~\\Dvd\\Centinela\\Hackaton\\venv\\lib\\site-packages\\pandas\\io\\common.py:872\u001B[0m, in \u001B[0;36mget_handle\u001B[1;34m(path_or_buf, mode, encoding, compression, memory_map, is_text, errors, storage_options)\u001B[0m\n\u001B[0;32m    863\u001B[0m         handle \u001B[38;5;241m=\u001B[39m \u001B[38;5;28mopen\u001B[39m(\n\u001B[0;32m    864\u001B[0m             handle,\n\u001B[0;32m    865\u001B[0m             ioargs\u001B[38;5;241m.\u001B[39mmode,\n\u001B[1;32m   (...)\u001B[0m\n\u001B[0;32m    868\u001B[0m             newline\u001B[38;5;241m=\u001B[39m\u001B[38;5;124m\"\u001B[39m\u001B[38;5;124m\"\u001B[39m,\n\u001B[0;32m    869\u001B[0m         )\n\u001B[0;32m    870\u001B[0m     \u001B[38;5;28;01melse\u001B[39;00m:\n\u001B[0;32m    871\u001B[0m         \u001B[38;5;66;03m# Binary mode\u001B[39;00m\n\u001B[1;32m--> 872\u001B[0m         handle \u001B[38;5;241m=\u001B[39m \u001B[38;5;28;43mopen\u001B[39;49m\u001B[43m(\u001B[49m\u001B[43mhandle\u001B[49m\u001B[43m,\u001B[49m\u001B[43m \u001B[49m\u001B[43mioargs\u001B[49m\u001B[38;5;241;43m.\u001B[39;49m\u001B[43mmode\u001B[49m\u001B[43m)\u001B[49m\n\u001B[0;32m    873\u001B[0m     handles\u001B[38;5;241m.\u001B[39mappend(handle)\n\u001B[0;32m    875\u001B[0m \u001B[38;5;66;03m# Convert BytesIO or file objects passed with an encoding\u001B[39;00m\n",
      "\u001B[1;31mPermissionError\u001B[0m: [Errno 13] Permission denied: 'Data_test_hackathon_CEN_final_Team_ARCA.xlsx'"
     ]
    }
   ],
   "source": [
    "final_data.to_excel('Data_test_hackathon_CEN_final_Team_ARCA.xlsx', index=False)"
   ],
   "metadata": {
    "collapsed": false,
    "ExecuteTime": {
     "end_time": "2023-11-22T04:25:29.749037800Z",
     "start_time": "2023-11-22T04:25:28.791713800Z"
    }
   },
   "id": "cbd0c70b701a58d8"
  },
  {
   "cell_type": "markdown",
   "id": "a97ae6090ccf4eaa",
   "metadata": {},
   "source": [
    "# Trabajo de desarrollo y selección de modelos"
   ]
  },
  {
   "cell_type": "code",
   "execution_count": null,
   "id": "6a1ee7894e64d3af",
   "metadata": {
    "ExecuteTime": {
     "start_time": "2023-11-22T04:25:29.670898200Z"
    }
   },
   "outputs": [],
   "source": [
    "data = pd.read_excel('Hack_concentraducto_v01.xlsx', sheet_name='Data_Hackathon')\n",
    "df1 = data.copy()\n",
    "df1.head()"
   ]
  },
  {
   "cell_type": "code",
   "execution_count": null,
   "id": "318c4a25a3cb2c1c",
   "metadata": {
    "ExecuteTime": {
     "start_time": "2023-11-22T04:25:29.670898200Z"
    }
   },
   "outputs": [],
   "source": [
    "df1.isnull().sum()"
   ]
  },
  {
   "cell_type": "code",
   "execution_count": 213,
   "id": "ed34686e5413df11",
   "metadata": {
    "ExecuteTime": {
     "end_time": "2023-11-22T04:25:30.094414Z",
     "start_time": "2023-11-22T04:25:29.921729100Z"
    }
   },
   "outputs": [
    {
     "data": {
      "text/plain": "43.04818888272726"
     },
     "execution_count": 213,
     "metadata": {},
     "output_type": "execute_result"
    }
   ],
   "source": [
    "mean_concentrated = df1[\"% Solido  Bombeo concentrado_EB\"].mean()\n",
    "mean_concentrated"
   ]
  },
  {
   "cell_type": "code",
   "execution_count": 214,
   "id": "7289cbd6e5d00727",
   "metadata": {
    "ExecuteTime": {
     "end_time": "2023-11-22T04:25:31.090740700Z",
     "start_time": "2023-11-22T04:25:31.027843600Z"
    }
   },
   "outputs": [
    {
     "data": {
      "text/plain": "-7.87132453918457"
     },
     "execution_count": 214,
     "metadata": {},
     "output_type": "execute_result"
    }
   ],
   "source": [
    "min_concentrated = df1[\"Presión de Descarga_EB_1\"].min()\n",
    "min_concentrated"
   ]
  },
  {
   "cell_type": "markdown",
   "id": "c18f1eb0e1079016",
   "metadata": {},
   "source": [
    "# Preprocesamiento\n",
    "## Conversión de datos"
   ]
  },
  {
   "cell_type": "code",
   "execution_count": 215,
   "id": "48714c5da0190ea2",
   "metadata": {
    "ExecuteTime": {
     "end_time": "2023-11-22T04:25:31.744314100Z",
     "start_time": "2023-11-22T04:25:31.666167100Z"
    }
   },
   "outputs": [],
   "source": [
    "df2 = data.copy()\n",
    "df2.rename(columns=columns_rename, inplace=True)"
   ]
  },
  {
   "cell_type": "markdown",
   "source": [
    "### Conversión de presiones"
   ],
   "metadata": {
    "collapsed": false
   },
   "id": "da98fedd5b1dc982"
  },
  {
   "cell_type": "code",
   "execution_count": 216,
   "id": "8aa636c2d0448c13",
   "metadata": {
    "ExecuteTime": {
     "end_time": "2023-11-22T04:25:34.870855100Z",
     "start_time": "2023-11-22T04:25:34.767192100Z"
    }
   },
   "outputs": [],
   "source": [
    "conversion = 6.89476\n",
    "\n",
    "df2['EB1'] = df2['EB1'].apply(lambda x: x * conversion)\n",
    "df2['EB2'] = df2['EB2'].apply(lambda x: x * conversion)"
   ]
  },
  {
   "cell_type": "markdown",
   "source": [
    "### Normalización de datos\n",
    "El resultado de esta etapa fue utilizado para el análisis exploratorio de datos, pero no se considero esta transformación para los modelos finales, ya que en los modelos escogidos, no generaban diferencias, y se quiso evitar transformaciones innecesesarias entre las medidas (puesto que, si se normalizaban los datos, se debería hacer la transformación inversa para obtener los valores reales)."
   ],
   "metadata": {
    "collapsed": false
   },
   "id": "c49eae48f20196f"
  },
  {
   "cell_type": "code",
   "execution_count": 217,
   "id": "a0655a334549ce45",
   "metadata": {
    "ExecuteTime": {
     "end_time": "2023-11-22T04:25:35.241242400Z",
     "start_time": "2023-11-22T04:25:35.147070800Z"
    }
   },
   "outputs": [],
   "source": [
    "excluded_columns = ['T']\n",
    "normalize_columns = [col for col in df2.columns if col not in excluded_columns]\n",
    "\n",
    "scaler = StandardScaler()\n",
    "\n",
    "df_normalized = pd.DataFrame(scaler.fit_transform(df2[normalize_columns]), columns=normalize_columns)\n",
    "df_normalized = pd.concat([df2[excluded_columns], df_normalized], axis=1)\n"
   ]
  },
  {
   "cell_type": "raw",
   "source": [
    "df2 = df_normalized"
   ],
   "metadata": {
    "collapsed": false
   },
   "id": "11283f970fe9941e"
  },
  {
   "cell_type": "markdown",
   "id": "e9f23a49febbd767",
   "metadata": {},
   "source": [
    "# Visualización de datos"
   ]
  },
  {
   "cell_type": "code",
   "execution_count": 148,
   "id": "78300d1794613a06",
   "metadata": {
    "ExecuteTime": {
     "end_time": "2023-11-22T03:06:39.004165800Z",
     "start_time": "2023-11-22T03:03:30.073116800Z"
    }
   },
   "outputs": [
    {
     "data": {
      "text/plain": "array([[<Axes: xlabel='EB%', ylabel='EB%'>,\n        <Axes: xlabel='EB1', ylabel='EB%'>,\n        <Axes: xlabel='EB2', ylabel='EB%'>,\n        <Axes: xlabel='EV1_1', ylabel='EB%'>,\n        <Axes: xlabel='EV1_2', ylabel='EB%'>,\n        <Axes: xlabel='SM1', ylabel='EB%'>,\n        <Axes: xlabel='SM2', ylabel='EB%'>,\n        <Axes: xlabel='EV2_1', ylabel='EB%'>,\n        <Axes: xlabel='EV2_2', ylabel='EB%'>,\n        <Axes: xlabel='EDT%', ylabel='EB%'>,\n        <Axes: xlabel='EDT1', ylabel='EB%'>,\n        <Axes: xlabel='EDT2', ylabel='EB%'>,\n        <Axes: xlabel='EDT3', ylabel='EB%'>,\n        <Axes: xlabel='SM3', ylabel='EB%'>,\n        <Axes: xlabel='SM4', ylabel='EB%'>],\n       [<Axes: xlabel='EB%', ylabel='EB1'>,\n        <Axes: xlabel='EB1', ylabel='EB1'>,\n        <Axes: xlabel='EB2', ylabel='EB1'>,\n        <Axes: xlabel='EV1_1', ylabel='EB1'>,\n        <Axes: xlabel='EV1_2', ylabel='EB1'>,\n        <Axes: xlabel='SM1', ylabel='EB1'>,\n        <Axes: xlabel='SM2', ylabel='EB1'>,\n        <Axes: xlabel='EV2_1', ylabel='EB1'>,\n        <Axes: xlabel='EV2_2', ylabel='EB1'>,\n        <Axes: xlabel='EDT%', ylabel='EB1'>,\n        <Axes: xlabel='EDT1', ylabel='EB1'>,\n        <Axes: xlabel='EDT2', ylabel='EB1'>,\n        <Axes: xlabel='EDT3', ylabel='EB1'>,\n        <Axes: xlabel='SM3', ylabel='EB1'>,\n        <Axes: xlabel='SM4', ylabel='EB1'>],\n       [<Axes: xlabel='EB%', ylabel='EB2'>,\n        <Axes: xlabel='EB1', ylabel='EB2'>,\n        <Axes: xlabel='EB2', ylabel='EB2'>,\n        <Axes: xlabel='EV1_1', ylabel='EB2'>,\n        <Axes: xlabel='EV1_2', ylabel='EB2'>,\n        <Axes: xlabel='SM1', ylabel='EB2'>,\n        <Axes: xlabel='SM2', ylabel='EB2'>,\n        <Axes: xlabel='EV2_1', ylabel='EB2'>,\n        <Axes: xlabel='EV2_2', ylabel='EB2'>,\n        <Axes: xlabel='EDT%', ylabel='EB2'>,\n        <Axes: xlabel='EDT1', ylabel='EB2'>,\n        <Axes: xlabel='EDT2', ylabel='EB2'>,\n        <Axes: xlabel='EDT3', ylabel='EB2'>,\n        <Axes: xlabel='SM3', ylabel='EB2'>,\n        <Axes: xlabel='SM4', ylabel='EB2'>],\n       [<Axes: xlabel='EB%', ylabel='EV1_1'>,\n        <Axes: xlabel='EB1', ylabel='EV1_1'>,\n        <Axes: xlabel='EB2', ylabel='EV1_1'>,\n        <Axes: xlabel='EV1_1', ylabel='EV1_1'>,\n        <Axes: xlabel='EV1_2', ylabel='EV1_1'>,\n        <Axes: xlabel='SM1', ylabel='EV1_1'>,\n        <Axes: xlabel='SM2', ylabel='EV1_1'>,\n        <Axes: xlabel='EV2_1', ylabel='EV1_1'>,\n        <Axes: xlabel='EV2_2', ylabel='EV1_1'>,\n        <Axes: xlabel='EDT%', ylabel='EV1_1'>,\n        <Axes: xlabel='EDT1', ylabel='EV1_1'>,\n        <Axes: xlabel='EDT2', ylabel='EV1_1'>,\n        <Axes: xlabel='EDT3', ylabel='EV1_1'>,\n        <Axes: xlabel='SM3', ylabel='EV1_1'>,\n        <Axes: xlabel='SM4', ylabel='EV1_1'>],\n       [<Axes: xlabel='EB%', ylabel='EV1_2'>,\n        <Axes: xlabel='EB1', ylabel='EV1_2'>,\n        <Axes: xlabel='EB2', ylabel='EV1_2'>,\n        <Axes: xlabel='EV1_1', ylabel='EV1_2'>,\n        <Axes: xlabel='EV1_2', ylabel='EV1_2'>,\n        <Axes: xlabel='SM1', ylabel='EV1_2'>,\n        <Axes: xlabel='SM2', ylabel='EV1_2'>,\n        <Axes: xlabel='EV2_1', ylabel='EV1_2'>,\n        <Axes: xlabel='EV2_2', ylabel='EV1_2'>,\n        <Axes: xlabel='EDT%', ylabel='EV1_2'>,\n        <Axes: xlabel='EDT1', ylabel='EV1_2'>,\n        <Axes: xlabel='EDT2', ylabel='EV1_2'>,\n        <Axes: xlabel='EDT3', ylabel='EV1_2'>,\n        <Axes: xlabel='SM3', ylabel='EV1_2'>,\n        <Axes: xlabel='SM4', ylabel='EV1_2'>],\n       [<Axes: xlabel='EB%', ylabel='SM1'>,\n        <Axes: xlabel='EB1', ylabel='SM1'>,\n        <Axes: xlabel='EB2', ylabel='SM1'>,\n        <Axes: xlabel='EV1_1', ylabel='SM1'>,\n        <Axes: xlabel='EV1_2', ylabel='SM1'>,\n        <Axes: xlabel='SM1', ylabel='SM1'>,\n        <Axes: xlabel='SM2', ylabel='SM1'>,\n        <Axes: xlabel='EV2_1', ylabel='SM1'>,\n        <Axes: xlabel='EV2_2', ylabel='SM1'>,\n        <Axes: xlabel='EDT%', ylabel='SM1'>,\n        <Axes: xlabel='EDT1', ylabel='SM1'>,\n        <Axes: xlabel='EDT2', ylabel='SM1'>,\n        <Axes: xlabel='EDT3', ylabel='SM1'>,\n        <Axes: xlabel='SM3', ylabel='SM1'>,\n        <Axes: xlabel='SM4', ylabel='SM1'>],\n       [<Axes: xlabel='EB%', ylabel='SM2'>,\n        <Axes: xlabel='EB1', ylabel='SM2'>,\n        <Axes: xlabel='EB2', ylabel='SM2'>,\n        <Axes: xlabel='EV1_1', ylabel='SM2'>,\n        <Axes: xlabel='EV1_2', ylabel='SM2'>,\n        <Axes: xlabel='SM1', ylabel='SM2'>,\n        <Axes: xlabel='SM2', ylabel='SM2'>,\n        <Axes: xlabel='EV2_1', ylabel='SM2'>,\n        <Axes: xlabel='EV2_2', ylabel='SM2'>,\n        <Axes: xlabel='EDT%', ylabel='SM2'>,\n        <Axes: xlabel='EDT1', ylabel='SM2'>,\n        <Axes: xlabel='EDT2', ylabel='SM2'>,\n        <Axes: xlabel='EDT3', ylabel='SM2'>,\n        <Axes: xlabel='SM3', ylabel='SM2'>,\n        <Axes: xlabel='SM4', ylabel='SM2'>],\n       [<Axes: xlabel='EB%', ylabel='EV2_1'>,\n        <Axes: xlabel='EB1', ylabel='EV2_1'>,\n        <Axes: xlabel='EB2', ylabel='EV2_1'>,\n        <Axes: xlabel='EV1_1', ylabel='EV2_1'>,\n        <Axes: xlabel='EV1_2', ylabel='EV2_1'>,\n        <Axes: xlabel='SM1', ylabel='EV2_1'>,\n        <Axes: xlabel='SM2', ylabel='EV2_1'>,\n        <Axes: xlabel='EV2_1', ylabel='EV2_1'>,\n        <Axes: xlabel='EV2_2', ylabel='EV2_1'>,\n        <Axes: xlabel='EDT%', ylabel='EV2_1'>,\n        <Axes: xlabel='EDT1', ylabel='EV2_1'>,\n        <Axes: xlabel='EDT2', ylabel='EV2_1'>,\n        <Axes: xlabel='EDT3', ylabel='EV2_1'>,\n        <Axes: xlabel='SM3', ylabel='EV2_1'>,\n        <Axes: xlabel='SM4', ylabel='EV2_1'>],\n       [<Axes: xlabel='EB%', ylabel='EV2_2'>,\n        <Axes: xlabel='EB1', ylabel='EV2_2'>,\n        <Axes: xlabel='EB2', ylabel='EV2_2'>,\n        <Axes: xlabel='EV1_1', ylabel='EV2_2'>,\n        <Axes: xlabel='EV1_2', ylabel='EV2_2'>,\n        <Axes: xlabel='SM1', ylabel='EV2_2'>,\n        <Axes: xlabel='SM2', ylabel='EV2_2'>,\n        <Axes: xlabel='EV2_1', ylabel='EV2_2'>,\n        <Axes: xlabel='EV2_2', ylabel='EV2_2'>,\n        <Axes: xlabel='EDT%', ylabel='EV2_2'>,\n        <Axes: xlabel='EDT1', ylabel='EV2_2'>,\n        <Axes: xlabel='EDT2', ylabel='EV2_2'>,\n        <Axes: xlabel='EDT3', ylabel='EV2_2'>,\n        <Axes: xlabel='SM3', ylabel='EV2_2'>,\n        <Axes: xlabel='SM4', ylabel='EV2_2'>],\n       [<Axes: xlabel='EB%', ylabel='EDT%'>,\n        <Axes: xlabel='EB1', ylabel='EDT%'>,\n        <Axes: xlabel='EB2', ylabel='EDT%'>,\n        <Axes: xlabel='EV1_1', ylabel='EDT%'>,\n        <Axes: xlabel='EV1_2', ylabel='EDT%'>,\n        <Axes: xlabel='SM1', ylabel='EDT%'>,\n        <Axes: xlabel='SM2', ylabel='EDT%'>,\n        <Axes: xlabel='EV2_1', ylabel='EDT%'>,\n        <Axes: xlabel='EV2_2', ylabel='EDT%'>,\n        <Axes: xlabel='EDT%', ylabel='EDT%'>,\n        <Axes: xlabel='EDT1', ylabel='EDT%'>,\n        <Axes: xlabel='EDT2', ylabel='EDT%'>,\n        <Axes: xlabel='EDT3', ylabel='EDT%'>,\n        <Axes: xlabel='SM3', ylabel='EDT%'>,\n        <Axes: xlabel='SM4', ylabel='EDT%'>],\n       [<Axes: xlabel='EB%', ylabel='EDT1'>,\n        <Axes: xlabel='EB1', ylabel='EDT1'>,\n        <Axes: xlabel='EB2', ylabel='EDT1'>,\n        <Axes: xlabel='EV1_1', ylabel='EDT1'>,\n        <Axes: xlabel='EV1_2', ylabel='EDT1'>,\n        <Axes: xlabel='SM1', ylabel='EDT1'>,\n        <Axes: xlabel='SM2', ylabel='EDT1'>,\n        <Axes: xlabel='EV2_1', ylabel='EDT1'>,\n        <Axes: xlabel='EV2_2', ylabel='EDT1'>,\n        <Axes: xlabel='EDT%', ylabel='EDT1'>,\n        <Axes: xlabel='EDT1', ylabel='EDT1'>,\n        <Axes: xlabel='EDT2', ylabel='EDT1'>,\n        <Axes: xlabel='EDT3', ylabel='EDT1'>,\n        <Axes: xlabel='SM3', ylabel='EDT1'>,\n        <Axes: xlabel='SM4', ylabel='EDT1'>],\n       [<Axes: xlabel='EB%', ylabel='EDT2'>,\n        <Axes: xlabel='EB1', ylabel='EDT2'>,\n        <Axes: xlabel='EB2', ylabel='EDT2'>,\n        <Axes: xlabel='EV1_1', ylabel='EDT2'>,\n        <Axes: xlabel='EV1_2', ylabel='EDT2'>,\n        <Axes: xlabel='SM1', ylabel='EDT2'>,\n        <Axes: xlabel='SM2', ylabel='EDT2'>,\n        <Axes: xlabel='EV2_1', ylabel='EDT2'>,\n        <Axes: xlabel='EV2_2', ylabel='EDT2'>,\n        <Axes: xlabel='EDT%', ylabel='EDT2'>,\n        <Axes: xlabel='EDT1', ylabel='EDT2'>,\n        <Axes: xlabel='EDT2', ylabel='EDT2'>,\n        <Axes: xlabel='EDT3', ylabel='EDT2'>,\n        <Axes: xlabel='SM3', ylabel='EDT2'>,\n        <Axes: xlabel='SM4', ylabel='EDT2'>],\n       [<Axes: xlabel='EB%', ylabel='EDT3'>,\n        <Axes: xlabel='EB1', ylabel='EDT3'>,\n        <Axes: xlabel='EB2', ylabel='EDT3'>,\n        <Axes: xlabel='EV1_1', ylabel='EDT3'>,\n        <Axes: xlabel='EV1_2', ylabel='EDT3'>,\n        <Axes: xlabel='SM1', ylabel='EDT3'>,\n        <Axes: xlabel='SM2', ylabel='EDT3'>,\n        <Axes: xlabel='EV2_1', ylabel='EDT3'>,\n        <Axes: xlabel='EV2_2', ylabel='EDT3'>,\n        <Axes: xlabel='EDT%', ylabel='EDT3'>,\n        <Axes: xlabel='EDT1', ylabel='EDT3'>,\n        <Axes: xlabel='EDT2', ylabel='EDT3'>,\n        <Axes: xlabel='EDT3', ylabel='EDT3'>,\n        <Axes: xlabel='SM3', ylabel='EDT3'>,\n        <Axes: xlabel='SM4', ylabel='EDT3'>],\n       [<Axes: xlabel='EB%', ylabel='SM3'>,\n        <Axes: xlabel='EB1', ylabel='SM3'>,\n        <Axes: xlabel='EB2', ylabel='SM3'>,\n        <Axes: xlabel='EV1_1', ylabel='SM3'>,\n        <Axes: xlabel='EV1_2', ylabel='SM3'>,\n        <Axes: xlabel='SM1', ylabel='SM3'>,\n        <Axes: xlabel='SM2', ylabel='SM3'>,\n        <Axes: xlabel='EV2_1', ylabel='SM3'>,\n        <Axes: xlabel='EV2_2', ylabel='SM3'>,\n        <Axes: xlabel='EDT%', ylabel='SM3'>,\n        <Axes: xlabel='EDT1', ylabel='SM3'>,\n        <Axes: xlabel='EDT2', ylabel='SM3'>,\n        <Axes: xlabel='EDT3', ylabel='SM3'>,\n        <Axes: xlabel='SM3', ylabel='SM3'>,\n        <Axes: xlabel='SM4', ylabel='SM3'>],\n       [<Axes: xlabel='EB%', ylabel='SM4'>,\n        <Axes: xlabel='EB1', ylabel='SM4'>,\n        <Axes: xlabel='EB2', ylabel='SM4'>,\n        <Axes: xlabel='EV1_1', ylabel='SM4'>,\n        <Axes: xlabel='EV1_2', ylabel='SM4'>,\n        <Axes: xlabel='SM1', ylabel='SM4'>,\n        <Axes: xlabel='SM2', ylabel='SM4'>,\n        <Axes: xlabel='EV2_1', ylabel='SM4'>,\n        <Axes: xlabel='EV2_2', ylabel='SM4'>,\n        <Axes: xlabel='EDT%', ylabel='SM4'>,\n        <Axes: xlabel='EDT1', ylabel='SM4'>,\n        <Axes: xlabel='EDT2', ylabel='SM4'>,\n        <Axes: xlabel='EDT3', ylabel='SM4'>,\n        <Axes: xlabel='SM3', ylabel='SM4'>,\n        <Axes: xlabel='SM4', ylabel='SM4'>]], dtype=object)"
     },
     "execution_count": 148,
     "metadata": {},
     "output_type": "execute_result"
    },
    {
     "data": {
      "text/plain": "<Figure size 640x480 with 225 Axes>",
      "image/png": "[encoded data removed]"
     },
     "metadata": {},
     "output_type": "display_data"
    }
   ],
   "source": [
    "pd.plotting.scatter_matrix(df2)"
   ]
  },
  {
   "cell_type": "code",
   "execution_count": null,
   "id": "482f68b19801a9a2",
   "metadata": {
    "ExecuteTime": {
     "start_time": "2023-11-21T15:33:07.593275500Z"
    }
   },
   "outputs": [],
   "source": [
    "pd.plotting.scatter_matrix(df_normalized)"
   ]
  },
  {
   "cell_type": "code",
   "execution_count": null,
   "id": "7077a0d783bd8b88",
   "metadata": {
    "ExecuteTime": {
     "start_time": "2023-11-21T15:33:07.596271500Z"
    }
   },
   "outputs": [],
   "source": [
    "feats = df2.columns.difference(['T'])\n",
    "for feat in df2.columns.difference(['T']):\n",
    " plt.plot(df2['T'], df2[feat])\n",
    "plt.xlabel('T')\n",
    "plt.show()"
   ]
  },
  {
   "cell_type": "code",
   "execution_count": null,
   "id": "4796de97a1204eaf",
   "metadata": {
    "ExecuteTime": {
     "start_time": "2023-11-21T15:33:07.598270800Z"
    }
   },
   "outputs": [],
   "source": [
    "for feat in feats:\n",
    " plt.plot(df_normalized['T'], df_normalized[feat])\n",
    "plt.xlabel('T')\n",
    "plt.show()"
   ]
  },
  {
   "cell_type": "markdown",
   "id": "59efd3addd89e6ee",
   "metadata": {},
   "source": [
    "### Correlación entre SM2 y EV2\n",
    "Analizando el conjunto de datos, se encontró que, en casos donde la presión de SM2 cambia entre dos tuplas de manera drástica, el cambio se propaga de manera instantánea a la presión de EV2. Esto se puede observar en el siguiente gráfico:"
   ]
  },
  {
   "cell_type": "code",
   "execution_count": null,
   "id": "d41a3de8aa603b54",
   "metadata": {
    "ExecuteTime": {
     "start_time": "2023-11-21T15:33:07.599270500Z"
    }
   },
   "outputs": [],
   "source": [
    "plt.scatter(df_normalized['SM2'], df_normalized['EV1_1'], xlabel='SM2', ylabel='EV1_1')"
   ]
  },
  {
   "cell_type": "code",
   "execution_count": null,
   "id": "2fa97166dc4d6dea",
   "metadata": {
    "ExecuteTime": {
     "start_time": "2023-11-21T15:33:07.601271100Z"
    }
   },
   "outputs": [],
   "source": [
    "plt.scatter(df_normalized['SM4'], df_normalized['EV2_2'])"
   ]
  },
  {
   "cell_type": "code",
   "execution_count": null,
   "id": "bf00c66cfa1b51a3",
   "metadata": {
    "ExecuteTime": {
     "start_time": "2023-11-21T15:33:07.602776500Z"
    }
   },
   "outputs": [],
   "source": [
    "plt.scatter(df_normalized['SM4'], df_normalized['EDT1'])"
   ]
  },
  {
   "cell_type": "code",
   "execution_count": 85,
   "id": "4e7f981339e9891c",
   "metadata": {
    "ExecuteTime": {
     "end_time": "2023-11-21T15:56:45.665057400Z",
     "start_time": "2023-11-21T15:56:43.839347300Z"
    }
   },
   "outputs": [
    {
     "data": {
      "text/plain": [
       "<matplotlib.collections.PathCollection at 0x250eaf8f3d0>"
      ]
     },
     "execution_count": 85,
     "metadata": {},
     "output_type": "execute_result"
    },
    {
     "data": {
      "image/png": "[encoded data removed]",
      "text/plain": [
       "<Figure size 640x480 with 1 Axes>"
      ]
     },
     "metadata": {},
     "output_type": "display_data"
    }
   ],
   "source": [
    "plt.scatter(df_normalized['SM1'], df_normalized['EB2'])\n"
   ]
  },
  {
   "cell_type": "code",
   "execution_count": null,
   "id": "76905499233657dc",
   "metadata": {
    "ExecuteTime": {
     "start_time": "2023-11-21T15:33:07.607783400Z"
    }
   },
   "outputs": [],
   "source": [
    "plt.scatter(df_normalized['SM1'], df_normalized['SM2'])"
   ]
  },
  {
   "cell_type": "code",
   "execution_count": null,
   "id": "a51e534d9b43e5c4",
   "metadata": {
    "ExecuteTime": {
     "start_time": "2023-11-21T15:33:07.609288Z"
    }
   },
   "outputs": [],
   "source": [
    "plt.scatter(df_normalized['SM3'], df_normalized['EV2_1'])"
   ]
  },
  {
   "cell_type": "code",
   "execution_count": null,
   "id": "d9cafbda3496cf8",
   "metadata": {
    "ExecuteTime": {
     "start_time": "2023-11-21T15:33:07.612294500Z"
    }
   },
   "outputs": [],
   "source": [
    "plt.scatter(df_normalized['SM3'], df_normalized['EV1_2'])"
   ]
  },
  {
   "cell_type": "markdown",
   "id": "7bd9e466bb804cfb",
   "metadata": {},
   "source": [
    "# Modelo Lineal"
   ]
  },
  {
   "cell_type": "markdown",
   "id": "ecadd5c2d8dd30b2",
   "metadata": {},
   "source": [
    "## Predicción SM1"
   ]
  },
  {
   "cell_type": "code",
   "execution_count": 219,
   "id": "16b123bc430d1d9d",
   "metadata": {
    "ExecuteTime": {
     "end_time": "2023-11-22T04:26:03.923911400Z",
     "start_time": "2023-11-22T04:26:02.798620700Z"
    }
   },
   "outputs": [],
   "source": [
    "X_1 = df2[['EB%','EB1','EB2','SM2','EV1_1']]\n",
    "y_1 = df2['SM1']\n",
    "X_train, X_test, y_train, y_test = train_test_split(X_1, y_1, random_state=42, test_size=0.4)"
   ]
  },
  {
   "cell_type": "markdown",
   "id": "355fa93bc955c707",
   "metadata": {},
   "source": [
    "### Regresión Linear"
   ]
  },
  {
   "cell_type": "code",
   "execution_count": 220,
   "id": "478488929f1faded",
   "metadata": {
    "ExecuteTime": {
     "end_time": "2023-11-22T04:26:04.159098300Z",
     "start_time": "2023-11-22T04:26:02.830267500Z"
    }
   },
   "outputs": [
    {
     "name": "stdout",
     "output_type": "stream",
     "text": [
      "SM1: R2 = 0.7502695851396284, MAE = 1126.1248977259718\n"
     ]
    }
   ],
   "source": [
    "sm1 = LinearRegression()\n",
    "sm1.fit(X_train, y_train)\n",
    "y_pred = sm1.predict(X_test)\n",
    "r2_1 = r2_score(y_test, y_pred)\n",
    "mae_1 = mean_absolute_error(y_test, y_pred)\n",
    "print(f'SM1: R2 = {r2_1}, MAE = {mae_1}')"
   ]
  },
  {
   "cell_type": "markdown",
   "id": "12c26f69183d2dfb",
   "metadata": {},
   "source": [
    "Observaciones:\n",
    "Mayor puntuación, con un 30% de datos asignados para validación, con todos los datos de presión en [kPa]"
   ]
  },
  {
   "cell_type": "markdown",
   "id": "be968d753fa84a9a",
   "metadata": {},
   "source": [
    "### Regresión Linear Polinomial"
   ]
  },
  {
   "cell_type": "raw",
   "source": [
    "poly = PolynomialFeatures()\n",
    "linear = LinearRegression()\n",
    "sm1 = make_pipeline(poly, linear)\n",
    "param_grid = {'polynomialfeatures__degree': [2, 3, 4, 5, 6, 7, 8, 9, 10]}\n",
    "grid = GridSearchCV(sm1, param_grid)\n",
    "grid.fit(X_train, y_train)\n",
    "display(grid.best_params_)"
   ],
   "metadata": {
    "collapsed": false
   },
   "id": "d143f931d2eb6f4b"
  },
  {
   "cell_type": "code",
   "execution_count": 221,
   "id": "3470a943d1517ba8",
   "metadata": {
    "ExecuteTime": {
     "end_time": "2023-11-22T04:26:05.320790100Z",
     "start_time": "2023-11-22T04:26:02.877155Z"
    }
   },
   "outputs": [
    {
     "name": "stdout",
     "output_type": "stream",
     "text": [
      "SM1: R2 = 0.9528889045400045, MAE = 510.2336206442199\n"
     ]
    }
   ],
   "source": [
    "poly = PolynomialFeatures(degree=3)\n",
    "linear = LinearRegression()\n",
    "sm1 = make_pipeline(poly, linear)\n",
    "sm1.fit(X_train, y_train)\n",
    "y_pred = sm1.predict(X_test)\n",
    "r2_1 = r2_score(y_test, y_pred)\n",
    "mae_1 = mean_absolute_error(y_test, y_pred)\n",
    "print(f'SM1: R2 = {r2_1}, MAE = {mae_1}')"
   ]
  },
  {
   "cell_type": "markdown",
   "id": "ff706b8b8fe05df0",
   "metadata": {},
   "source": [
    "### Regresión Lasso"
   ]
  },
  {
   "cell_type": "code",
   "execution_count": 222,
   "id": "5a250ad581f0ff9a",
   "metadata": {
    "ExecuteTime": {
     "end_time": "2023-11-22T04:26:06.141214400Z",
     "start_time": "2023-11-22T04:26:03.222534900Z"
    }
   },
   "outputs": [
    {
     "name": "stdout",
     "output_type": "stream",
     "text": [
      "SM1: R2 = 0.7351899565507516, MAE = 1180.3034072051905\n"
     ]
    }
   ],
   "source": [
    "sm1 = LassoCV(max_iter=5000)\n",
    "sm1.fit(X_train, y_train)\n",
    "y_pred = sm1.predict(X_test)\n",
    "r2_1 = r2_score(y_test, y_pred)\n",
    "mae_1 = mean_absolute_error(y_test, y_pred)\n",
    "print(f'SM1: R2 = {r2_1}, MAE = {mae_1}')"
   ]
  },
  {
   "cell_type": "markdown",
   "id": "df8d651d4c016f2",
   "metadata": {},
   "source": [
    "En primer intento, se tuvo menor puntaje y problemas de convergencia.\n",
    "Se aumenta número de iteraciones y se obtiene mayor demora, manteniendo puntaje."
   ]
  },
  {
   "cell_type": "markdown",
   "id": "5e2eb9a3931e4c17",
   "metadata": {},
   "source": [
    "### Elastic Net"
   ]
  },
  {
   "cell_type": "code",
   "execution_count": 223,
   "id": "843343358e71d088",
   "metadata": {
    "ExecuteTime": {
     "end_time": "2023-11-22T04:26:06.578278400Z",
     "start_time": "2023-11-22T04:26:05.498780100Z"
    }
   },
   "outputs": [
    {
     "name": "stdout",
     "output_type": "stream",
     "text": [
      "SM1: R2 = 0.7091620396776757, MAE = 1248.6822513313455\n"
     ]
    }
   ],
   "source": [
    "sm1 = ElasticNetCV()\n",
    "sm1.fit(X_train, y_train)\n",
    "y_pred = sm1.predict(X_test)\n",
    "r2_1 = r2_score(y_test, y_pred)\n",
    "mae_1 = mean_absolute_error(y_test, y_pred)\n",
    "print(f'SM1: R2 = {r2_1}, MAE = {mae_1}')"
   ]
  },
  {
   "cell_type": "markdown",
   "id": "180129a43982176d",
   "metadata": {},
   "source": [
    "### SGD"
   ]
  },
  {
   "cell_type": "code",
   "execution_count": 224,
   "id": "d4c34de384a34094",
   "metadata": {
    "ExecuteTime": {
     "end_time": "2023-11-22T04:26:12.388140800Z",
     "start_time": "2023-11-22T04:26:06.562647600Z"
    }
   },
   "outputs": [
    {
     "name": "stdout",
     "output_type": "stream",
     "text": [
      "SM1: R2 = -1.3256787269807711e+25, MAE = 8885736339027663.0\n"
     ]
    }
   ],
   "source": [
    "sm1 = SGDRegressor()\n",
    "sm1.fit(X_train, y_train)\n",
    "y_pred = sm1.predict(X_test)\n",
    "r2_1 = r2_score(y_test, y_pred)\n",
    "mae_1 = mean_absolute_error(y_test, y_pred)\n",
    "print(f'SM1: R2 = {r2_1}, MAE = {mae_1}')"
   ]
  },
  {
   "cell_type": "markdown",
   "id": "6a4b6b544926d11c",
   "metadata": {},
   "source": [
    "### XGBoost"
   ]
  },
  {
   "cell_type": "code",
   "execution_count": 225,
   "id": "d12fc0f0dd8f41d8",
   "metadata": {
    "ExecuteTime": {
     "end_time": "2023-11-22T04:26:12.978658400Z",
     "start_time": "2023-11-22T04:26:12.388140800Z"
    }
   },
   "outputs": [
    {
     "name": "stdout",
     "output_type": "stream",
     "text": [
      "SM1: R2 = 0.9814259150023139, MAE = 277.32857523480305\n"
     ]
    }
   ],
   "source": [
    "sm1 = XGBRegressor(random_state=42, n_estimators=175, learning_rate=0.302, reg_lambda=1, reg_alpha=0.5)\n",
    "sm1.fit(X_train, y_train)\n",
    "y_pred = sm1.predict(X_test)\n",
    "r2_1 = r2_score(y_test, y_pred)\n",
    "mae_1 = mean_absolute_error(y_test, y_pred)\n",
    "print(f'SM1: R2 = {r2_1}, MAE = {mae_1}')"
   ]
  },
  {
   "cell_type": "markdown",
   "id": "cbe0f04572730352",
   "metadata": {},
   "source": [
    "### Random Forest"
   ]
  },
  {
   "cell_type": "raw",
   "id": "b1e347f63d7c9b5d",
   "metadata": {},
   "source": [
    "sm1 = RandomForestRegressor()\n",
    "sm1.fit(X_train, y_train)\n",
    "y_pred = sm1.predict(X_test)\n",
    "r2_1 = r2_score(y_test, y_pred)\n",
    "mae_1 = mean_absolute_error(y_test, y_pred)\n",
    "print(f'SM1: R2 = {r2_1}, MAE = {mae_1}')"
   ]
  },
  {
   "cell_type": "markdown",
   "id": "774c3b6149104",
   "metadata": {},
   "source": [
    "Observaciones:\n",
    "Entrenamiento lento, fuera de plazo máximo. Descartado."
   ]
  },
  {
   "cell_type": "markdown",
   "id": "d267fc0798bf354d",
   "metadata": {},
   "source": [
    "## Predicción SM2\n",
    "Luego del análisis explorativo, se encontró una alta correlación entre las mediciones de SM2 y EV1, por lo cual se escogen sus sensores como únicas entradas del modelo."
   ]
  },
  {
   "cell_type": "code",
   "execution_count": 226,
   "id": "a6297bd57a8bfd40",
   "metadata": {
    "ExecuteTime": {
     "end_time": "2023-11-22T04:26:12.978658400Z",
     "start_time": "2023-11-22T04:26:12.947406300Z"
    }
   },
   "outputs": [],
   "source": [
    "X_2 = df2[['EV1_1', 'EV1_2']]\n",
    "y_2 = df2['SM2']\n",
    "X_2_train, X_2_test, y_2_train, y_2_test = train_test_split(X_2, y_2, random_state=42, test_size=0.4)"
   ]
  },
  {
   "cell_type": "markdown",
   "id": "f992c9dc73c9fa66",
   "metadata": {},
   "source": [
    "### Regresión Linear"
   ]
  },
  {
   "cell_type": "code",
   "execution_count": 227,
   "id": "ac0a21d18c824c64",
   "metadata": {
    "ExecuteTime": {
     "end_time": "2023-11-22T04:26:13.098547500Z",
     "start_time": "2023-11-22T04:26:12.963031900Z"
    }
   },
   "outputs": [
    {
     "name": "stdout",
     "output_type": "stream",
     "text": [
      "SM2: R2 = 0.9951879786633565, MAE = 92.02318713802477\n"
     ]
    }
   ],
   "source": [
    "sm2 = LinearRegression()\n",
    "sm2.fit(X_2_train, y_2_train)\n",
    "y_2_pred = sm2.predict(X_2_test)\n",
    "r2_2 = r2_score(y_2_test, y_2_pred)\n",
    "mae_2 = mean_absolute_error(y_2_test, y_2_pred)\n",
    "print(f'SM2: R2 = {r2_2}, MAE = {mae_2}')"
   ]
  },
  {
   "cell_type": "markdown",
   "id": "4307d189f2658244",
   "metadata": {},
   "source": [
    "Observaciones:\n",
    "Evaluando indivdualmente, al considerar solo la medición de entrada de EV1, se obtiene una puntuación de R2 = 0.9948631933284161, MAE = 0.061770157769054965; considerando entrada y salida de EV1, se obtiene R2 = 0.9951739335689458, MAE = 0.06143409021178661."
   ]
  },
  {
   "cell_type": "markdown",
   "id": "8d898ad8f46a4fee",
   "metadata": {},
   "source": [
    "### Regresión Linear Polinomial"
   ]
  },
  {
   "cell_type": "raw",
   "source": [
    "poly = PolynomialFeatures()\n",
    "linear = LinearRegression()\n",
    "sm2 = make_pipeline(poly, linear)\n",
    "param_grid = {'polynomialfeatures__degree': [2, 3, 4, 5, 6, 7, 8, 9, 10]}\n",
    "grid = GridSearchCV(sm2, param_grid)\n",
    "grid.fit(X_2_train, y_2_train)\n",
    "display(grid.best_params_)"
   ],
   "metadata": {
    "collapsed": false
   },
   "id": "5d2f466135c10abf"
  },
  {
   "cell_type": "code",
   "execution_count": 228,
   "id": "f143d5876a1a30fc",
   "metadata": {
    "ExecuteTime": {
     "end_time": "2023-11-22T04:26:13.098547500Z",
     "start_time": "2023-11-22T04:26:12.994285Z"
    }
   },
   "outputs": [
    {
     "name": "stdout",
     "output_type": "stream",
     "text": [
      "SM2: R2 = 0.9957065089865466, MAE = 85.67681389206547\n"
     ]
    }
   ],
   "source": [
    "poly = PolynomialFeatures(degree=4)\n",
    "linear = LinearRegression()\n",
    "sm2 = make_pipeline(poly, linear)\n",
    "sm2.fit(X_2_train, y_2_train)\n",
    "y_2_pred = sm2.predict(X_2_test)\n",
    "r2_2 = r2_score(y_2_test, y_2_pred)\n",
    "mae_2 = mean_absolute_error(y_2_test, y_2_pred)\n",
    "print(f'SM2: R2 = {r2_2}, MAE = {mae_2}')"
   ]
  },
  {
   "cell_type": "markdown",
   "id": "c84422da85f14016",
   "metadata": {},
   "source": [
    "### Regresión Lasso"
   ]
  },
  {
   "cell_type": "code",
   "execution_count": 229,
   "id": "7d427889cf68b709",
   "metadata": {
    "ExecuteTime": {
     "end_time": "2023-11-22T04:26:13.452644400Z",
     "start_time": "2023-11-22T04:26:13.082924400Z"
    }
   },
   "outputs": [
    {
     "name": "stdout",
     "output_type": "stream",
     "text": [
      "SM2: R2 = 0.9951883007623118, MAE = 91.88570648924468\n"
     ]
    }
   ],
   "source": [
    "sm2 = LassoCV()\n",
    "sm2.fit(X_2_train, y_2_train)\n",
    "y_2_pred = sm2.predict(X_2_test)\n",
    "r2_2 = r2_score(y_2_test, y_2_pred)\n",
    "mae_2 = mean_absolute_error(y_2_test, y_2_pred)\n",
    "print(f'SM2: R2 = {r2_2}, MAE = {mae_2}')"
   ]
  },
  {
   "cell_type": "markdown",
   "id": "9b57cab397d037a5",
   "metadata": {},
   "source": [
    "### Elastic Net"
   ]
  },
  {
   "cell_type": "code",
   "execution_count": 230,
   "id": "5cbbdbcbb2cbb4b",
   "metadata": {
    "ExecuteTime": {
     "end_time": "2023-11-22T04:26:13.887128900Z",
     "start_time": "2023-11-22T04:26:13.452644400Z"
    }
   },
   "outputs": [
    {
     "name": "stdout",
     "output_type": "stream",
     "text": [
      "SM2: R2 = 0.9951855931811426, MAE = 92.00102721888321\n"
     ]
    }
   ],
   "source": [
    "sm2 = ElasticNetCV()\n",
    "sm2.fit(X_2_train, y_2_train)\n",
    "y_2_pred = sm2.predict(X_2_test)\n",
    "r2_2 = r2_score(y_2_test, y_2_pred)\n",
    "mae_2 = mean_absolute_error(y_2_test, y_2_pred)\n",
    "print(f'SM2: R2 = {r2_2}, MAE = {mae_2}')"
   ]
  },
  {
   "cell_type": "markdown",
   "id": "fddc44cb201f088b",
   "metadata": {},
   "source": [
    "### SGD"
   ]
  },
  {
   "cell_type": "code",
   "execution_count": 231,
   "id": "c462b9475c95c456",
   "metadata": {
    "ExecuteTime": {
     "end_time": "2023-11-22T04:26:16.791649Z",
     "start_time": "2023-11-22T04:26:13.812174700Z"
    }
   },
   "outputs": [
    {
     "name": "stdout",
     "output_type": "stream",
     "text": [
      "SM2: R2 = -1.1152976260355227e+24, MAE = 1506317266988942.5\n"
     ]
    }
   ],
   "source": [
    "sm2 = SGDRegressor()\n",
    "sm2.fit(X_2_train, y_2_train)\n",
    "y_2_pred = sm2.predict(X_2_test)\n",
    "r2_2 = r2_score(y_2_test, y_2_pred)\n",
    "mae_2 = mean_absolute_error(y_2_test, y_2_pred)\n",
    "print(f'SM2: R2 = {r2_2}, MAE = {mae_2}')"
   ]
  },
  {
   "cell_type": "markdown",
   "id": "fa7dd51419e03d2c",
   "metadata": {},
   "source": [
    "### XGBoost"
   ]
  },
  {
   "cell_type": "code",
   "execution_count": 232,
   "id": "923218bff8b99370",
   "metadata": {
    "ExecuteTime": {
     "end_time": "2023-11-22T04:26:16.964663800Z",
     "start_time": "2023-11-22T04:26:16.709585100Z"
    }
   },
   "outputs": [
    {
     "name": "stdout",
     "output_type": "stream",
     "text": [
      "SM2: R2 = 0.9950427877486195, MAE = 86.92988964874716\n"
     ]
    }
   ],
   "source": [
    "sm2 = XGBRegressor(random_state=42)\n",
    "sm2.fit(X_2_train, y_2_train)\n",
    "y_2_pred = sm2.predict(X_2_test)\n",
    "r2_2 = r2_score(y_2_test, y_2_pred)\n",
    "mae_2 = mean_absolute_error(y_2_test, y_2_pred)\n",
    "print(f'SM2: R2 = {r2_2}, MAE = {mae_2}')"
   ]
  },
  {
   "cell_type": "markdown",
   "id": "29003c3acba84a7a",
   "metadata": {},
   "source": [
    "## Predicción SM3\n",
    "Luego del análisis explorativo, se encontró una correlación entre las mediciones de SM3 y EV1, y entre SM3 y EB2."
   ]
  },
  {
   "cell_type": "code",
   "execution_count": 233,
   "id": "a0aeded01b1f3f9e",
   "metadata": {
    "ExecuteTime": {
     "end_time": "2023-11-22T04:26:17.058824400Z",
     "start_time": "2023-11-22T04:26:16.949025900Z"
    }
   },
   "outputs": [],
   "source": [
    "X_3 = df2[['SM2', 'EV1_2', 'EV2_1', 'EV2_2']]\n",
    "y_3 = df2['SM3']\n",
    "X_3_train, X_3_test, y_3_train, y_3_test = train_test_split(X_3, y_3, random_state=42, test_size=0.4)"
   ]
  },
  {
   "cell_type": "markdown",
   "id": "e11fb0884284e236",
   "metadata": {},
   "source": [
    "### Regresión Linear"
   ]
  },
  {
   "cell_type": "code",
   "execution_count": 234,
   "id": "eb0e88ae4ebb4b0",
   "metadata": {
    "ExecuteTime": {
     "end_time": "2023-11-22T04:26:17.074458800Z",
     "start_time": "2023-11-22T04:26:16.980291Z"
    }
   },
   "outputs": [
    {
     "name": "stdout",
     "output_type": "stream",
     "text": [
      "SM3: R2 = 0.8663263317109933, MAE = 290.06154586049433\n"
     ]
    }
   ],
   "source": [
    "sm3 = LinearRegression()\n",
    "sm3.fit(X_3_train, y_3_train)\n",
    "y_3_pred = sm3.predict(X_3_test) \n",
    "r2_3 = r2_score(y_3_test, y_3_pred)\n",
    "mae_3 = mean_absolute_error(y_3_test, y_3_pred)\n",
    "print(f'SM3: R2 = {r2_3}, MAE = {mae_3}')"
   ]
  },
  {
   "cell_type": "markdown",
   "id": "585c29a8c6a8f7f2",
   "metadata": {},
   "source": [
    "Observaciones:\n",
    "Evaluando indivdualmente, al considerar solo la medición de salida de EV1, se obtiene una puntuación de R2 = 0.757428290149249, MAE = 0.36624686002811024; y considerando solo la medición de entrada de EV2, se obtiene R2 = 0.5894141038841055, MAE = 0.44782809908607935.\n",
    "Considerando ambas mediciones, se obtiene R2 = 0.8643364789365919, MAE = 0.27408716724892734"
   ]
  },
  {
   "cell_type": "markdown",
   "id": "8590e8c4522ba75f",
   "metadata": {},
   "source": [
    "### Regresión Linear Polinomial"
   ]
  },
  {
   "cell_type": "raw",
   "source": [
    "poly = PolynomialFeatures()\n",
    "linear = LinearRegression()\n",
    "sm3 = make_pipeline(poly, linear)\n",
    "param_grid = {'polynomialfeatures__degree': [2, 3, 4, 5, 6, 7, 8, 9, 10]}\n",
    "grid = GridSearchCV(sm3, param_grid)\n",
    "grid.fit(X_3_train, y_3_train)\n",
    "display(grid.best_params_)"
   ],
   "metadata": {
    "collapsed": false
   },
   "id": "a19dd66368568573"
  },
  {
   "cell_type": "code",
   "execution_count": 248,
   "id": "c245c5df86464c5d",
   "metadata": {
    "ExecuteTime": {
     "end_time": "2023-11-22T04:48:41.942857400Z",
     "start_time": "2023-11-22T04:48:40.768804200Z"
    }
   },
   "outputs": [
    {
     "name": "stdout",
     "output_type": "stream",
     "text": [
      "SM3: R2 = 0.9134248735712982, MAE = 212.9049616762026\n"
     ]
    }
   ],
   "source": [
    "poly = PolynomialFeatures(degree=4)\n",
    "linear = LinearRegression()\n",
    "sm3 = make_pipeline(poly, linear)\n",
    "sm3.fit(X_3_train, y_3_train)\n",
    "y_3_pred = sm3.predict(X_3_test)\n",
    "r2_3 = r2_score(y_3_test, y_3_pred)\n",
    "mae_3 = mean_absolute_error(y_3_test, y_3_pred)\n",
    "print(f'SM3: R2 = {r2_3}, MAE = {mae_3}')"
   ]
  },
  {
   "cell_type": "markdown",
   "id": "696e4db354b4696f",
   "metadata": {},
   "source": [
    "### Regresión Lasso"
   ]
  },
  {
   "cell_type": "code",
   "execution_count": 236,
   "id": "80c9da5af7c0b9a8",
   "metadata": {
    "ExecuteTime": {
     "end_time": "2023-11-22T04:26:18.712731600Z",
     "start_time": "2023-11-22T04:26:18.234193200Z"
    }
   },
   "outputs": [
    {
     "name": "stdout",
     "output_type": "stream",
     "text": [
      "SM3: R2 = 0.8663192489145828, MAE = 290.0359064972062\n"
     ]
    }
   ],
   "source": [
    "sm3 = LassoCV()\n",
    "sm3.fit(X_3_train, y_3_train)\n",
    "y_3_pred = sm3.predict(X_3_test)\n",
    "r2_3 = r2_score(y_3_test, y_3_pred)\n",
    "mae_3 = mean_absolute_error(y_3_test, y_3_pred)\n",
    "print(f'SM3: R2 = {r2_3}, MAE = {mae_3}')"
   ]
  },
  {
   "cell_type": "markdown",
   "id": "5c7b273bd35d284c",
   "metadata": {},
   "source": [
    "### Elastic Net"
   ]
  },
  {
   "cell_type": "code",
   "execution_count": 237,
   "id": "dc432d66825276eb",
   "metadata": {
    "ExecuteTime": {
     "end_time": "2023-11-22T04:26:19.190450300Z",
     "start_time": "2023-11-22T04:26:18.712731600Z"
    }
   },
   "outputs": [
    {
     "name": "stdout",
     "output_type": "stream",
     "text": [
      "SM3: R2 = 0.8663014514728018, MAE = 290.00771589320857\n"
     ]
    }
   ],
   "source": [
    "sm3 = ElasticNetCV()\n",
    "sm3.fit(X_3_train, y_3_train)\n",
    "y_3_pred = sm3.predict(X_3_test)\n",
    "r2_3 = r2_score(y_3_test, y_3_pred)\n",
    "mae_3 = mean_absolute_error(y_3_test, y_3_pred)\n",
    "print(f'SM3: R2 = {r2_3}, MAE = {mae_3}')"
   ]
  },
  {
   "cell_type": "markdown",
   "id": "3d334d79231ba74d",
   "metadata": {},
   "source": [
    "### SGD"
   ]
  },
  {
   "cell_type": "code",
   "execution_count": 238,
   "id": "e28175358af95dc2",
   "metadata": {
    "ExecuteTime": {
     "end_time": "2023-11-22T04:26:22.302636400Z",
     "start_time": "2023-11-22T04:26:19.190450300Z"
    }
   },
   "outputs": [
    {
     "name": "stdout",
     "output_type": "stream",
     "text": [
      "SM3: R2 = -2.1508691535351057e+25, MAE = 4887222941849783.0\n"
     ]
    }
   ],
   "source": [
    "sm3 = SGDRegressor()\n",
    "sm3.fit(X_3_train, y_3_train)\n",
    "y_3_pred = sm3.predict(X_3_test)\n",
    "r2_3 = r2_score(y_3_test, y_3_pred)\n",
    "mae_3 = mean_absolute_error(y_3_test, y_3_pred)\n",
    "print(f'SM3: R2 = {r2_3}, MAE = {mae_3}')"
   ]
  },
  {
   "cell_type": "markdown",
   "id": "21f344d45b67d0f",
   "metadata": {},
   "source": [
    "### XGBoost"
   ]
  },
  {
   "cell_type": "code",
   "execution_count": 239,
   "id": "bd156d1617d5bc2b",
   "metadata": {
    "ExecuteTime": {
     "end_time": "2023-11-22T04:26:22.820487500Z",
     "start_time": "2023-11-22T04:26:22.302636400Z"
    }
   },
   "outputs": [
    {
     "name": "stdout",
     "output_type": "stream",
     "text": [
      "SM3: R2 = 0.9503469215649503, MAE = 144.6383184903375\n"
     ]
    }
   ],
   "source": [
    "sm3 = XGBRegressor(random_state=42, n_estimators=175, learning_rate=0.302, reg_lambda=1, reg_alpha=0.5)\n",
    "sm3.fit(X_3_train, y_3_train)\n",
    "y_3_pred = sm3.predict(X_3_test)\n",
    "r2_3 = r2_score(y_3_test, y_3_pred)\n",
    "mae_3 = mean_absolute_error(y_3_test, y_3_pred)\n",
    "print(f'SM3: R2 = {r2_3}, MAE = {mae_3}')"
   ]
  },
  {
   "cell_type": "markdown",
   "id": "e323a887a7135cc",
   "metadata": {},
   "source": [
    "## Predicción SM4\n",
    "Luego del análisis explorativo, se encontró una correlación entre las mediciones de SM4 y EV2, y entre SM4 y EDT1."
   ]
  },
  {
   "cell_type": "code",
   "execution_count": 240,
   "id": "5c3674fa6a06f76c",
   "metadata": {
    "ExecuteTime": {
     "end_time": "2023-11-22T04:26:22.867776700Z",
     "start_time": "2023-11-22T04:26:22.804858Z"
    }
   },
   "outputs": [],
   "source": [
    "X_4 = df2[['EV2_1','EV2_2', 'EDT%', 'EDT1']] \n",
    "y_4 = df2['SM4']\n",
    "X_4_train, X_4_test, y_4_train, y_4_test = train_test_split(X_4, y_4, random_state=42, test_size=0.4)"
   ]
  },
  {
   "cell_type": "markdown",
   "id": "14e1ea27dc7323da",
   "metadata": {},
   "source": [
    "### Regresión Linear"
   ]
  },
  {
   "cell_type": "code",
   "execution_count": 241,
   "id": "6c80fb3c60f1c452",
   "metadata": {
    "ExecuteTime": {
     "end_time": "2023-11-22T04:26:22.947414800Z",
     "start_time": "2023-11-22T04:26:22.836112600Z"
    }
   },
   "outputs": [
    {
     "name": "stdout",
     "output_type": "stream",
     "text": [
      "SM4: R2 = 0.8760905570138721, MAE = 158.73424488737462\n"
     ]
    }
   ],
   "source": [
    "sm4 = LinearRegression()\n",
    "sm4.fit(X_4_train, y_4_train)\n",
    "y_4_pred = sm4.predict(X_4_test)\n",
    "r2_4 = r2_score(y_4_test, y_4_pred)\n",
    "mae_4 = mean_absolute_error(y_4_test, y_4_pred)\n",
    "print(f'SM4: R2 = {r2_4}, MAE = {mae_4}')"
   ]
  },
  {
   "cell_type": "markdown",
   "id": "e0d5216f923da0a1",
   "metadata": {},
   "source": [
    "### Regresión Lineal Polinomial"
   ]
  },
  {
   "cell_type": "raw",
   "source": [
    "poly = PolynomialFeatures()\n",
    "linear = LinearRegression()\n",
    "sm4 = make_pipeline(poly, linear)\n",
    "param_grid = {'polynomialfeatures__degree': [2, 3, 4, 5, 6, 7, 8, 9, 10]}\n",
    "grid = GridSearchCV(sm4, param_grid)\n",
    "grid.fit(X_4_train, y_4_train)\n",
    "display(grid.best_params_)"
   ],
   "metadata": {
    "collapsed": false
   },
   "id": "4ce8989d72d19309"
  },
  {
   "cell_type": "code",
   "execution_count": 242,
   "id": "d35e40f1950b249d",
   "metadata": {
    "ExecuteTime": {
     "end_time": "2023-11-22T04:26:23.376372700Z",
     "start_time": "2023-11-22T04:26:22.867776700Z"
    }
   },
   "outputs": [
    {
     "name": "stdout",
     "output_type": "stream",
     "text": [
      "SM4: R2 = 0.9277962653478198, MAE = 87.08924855419416\n"
     ]
    }
   ],
   "source": [
    "poly = PolynomialFeatures(degree=4)\n",
    "linear = LinearRegression()\n",
    "sm4 = make_pipeline(poly, linear)\n",
    "sm4.fit(X_4_train, y_4_train)\n",
    "y_4_pred = sm4.predict(X_4_test)\n",
    "r2_4 = r2_score(y_4_test, y_4_pred)\n",
    "mae_4 = mean_absolute_error(y_4_test, y_4_pred)\n",
    "print(f'SM4: R2 = {r2_4}, MAE = {mae_4}')"
   ]
  },
  {
   "cell_type": "markdown",
   "id": "859c492bc5ea355b",
   "metadata": {},
   "source": [
    "### Regresión Lasso"
   ]
  },
  {
   "cell_type": "code",
   "execution_count": 243,
   "id": "f003d05b4a025175",
   "metadata": {
    "ExecuteTime": {
     "end_time": "2023-11-22T04:26:23.768618200Z",
     "start_time": "2023-11-22T04:26:23.360736500Z"
    }
   },
   "outputs": [
    {
     "name": "stdout",
     "output_type": "stream",
     "text": [
      "SM4: R2 = 0.8743440421327682, MAE = 166.47632528620463\n"
     ]
    }
   ],
   "source": [
    "sm4 = LassoCV()\n",
    "sm4.fit(X_4_train, y_4_train)\n",
    "y_4_pred = sm4.predict(X_4_test)\n",
    "r2_4 = r2_score(y_4_test, y_4_pred)\n",
    "mae_4 = mean_absolute_error(y_4_test, y_4_pred)\n",
    "print(f'SM4: R2 = {r2_4}, MAE = {mae_4}')"
   ]
  },
  {
   "cell_type": "markdown",
   "id": "1ea9a5bd9574da82",
   "metadata": {},
   "source": [
    "### Elastic Net"
   ]
  },
  {
   "cell_type": "code",
   "execution_count": 244,
   "id": "2f97f1a9010d9733",
   "metadata": {
    "ExecuteTime": {
     "end_time": "2023-11-22T04:26:24.178315800Z",
     "start_time": "2023-11-22T04:26:23.768618200Z"
    }
   },
   "outputs": [
    {
     "name": "stdout",
     "output_type": "stream",
     "text": [
      "SM4: R2 = 0.8337612634590793, MAE = 212.13140705593008\n"
     ]
    }
   ],
   "source": [
    "sm4 = ElasticNetCV()\n",
    "sm4.fit(X_4_train, y_4_train)\n",
    "y_4_pred = sm4.predict(X_4_test)\n",
    "r2_4 = r2_score(y_4_test, y_4_pred)\n",
    "mae_4 = mean_absolute_error(y_4_test, y_4_pred)\n",
    "print(f'SM4: R2 = {r2_4}, MAE = {mae_4}')"
   ]
  },
  {
   "cell_type": "markdown",
   "id": "a5e5e788dfc6f508",
   "metadata": {},
   "source": [
    "### SGD"
   ]
  },
  {
   "cell_type": "code",
   "execution_count": 245,
   "id": "4f9b84f6c2a5e732",
   "metadata": {
    "ExecuteTime": {
     "end_time": "2023-11-22T04:26:29.836924600Z",
     "start_time": "2023-11-22T04:26:24.178315800Z"
    }
   },
   "outputs": [
    {
     "name": "stdout",
     "output_type": "stream",
     "text": [
      "SM4: R2 = -2.902078293159654e+25, MAE = 3682519252781018.0\n"
     ]
    }
   ],
   "source": [
    "sm4 = SGDRegressor()\n",
    "sm4.fit(X_4_train, y_4_train)\n",
    "y_4_pred = sm4.predict(X_4_test)\n",
    "r2_4 = r2_score(y_4_test, y_4_pred)\n",
    "mae_4 = mean_absolute_error(y_4_test, y_4_pred)\n",
    "print(f'SM4: R2 = {r2_4}, MAE = {mae_4}')"
   ]
  },
  {
   "cell_type": "markdown",
   "id": "341a4a54819efe9c",
   "metadata": {},
   "source": [
    "### XGBoost"
   ]
  },
  {
   "cell_type": "code",
   "execution_count": 246,
   "id": "b5faf96c8e17cbc9",
   "metadata": {
    "ExecuteTime": {
     "end_time": "2023-11-22T04:26:30.275611400Z",
     "start_time": "2023-11-22T04:26:29.820995100Z"
    }
   },
   "outputs": [
    {
     "name": "stdout",
     "output_type": "stream",
     "text": [
      "SM4: R2 = 0.9657182823470207, MAE = 57.788102225919836\n"
     ]
    }
   ],
   "source": [
    "sm4 = XGBRegressor(random_state=42, n_estimators=175, learning_rate=0.302, reg_lambda=1, reg_alpha=0.5)\n",
    "sm4.fit(X_4_train, y_4_train)\n",
    "y_4_pred = sm4.predict(X_4_test)\n",
    "r2_4 = r2_score(y_4_test, y_4_pred)\n",
    "mae_4 = mean_absolute_error(y_4_test, y_4_pred)\n",
    "print(f'SM4: R2 = {r2_4}, MAE = {mae_4}')"
   ]
  },
  {
   "cell_type": "code",
   "execution_count": 246,
   "id": "cb2724536f29ad28",
   "metadata": {
    "ExecuteTime": {
     "end_time": "2023-11-22T04:26:30.322496700Z",
     "start_time": "2023-11-22T04:26:30.275611400Z"
    }
   },
   "outputs": [],
   "source": []
  }
 ],
 "metadata": {
  "kernelspec": {
   "display_name": "Python 3 (ipykernel)",
   "language": "python",
   "name": "python3"
  },
  "language_info": {
   "codemirror_mode": {
    "name": "ipython",
    "version": 3
   },
   "file_extension": ".py",
   "mimetype": "text/x-python",
   "name": "python",
   "nbconvert_exporter": "python",
   "pygments_lexer": "ipython3",
   "version": "3.9.16"
  }
 },
 "nbformat": 4,
 "nbformat_minor": 5
}
