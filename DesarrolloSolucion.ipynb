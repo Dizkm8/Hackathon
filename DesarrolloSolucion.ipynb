{
 "cells": [
  {
   "cell_type": "markdown",
   "id": "5760456efb47f7dd",
   "metadata": {},
   "source": [
    "# Hackathon\n",
    "# Trabajo de desarrollo y selección de modelos\n",
    "Autores: \n",
    "Equipo ARCA: José Alcayaga, David Araya, Marcelo Céspedes, Ignacia Rivas, Jorge Rivera"
   ]
  },
  {
   "cell_type": "code",
   "execution_count": 1,
   "id": "initial_id",
   "metadata": {
    "ExecuteTime": {
     "end_time": "2023-11-22T20:02:24.989204200Z",
     "start_time": "2023-11-22T20:02:23.508848400Z"
    }
   },
   "outputs": [],
   "source": [
    "import pandas as pd\n",
    "import matplotlib.pyplot as plt\n",
    "import numpy as np\n",
    "from sklearn.linear_model import LinearRegression, LassoCV, ElasticNetCV, SGDRegressor\n",
    "from sklearn.preprocessing import PolynomialFeatures, StandardScaler\n",
    "from sklearn.pipeline import make_pipeline\n",
    "from sklearn.model_selection import GridSearchCV, cross_validate\n",
    "from xgboost import XGBRegressor\n",
    "from sklearn.model_selection import train_test_split\n",
    "from sklearn.metrics import r2_score, mean_absolute_error, mean_squared_error"
   ]
  },
  {
   "cell_type": "code",
   "execution_count": 2,
   "outputs": [],
   "source": [
    "columns_rename = {\n",
    " 'tiempo': 'T',\n",
    " '% Solido  Bombeo concentrado_EB': 'EB%', \n",
    " 'Presión de Descarga_EB_1': 'EB1',\n",
    " 'Presión de Descarga_EB_2': 'EB2',\n",
    " 'Presion_Estación de Valvulas_EV1_1': 'EV1_1',\n",
    " 'Presión estación de valvulas 2_EV2_1': 'EV2_1',\n",
    " 'Presion_Estación de Valvulas_EV1_2': 'EV1_2',\n",
    " 'Presión estación de valvulas 2_EV2_2': 'EV2_2',\n",
    " 'Presión_SM-1': 'SM1',\n",
    " 'Presión_SM-2': 'SM2',\n",
    " 'Presión_SM-3': 'SM3',\n",
    " 'Presión_SM-4': 'SM4',\n",
    " 'Porcentaje de Solido Alimentación Espesador': 'EDT%',\n",
    " 'Presión_EDT_1': 'EDT1',\n",
    " 'Presión_EDT_2': 'EDT2',\n",
    " 'Presión_EDT_3': 'EDT3'\n",
    "}"
   ],
   "metadata": {
    "collapsed": false,
    "ExecuteTime": {
     "end_time": "2023-11-22T20:02:25.002204Z",
     "start_time": "2023-11-22T20:02:24.868690800Z"
    }
   },
   "id": "e0c660306b9bee83"
  },
  {
   "cell_type": "markdown",
   "id": "a97ae6090ccf4eaa",
   "metadata": {},
   "source": [
    "# Lectura de datos"
   ]
  },
  {
   "cell_type": "code",
   "execution_count": 3,
   "id": "6a1ee7894e64d3af",
   "metadata": {
    "ExecuteTime": {
     "end_time": "2023-11-22T20:02:28.666187400Z",
     "start_time": "2023-11-22T20:02:24.881690600Z"
    }
   },
   "outputs": [
    {
     "ename": "KeyboardInterrupt",
     "evalue": "",
     "output_type": "error",
     "traceback": [
      "\u001B[1;31m---------------------------------------------------------------------------\u001B[0m",
      "\u001B[1;31mKeyboardInterrupt\u001B[0m                         Traceback (most recent call last)",
      "Cell \u001B[1;32mIn[3], line 1\u001B[0m\n\u001B[1;32m----> 1\u001B[0m data \u001B[38;5;241m=\u001B[39m \u001B[43mpd\u001B[49m\u001B[38;5;241;43m.\u001B[39;49m\u001B[43mread_excel\u001B[49m\u001B[43m(\u001B[49m\u001B[38;5;124;43m'\u001B[39;49m\u001B[38;5;124;43mHack_concentraducto_v01.xlsx\u001B[39;49m\u001B[38;5;124;43m'\u001B[39;49m\u001B[43m,\u001B[49m\u001B[43m \u001B[49m\u001B[43msheet_name\u001B[49m\u001B[38;5;241;43m=\u001B[39;49m\u001B[38;5;124;43m'\u001B[39;49m\u001B[38;5;124;43mData_Hackathon\u001B[39;49m\u001B[38;5;124;43m'\u001B[39;49m\u001B[43m)\u001B[49m\n\u001B[0;32m      2\u001B[0m df1 \u001B[38;5;241m=\u001B[39m data\u001B[38;5;241m.\u001B[39mcopy()\n\u001B[0;32m      3\u001B[0m df1\u001B[38;5;241m.\u001B[39mhead()\n",
      "File \u001B[1;32m~\\Dvd\\Centinela\\Hackaton\\venv\\lib\\site-packages\\pandas\\io\\excel\\_base.py:517\u001B[0m, in \u001B[0;36mread_excel\u001B[1;34m(io, sheet_name, header, names, index_col, usecols, dtype, engine, converters, true_values, false_values, skiprows, nrows, na_values, keep_default_na, na_filter, verbose, parse_dates, date_parser, date_format, thousands, decimal, comment, skipfooter, storage_options, dtype_backend, engine_kwargs)\u001B[0m\n\u001B[0;32m    511\u001B[0m     \u001B[38;5;28;01mraise\u001B[39;00m \u001B[38;5;167;01mValueError\u001B[39;00m(\n\u001B[0;32m    512\u001B[0m         \u001B[38;5;124m\"\u001B[39m\u001B[38;5;124mEngine should not be specified when passing \u001B[39m\u001B[38;5;124m\"\u001B[39m\n\u001B[0;32m    513\u001B[0m         \u001B[38;5;124m\"\u001B[39m\u001B[38;5;124man ExcelFile - ExcelFile already has the engine set\u001B[39m\u001B[38;5;124m\"\u001B[39m\n\u001B[0;32m    514\u001B[0m     )\n\u001B[0;32m    516\u001B[0m \u001B[38;5;28;01mtry\u001B[39;00m:\n\u001B[1;32m--> 517\u001B[0m     data \u001B[38;5;241m=\u001B[39m \u001B[43mio\u001B[49m\u001B[38;5;241;43m.\u001B[39;49m\u001B[43mparse\u001B[49m\u001B[43m(\u001B[49m\n\u001B[0;32m    518\u001B[0m \u001B[43m        \u001B[49m\u001B[43msheet_name\u001B[49m\u001B[38;5;241;43m=\u001B[39;49m\u001B[43msheet_name\u001B[49m\u001B[43m,\u001B[49m\n\u001B[0;32m    519\u001B[0m \u001B[43m        \u001B[49m\u001B[43mheader\u001B[49m\u001B[38;5;241;43m=\u001B[39;49m\u001B[43mheader\u001B[49m\u001B[43m,\u001B[49m\n\u001B[0;32m    520\u001B[0m \u001B[43m        \u001B[49m\u001B[43mnames\u001B[49m\u001B[38;5;241;43m=\u001B[39;49m\u001B[43mnames\u001B[49m\u001B[43m,\u001B[49m\n\u001B[0;32m    521\u001B[0m \u001B[43m        \u001B[49m\u001B[43mindex_col\u001B[49m\u001B[38;5;241;43m=\u001B[39;49m\u001B[43mindex_col\u001B[49m\u001B[43m,\u001B[49m\n\u001B[0;32m    522\u001B[0m \u001B[43m        \u001B[49m\u001B[43musecols\u001B[49m\u001B[38;5;241;43m=\u001B[39;49m\u001B[43musecols\u001B[49m\u001B[43m,\u001B[49m\n\u001B[0;32m    523\u001B[0m \u001B[43m        \u001B[49m\u001B[43mdtype\u001B[49m\u001B[38;5;241;43m=\u001B[39;49m\u001B[43mdtype\u001B[49m\u001B[43m,\u001B[49m\n\u001B[0;32m    524\u001B[0m \u001B[43m        \u001B[49m\u001B[43mconverters\u001B[49m\u001B[38;5;241;43m=\u001B[39;49m\u001B[43mconverters\u001B[49m\u001B[43m,\u001B[49m\n\u001B[0;32m    525\u001B[0m \u001B[43m        \u001B[49m\u001B[43mtrue_values\u001B[49m\u001B[38;5;241;43m=\u001B[39;49m\u001B[43mtrue_values\u001B[49m\u001B[43m,\u001B[49m\n\u001B[0;32m    526\u001B[0m \u001B[43m        \u001B[49m\u001B[43mfalse_values\u001B[49m\u001B[38;5;241;43m=\u001B[39;49m\u001B[43mfalse_values\u001B[49m\u001B[43m,\u001B[49m\n\u001B[0;32m    527\u001B[0m \u001B[43m        \u001B[49m\u001B[43mskiprows\u001B[49m\u001B[38;5;241;43m=\u001B[39;49m\u001B[43mskiprows\u001B[49m\u001B[43m,\u001B[49m\n\u001B[0;32m    528\u001B[0m \u001B[43m        \u001B[49m\u001B[43mnrows\u001B[49m\u001B[38;5;241;43m=\u001B[39;49m\u001B[43mnrows\u001B[49m\u001B[43m,\u001B[49m\n\u001B[0;32m    529\u001B[0m \u001B[43m        \u001B[49m\u001B[43mna_values\u001B[49m\u001B[38;5;241;43m=\u001B[39;49m\u001B[43mna_values\u001B[49m\u001B[43m,\u001B[49m\n\u001B[0;32m    530\u001B[0m \u001B[43m        \u001B[49m\u001B[43mkeep_default_na\u001B[49m\u001B[38;5;241;43m=\u001B[39;49m\u001B[43mkeep_default_na\u001B[49m\u001B[43m,\u001B[49m\n\u001B[0;32m    531\u001B[0m \u001B[43m        \u001B[49m\u001B[43mna_filter\u001B[49m\u001B[38;5;241;43m=\u001B[39;49m\u001B[43mna_filter\u001B[49m\u001B[43m,\u001B[49m\n\u001B[0;32m    532\u001B[0m \u001B[43m        \u001B[49m\u001B[43mverbose\u001B[49m\u001B[38;5;241;43m=\u001B[39;49m\u001B[43mverbose\u001B[49m\u001B[43m,\u001B[49m\n\u001B[0;32m    533\u001B[0m \u001B[43m        \u001B[49m\u001B[43mparse_dates\u001B[49m\u001B[38;5;241;43m=\u001B[39;49m\u001B[43mparse_dates\u001B[49m\u001B[43m,\u001B[49m\n\u001B[0;32m    534\u001B[0m \u001B[43m        \u001B[49m\u001B[43mdate_parser\u001B[49m\u001B[38;5;241;43m=\u001B[39;49m\u001B[43mdate_parser\u001B[49m\u001B[43m,\u001B[49m\n\u001B[0;32m    535\u001B[0m \u001B[43m        \u001B[49m\u001B[43mdate_format\u001B[49m\u001B[38;5;241;43m=\u001B[39;49m\u001B[43mdate_format\u001B[49m\u001B[43m,\u001B[49m\n\u001B[0;32m    536\u001B[0m \u001B[43m        \u001B[49m\u001B[43mthousands\u001B[49m\u001B[38;5;241;43m=\u001B[39;49m\u001B[43mthousands\u001B[49m\u001B[43m,\u001B[49m\n\u001B[0;32m    537\u001B[0m \u001B[43m        \u001B[49m\u001B[43mdecimal\u001B[49m\u001B[38;5;241;43m=\u001B[39;49m\u001B[43mdecimal\u001B[49m\u001B[43m,\u001B[49m\n\u001B[0;32m    538\u001B[0m \u001B[43m        \u001B[49m\u001B[43mcomment\u001B[49m\u001B[38;5;241;43m=\u001B[39;49m\u001B[43mcomment\u001B[49m\u001B[43m,\u001B[49m\n\u001B[0;32m    539\u001B[0m \u001B[43m        \u001B[49m\u001B[43mskipfooter\u001B[49m\u001B[38;5;241;43m=\u001B[39;49m\u001B[43mskipfooter\u001B[49m\u001B[43m,\u001B[49m\n\u001B[0;32m    540\u001B[0m \u001B[43m        \u001B[49m\u001B[43mdtype_backend\u001B[49m\u001B[38;5;241;43m=\u001B[39;49m\u001B[43mdtype_backend\u001B[49m\u001B[43m,\u001B[49m\n\u001B[0;32m    541\u001B[0m \u001B[43m    \u001B[49m\u001B[43m)\u001B[49m\n\u001B[0;32m    542\u001B[0m \u001B[38;5;28;01mfinally\u001B[39;00m:\n\u001B[0;32m    543\u001B[0m     \u001B[38;5;66;03m# make sure to close opened file handles\u001B[39;00m\n\u001B[0;32m    544\u001B[0m     \u001B[38;5;28;01mif\u001B[39;00m should_close:\n",
      "File \u001B[1;32m~\\Dvd\\Centinela\\Hackaton\\venv\\lib\\site-packages\\pandas\\io\\excel\\_base.py:1629\u001B[0m, in \u001B[0;36mExcelFile.parse\u001B[1;34m(self, sheet_name, header, names, index_col, usecols, converters, true_values, false_values, skiprows, nrows, na_values, parse_dates, date_parser, date_format, thousands, comment, skipfooter, dtype_backend, **kwds)\u001B[0m\n\u001B[0;32m   1589\u001B[0m \u001B[38;5;28;01mdef\u001B[39;00m \u001B[38;5;21mparse\u001B[39m(\n\u001B[0;32m   1590\u001B[0m     \u001B[38;5;28mself\u001B[39m,\n\u001B[0;32m   1591\u001B[0m     sheet_name: \u001B[38;5;28mstr\u001B[39m \u001B[38;5;241m|\u001B[39m \u001B[38;5;28mint\u001B[39m \u001B[38;5;241m|\u001B[39m \u001B[38;5;28mlist\u001B[39m[\u001B[38;5;28mint\u001B[39m] \u001B[38;5;241m|\u001B[39m \u001B[38;5;28mlist\u001B[39m[\u001B[38;5;28mstr\u001B[39m] \u001B[38;5;241m|\u001B[39m \u001B[38;5;28;01mNone\u001B[39;00m \u001B[38;5;241m=\u001B[39m \u001B[38;5;241m0\u001B[39m,\n\u001B[1;32m   (...)\u001B[0m\n\u001B[0;32m   1609\u001B[0m     \u001B[38;5;241m*\u001B[39m\u001B[38;5;241m*\u001B[39mkwds,\n\u001B[0;32m   1610\u001B[0m ) \u001B[38;5;241m-\u001B[39m\u001B[38;5;241m>\u001B[39m DataFrame \u001B[38;5;241m|\u001B[39m \u001B[38;5;28mdict\u001B[39m[\u001B[38;5;28mstr\u001B[39m, DataFrame] \u001B[38;5;241m|\u001B[39m \u001B[38;5;28mdict\u001B[39m[\u001B[38;5;28mint\u001B[39m, DataFrame]:\n\u001B[0;32m   1611\u001B[0m \u001B[38;5;250m    \u001B[39m\u001B[38;5;124;03m\"\"\"\u001B[39;00m\n\u001B[0;32m   1612\u001B[0m \u001B[38;5;124;03m    Parse specified sheet(s) into a DataFrame.\u001B[39;00m\n\u001B[0;32m   1613\u001B[0m \n\u001B[1;32m   (...)\u001B[0m\n\u001B[0;32m   1627\u001B[0m \u001B[38;5;124;03m    >>> file.parse()  # doctest: +SKIP\u001B[39;00m\n\u001B[0;32m   1628\u001B[0m \u001B[38;5;124;03m    \"\"\"\u001B[39;00m\n\u001B[1;32m-> 1629\u001B[0m     \u001B[38;5;28;01mreturn\u001B[39;00m \u001B[38;5;28mself\u001B[39m\u001B[38;5;241m.\u001B[39m_reader\u001B[38;5;241m.\u001B[39mparse(\n\u001B[0;32m   1630\u001B[0m         sheet_name\u001B[38;5;241m=\u001B[39msheet_name,\n\u001B[0;32m   1631\u001B[0m         header\u001B[38;5;241m=\u001B[39mheader,\n\u001B[0;32m   1632\u001B[0m         names\u001B[38;5;241m=\u001B[39mnames,\n\u001B[0;32m   1633\u001B[0m         index_col\u001B[38;5;241m=\u001B[39mindex_col,\n\u001B[0;32m   1634\u001B[0m         usecols\u001B[38;5;241m=\u001B[39musecols,\n\u001B[0;32m   1635\u001B[0m         converters\u001B[38;5;241m=\u001B[39mconverters,\n\u001B[0;32m   1636\u001B[0m         true_values\u001B[38;5;241m=\u001B[39mtrue_values,\n\u001B[0;32m   1637\u001B[0m         false_values\u001B[38;5;241m=\u001B[39mfalse_values,\n\u001B[0;32m   1638\u001B[0m         skiprows\u001B[38;5;241m=\u001B[39mskiprows,\n\u001B[0;32m   1639\u001B[0m         nrows\u001B[38;5;241m=\u001B[39mnrows,\n\u001B[0;32m   1640\u001B[0m         na_values\u001B[38;5;241m=\u001B[39mna_values,\n\u001B[0;32m   1641\u001B[0m         parse_dates\u001B[38;5;241m=\u001B[39mparse_dates,\n\u001B[0;32m   1642\u001B[0m         date_parser\u001B[38;5;241m=\u001B[39mdate_parser,\n\u001B[0;32m   1643\u001B[0m         date_format\u001B[38;5;241m=\u001B[39mdate_format,\n\u001B[0;32m   1644\u001B[0m         thousands\u001B[38;5;241m=\u001B[39mthousands,\n\u001B[0;32m   1645\u001B[0m         comment\u001B[38;5;241m=\u001B[39mcomment,\n\u001B[0;32m   1646\u001B[0m         skipfooter\u001B[38;5;241m=\u001B[39mskipfooter,\n\u001B[0;32m   1647\u001B[0m         dtype_backend\u001B[38;5;241m=\u001B[39mdtype_backend,\n\u001B[0;32m   1648\u001B[0m         \u001B[38;5;241m*\u001B[39m\u001B[38;5;241m*\u001B[39mkwds,\n\u001B[0;32m   1649\u001B[0m     )\n",
      "File \u001B[1;32m~\\Dvd\\Centinela\\Hackaton\\venv\\lib\\site-packages\\pandas\\io\\excel\\_base.py:793\u001B[0m, in \u001B[0;36mBaseExcelReader.parse\u001B[1;34m(self, sheet_name, header, names, index_col, usecols, dtype, true_values, false_values, skiprows, nrows, na_values, verbose, parse_dates, date_parser, date_format, thousands, decimal, comment, skipfooter, dtype_backend, **kwds)\u001B[0m\n\u001B[0;32m    790\u001B[0m     sheet \u001B[38;5;241m=\u001B[39m \u001B[38;5;28mself\u001B[39m\u001B[38;5;241m.\u001B[39mget_sheet_by_index(asheetname)\n\u001B[0;32m    792\u001B[0m file_rows_needed \u001B[38;5;241m=\u001B[39m \u001B[38;5;28mself\u001B[39m\u001B[38;5;241m.\u001B[39m_calc_rows(header, index_col, skiprows, nrows)\n\u001B[1;32m--> 793\u001B[0m data \u001B[38;5;241m=\u001B[39m \u001B[38;5;28;43mself\u001B[39;49m\u001B[38;5;241;43m.\u001B[39;49m\u001B[43mget_sheet_data\u001B[49m\u001B[43m(\u001B[49m\u001B[43msheet\u001B[49m\u001B[43m,\u001B[49m\u001B[43m \u001B[49m\u001B[43mfile_rows_needed\u001B[49m\u001B[43m)\u001B[49m\n\u001B[0;32m    794\u001B[0m \u001B[38;5;28;01mif\u001B[39;00m \u001B[38;5;28mhasattr\u001B[39m(sheet, \u001B[38;5;124m\"\u001B[39m\u001B[38;5;124mclose\u001B[39m\u001B[38;5;124m\"\u001B[39m):\n\u001B[0;32m    795\u001B[0m     \u001B[38;5;66;03m# pyxlsb opens two TemporaryFiles\u001B[39;00m\n\u001B[0;32m    796\u001B[0m     sheet\u001B[38;5;241m.\u001B[39mclose()\n",
      "File \u001B[1;32m~\\Dvd\\Centinela\\Hackaton\\venv\\lib\\site-packages\\pandas\\io\\excel\\_openpyxl.py:616\u001B[0m, in \u001B[0;36mOpenpyxlReader.get_sheet_data\u001B[1;34m(self, sheet, file_rows_needed)\u001B[0m\n\u001B[0;32m    614\u001B[0m data: \u001B[38;5;28mlist\u001B[39m[\u001B[38;5;28mlist\u001B[39m[Scalar]] \u001B[38;5;241m=\u001B[39m []\n\u001B[0;32m    615\u001B[0m last_row_with_data \u001B[38;5;241m=\u001B[39m \u001B[38;5;241m-\u001B[39m\u001B[38;5;241m1\u001B[39m\n\u001B[1;32m--> 616\u001B[0m \u001B[38;5;28;01mfor\u001B[39;00m row_number, row \u001B[38;5;129;01min\u001B[39;00m \u001B[38;5;28menumerate\u001B[39m(sheet\u001B[38;5;241m.\u001B[39mrows):\n\u001B[0;32m    617\u001B[0m     converted_row \u001B[38;5;241m=\u001B[39m [\u001B[38;5;28mself\u001B[39m\u001B[38;5;241m.\u001B[39m_convert_cell(cell) \u001B[38;5;28;01mfor\u001B[39;00m cell \u001B[38;5;129;01min\u001B[39;00m row]\n\u001B[0;32m    618\u001B[0m     \u001B[38;5;28;01mwhile\u001B[39;00m converted_row \u001B[38;5;129;01mand\u001B[39;00m converted_row[\u001B[38;5;241m-\u001B[39m\u001B[38;5;241m1\u001B[39m] \u001B[38;5;241m==\u001B[39m \u001B[38;5;124m\"\u001B[39m\u001B[38;5;124m\"\u001B[39m:\n\u001B[0;32m    619\u001B[0m         \u001B[38;5;66;03m# trim trailing empty elements\u001B[39;00m\n",
      "File \u001B[1;32m~\\Dvd\\Centinela\\Hackaton\\venv\\lib\\site-packages\\openpyxl\\worksheet\\_read_only.py:79\u001B[0m, in \u001B[0;36mReadOnlyWorksheet._cells_by_row\u001B[1;34m(self, min_col, min_row, max_col, max_row, values_only)\u001B[0m\n\u001B[0;32m     75\u001B[0m src \u001B[38;5;241m=\u001B[39m \u001B[38;5;28mself\u001B[39m\u001B[38;5;241m.\u001B[39m_get_source()\n\u001B[0;32m     76\u001B[0m parser \u001B[38;5;241m=\u001B[39m WorkSheetParser(src, \u001B[38;5;28mself\u001B[39m\u001B[38;5;241m.\u001B[39m_shared_strings,\n\u001B[0;32m     77\u001B[0m                          data_only\u001B[38;5;241m=\u001B[39m\u001B[38;5;28mself\u001B[39m\u001B[38;5;241m.\u001B[39mparent\u001B[38;5;241m.\u001B[39mdata_only, epoch\u001B[38;5;241m=\u001B[39m\u001B[38;5;28mself\u001B[39m\u001B[38;5;241m.\u001B[39mparent\u001B[38;5;241m.\u001B[39mepoch,\n\u001B[0;32m     78\u001B[0m                          date_formats\u001B[38;5;241m=\u001B[39m\u001B[38;5;28mself\u001B[39m\u001B[38;5;241m.\u001B[39mparent\u001B[38;5;241m.\u001B[39m_date_formats)\n\u001B[1;32m---> 79\u001B[0m \u001B[38;5;28;01mfor\u001B[39;00m idx, row \u001B[38;5;129;01min\u001B[39;00m parser\u001B[38;5;241m.\u001B[39mparse():\n\u001B[0;32m     80\u001B[0m     \u001B[38;5;28;01mif\u001B[39;00m max_row \u001B[38;5;129;01mis\u001B[39;00m \u001B[38;5;129;01mnot\u001B[39;00m \u001B[38;5;28;01mNone\u001B[39;00m \u001B[38;5;129;01mand\u001B[39;00m idx \u001B[38;5;241m>\u001B[39m max_row:\n\u001B[0;32m     81\u001B[0m         \u001B[38;5;28;01mbreak\u001B[39;00m\n",
      "File \u001B[1;32m~\\Dvd\\Centinela\\Hackaton\\venv\\lib\\site-packages\\openpyxl\\worksheet\\_reader.py:159\u001B[0m, in \u001B[0;36mWorkSheetParser.parse\u001B[1;34m(self)\u001B[0m\n\u001B[0;32m    140\u001B[0m properties \u001B[38;5;241m=\u001B[39m {\n\u001B[0;32m    141\u001B[0m     PRINT_TAG: (\u001B[38;5;124m'\u001B[39m\u001B[38;5;124mprint_options\u001B[39m\u001B[38;5;124m'\u001B[39m, PrintOptions),\n\u001B[0;32m    142\u001B[0m     MARGINS_TAG: (\u001B[38;5;124m'\u001B[39m\u001B[38;5;124mpage_margins\u001B[39m\u001B[38;5;124m'\u001B[39m, PageMargins),\n\u001B[1;32m   (...)\u001B[0m\n\u001B[0;32m    154\u001B[0m     CONTROLS_TAG: (\u001B[38;5;124m\"\u001B[39m\u001B[38;5;124mcontrols\u001B[39m\u001B[38;5;124m\"\u001B[39m, ControlList),\n\u001B[0;32m    155\u001B[0m }\n\u001B[0;32m    157\u001B[0m it \u001B[38;5;241m=\u001B[39m iterparse(\u001B[38;5;28mself\u001B[39m\u001B[38;5;241m.\u001B[39msource) \u001B[38;5;66;03m# add a finaliser to close the source when this becomes possible\u001B[39;00m\n\u001B[1;32m--> 159\u001B[0m \u001B[38;5;28;01mfor\u001B[39;00m _, element \u001B[38;5;129;01min\u001B[39;00m it:\n\u001B[0;32m    160\u001B[0m     tag_name \u001B[38;5;241m=\u001B[39m element\u001B[38;5;241m.\u001B[39mtag\n\u001B[0;32m    161\u001B[0m     \u001B[38;5;28;01mif\u001B[39;00m tag_name \u001B[38;5;129;01min\u001B[39;00m dispatcher:\n",
      "File \u001B[1;32mC:\\Program Files\\WindowsApps\\PythonSoftwareFoundation.Python.3.9_3.9.3568.0_x64__qbz5n2kfra8p0\\lib\\xml\\etree\\ElementTree.py:1257\u001B[0m, in \u001B[0;36miterparse.<locals>.iterator\u001B[1;34m(source)\u001B[0m\n\u001B[0;32m   1255\u001B[0m \u001B[38;5;28;01myield from\u001B[39;00m pullparser\u001B[38;5;241m.\u001B[39mread_events()\n\u001B[0;32m   1256\u001B[0m \u001B[38;5;66;03m# load event buffer\u001B[39;00m\n\u001B[1;32m-> 1257\u001B[0m data \u001B[38;5;241m=\u001B[39m \u001B[43msource\u001B[49m\u001B[38;5;241;43m.\u001B[39;49m\u001B[43mread\u001B[49m\u001B[43m(\u001B[49m\u001B[38;5;241;43m16\u001B[39;49m\u001B[43m \u001B[49m\u001B[38;5;241;43m*\u001B[39;49m\u001B[43m \u001B[49m\u001B[38;5;241;43m1024\u001B[39;49m\u001B[43m)\u001B[49m\n\u001B[0;32m   1258\u001B[0m \u001B[38;5;28;01mif\u001B[39;00m \u001B[38;5;129;01mnot\u001B[39;00m data:\n\u001B[0;32m   1259\u001B[0m     \u001B[38;5;28;01mbreak\u001B[39;00m\n",
      "File \u001B[1;32mC:\\Program Files\\WindowsApps\\PythonSoftwareFoundation.Python.3.9_3.9.3568.0_x64__qbz5n2kfra8p0\\lib\\zipfile.py:924\u001B[0m, in \u001B[0;36mZipExtFile.read\u001B[1;34m(self, n)\u001B[0m\n\u001B[0;32m    922\u001B[0m \u001B[38;5;28mself\u001B[39m\u001B[38;5;241m.\u001B[39m_offset \u001B[38;5;241m=\u001B[39m \u001B[38;5;241m0\u001B[39m\n\u001B[0;32m    923\u001B[0m \u001B[38;5;28;01mwhile\u001B[39;00m n \u001B[38;5;241m>\u001B[39m \u001B[38;5;241m0\u001B[39m \u001B[38;5;129;01mand\u001B[39;00m \u001B[38;5;129;01mnot\u001B[39;00m \u001B[38;5;28mself\u001B[39m\u001B[38;5;241m.\u001B[39m_eof:\n\u001B[1;32m--> 924\u001B[0m     data \u001B[38;5;241m=\u001B[39m \u001B[38;5;28;43mself\u001B[39;49m\u001B[38;5;241;43m.\u001B[39;49m\u001B[43m_read1\u001B[49m\u001B[43m(\u001B[49m\u001B[43mn\u001B[49m\u001B[43m)\u001B[49m\n\u001B[0;32m    925\u001B[0m     \u001B[38;5;28;01mif\u001B[39;00m n \u001B[38;5;241m<\u001B[39m \u001B[38;5;28mlen\u001B[39m(data):\n\u001B[0;32m    926\u001B[0m         \u001B[38;5;28mself\u001B[39m\u001B[38;5;241m.\u001B[39m_readbuffer \u001B[38;5;241m=\u001B[39m data\n",
      "File \u001B[1;32mC:\\Program Files\\WindowsApps\\PythonSoftwareFoundation.Python.3.9_3.9.3568.0_x64__qbz5n2kfra8p0\\lib\\zipfile.py:992\u001B[0m, in \u001B[0;36mZipExtFile._read1\u001B[1;34m(self, n)\u001B[0m\n\u001B[0;32m    990\u001B[0m     data \u001B[38;5;241m=\u001B[39m \u001B[38;5;28mself\u001B[39m\u001B[38;5;241m.\u001B[39m_decompressor\u001B[38;5;241m.\u001B[39munconsumed_tail\n\u001B[0;32m    991\u001B[0m     \u001B[38;5;28;01mif\u001B[39;00m n \u001B[38;5;241m>\u001B[39m \u001B[38;5;28mlen\u001B[39m(data):\n\u001B[1;32m--> 992\u001B[0m         data \u001B[38;5;241m+\u001B[39m\u001B[38;5;241m=\u001B[39m \u001B[38;5;28;43mself\u001B[39;49m\u001B[38;5;241;43m.\u001B[39;49m\u001B[43m_read2\u001B[49m\u001B[43m(\u001B[49m\u001B[43mn\u001B[49m\u001B[43m \u001B[49m\u001B[38;5;241;43m-\u001B[39;49m\u001B[43m \u001B[49m\u001B[38;5;28;43mlen\u001B[39;49m\u001B[43m(\u001B[49m\u001B[43mdata\u001B[49m\u001B[43m)\u001B[49m\u001B[43m)\u001B[49m\n\u001B[0;32m    993\u001B[0m \u001B[38;5;28;01melse\u001B[39;00m:\n\u001B[0;32m    994\u001B[0m     data \u001B[38;5;241m=\u001B[39m \u001B[38;5;28mself\u001B[39m\u001B[38;5;241m.\u001B[39m_read2(n)\n",
      "File \u001B[1;32mC:\\Program Files\\WindowsApps\\PythonSoftwareFoundation.Python.3.9_3.9.3568.0_x64__qbz5n2kfra8p0\\lib\\zipfile.py:1024\u001B[0m, in \u001B[0;36mZipExtFile._read2\u001B[1;34m(self, n)\u001B[0m\n\u001B[0;32m   1021\u001B[0m n \u001B[38;5;241m=\u001B[39m \u001B[38;5;28mmax\u001B[39m(n, \u001B[38;5;28mself\u001B[39m\u001B[38;5;241m.\u001B[39mMIN_READ_SIZE)\n\u001B[0;32m   1022\u001B[0m n \u001B[38;5;241m=\u001B[39m \u001B[38;5;28mmin\u001B[39m(n, \u001B[38;5;28mself\u001B[39m\u001B[38;5;241m.\u001B[39m_compress_left)\n\u001B[1;32m-> 1024\u001B[0m data \u001B[38;5;241m=\u001B[39m \u001B[38;5;28;43mself\u001B[39;49m\u001B[38;5;241;43m.\u001B[39;49m\u001B[43m_fileobj\u001B[49m\u001B[38;5;241;43m.\u001B[39;49m\u001B[43mread\u001B[49m\u001B[43m(\u001B[49m\u001B[43mn\u001B[49m\u001B[43m)\u001B[49m\n\u001B[0;32m   1025\u001B[0m \u001B[38;5;28mself\u001B[39m\u001B[38;5;241m.\u001B[39m_compress_left \u001B[38;5;241m-\u001B[39m\u001B[38;5;241m=\u001B[39m \u001B[38;5;28mlen\u001B[39m(data)\n\u001B[0;32m   1026\u001B[0m \u001B[38;5;28;01mif\u001B[39;00m \u001B[38;5;129;01mnot\u001B[39;00m data:\n",
      "File \u001B[1;32mC:\\Program Files\\WindowsApps\\PythonSoftwareFoundation.Python.3.9_3.9.3568.0_x64__qbz5n2kfra8p0\\lib\\zipfile.py:744\u001B[0m, in \u001B[0;36m_SharedFile.read\u001B[1;34m(self, n)\u001B[0m\n\u001B[0;32m    740\u001B[0m     \u001B[38;5;28;01mraise\u001B[39;00m \u001B[38;5;167;01mValueError\u001B[39;00m(\u001B[38;5;124m\"\u001B[39m\u001B[38;5;124mCan\u001B[39m\u001B[38;5;124m'\u001B[39m\u001B[38;5;124mt read from the ZIP file while there \u001B[39m\u001B[38;5;124m\"\u001B[39m\n\u001B[0;32m    741\u001B[0m             \u001B[38;5;124m\"\u001B[39m\u001B[38;5;124mis an open writing handle on it. \u001B[39m\u001B[38;5;124m\"\u001B[39m\n\u001B[0;32m    742\u001B[0m             \u001B[38;5;124m\"\u001B[39m\u001B[38;5;124mClose the writing handle before trying to read.\u001B[39m\u001B[38;5;124m\"\u001B[39m)\n\u001B[0;32m    743\u001B[0m \u001B[38;5;28mself\u001B[39m\u001B[38;5;241m.\u001B[39m_file\u001B[38;5;241m.\u001B[39mseek(\u001B[38;5;28mself\u001B[39m\u001B[38;5;241m.\u001B[39m_pos)\n\u001B[1;32m--> 744\u001B[0m data \u001B[38;5;241m=\u001B[39m \u001B[38;5;28;43mself\u001B[39;49m\u001B[38;5;241;43m.\u001B[39;49m\u001B[43m_file\u001B[49m\u001B[38;5;241;43m.\u001B[39;49m\u001B[43mread\u001B[49m\u001B[43m(\u001B[49m\u001B[43mn\u001B[49m\u001B[43m)\u001B[49m\n\u001B[0;32m    745\u001B[0m \u001B[38;5;28mself\u001B[39m\u001B[38;5;241m.\u001B[39m_pos \u001B[38;5;241m=\u001B[39m \u001B[38;5;28mself\u001B[39m\u001B[38;5;241m.\u001B[39m_file\u001B[38;5;241m.\u001B[39mtell()\n\u001B[0;32m    746\u001B[0m \u001B[38;5;28;01mreturn\u001B[39;00m data\n",
      "\u001B[1;31mKeyboardInterrupt\u001B[0m: "
     ]
    }
   ],
   "source": [
    "data = pd.read_excel('Hack_concentraducto_v01.xlsx', sheet_name='Data_Hackathon')\n",
    "df1 = data.copy()\n",
    "df1.head()"
   ]
  },
  {
   "cell_type": "code",
   "execution_count": null,
   "id": "318c4a25a3cb2c1c",
   "metadata": {
    "ExecuteTime": {
     "end_time": "2023-11-22T20:02:28.673188300Z",
     "start_time": "2023-11-22T20:02:28.670189Z"
    }
   },
   "outputs": [],
   "source": [
    "df1.isnull().sum()"
   ]
  },
  {
   "cell_type": "markdown",
   "id": "c18f1eb0e1079016",
   "metadata": {},
   "source": [
    "# Preprocesamiento\n",
    "## Conversión de datos"
   ]
  },
  {
   "cell_type": "code",
   "execution_count": null,
   "id": "48714c5da0190ea2",
   "metadata": {
    "ExecuteTime": {
     "end_time": "2023-11-22T20:02:28.690187200Z",
     "start_time": "2023-11-22T20:02:28.674190500Z"
    }
   },
   "outputs": [],
   "source": [
    "df2 = data.copy()\n",
    "df2.rename(columns=columns_rename, inplace=True)"
   ]
  },
  {
   "cell_type": "markdown",
   "source": [
    "### Conversión de presiones"
   ],
   "metadata": {
    "collapsed": false
   },
   "id": "da98fedd5b1dc982"
  },
  {
   "cell_type": "code",
   "execution_count": null,
   "id": "8aa636c2d0448c13",
   "metadata": {
    "ExecuteTime": {
     "start_time": "2023-11-22T20:02:28.677204300Z"
    }
   },
   "outputs": [],
   "source": [
    "conversion = 6.89476\n",
    "\n",
    "df2[['EB1','EB2']] = df2[['EB1','EB2']].apply(lambda x: x * conversion)"
   ]
  },
  {
   "cell_type": "markdown",
   "source": [
    "### Normalización de datos\n",
    "El resultado de esta etapa fue utilizado para el análisis exploratorio de datos, pero no se considero esta transformación para los modelos finales, ya que en los modelos escogidos, no generaban diferencias, y se quiso evitar transformaciones innecesesarias entre las medidas (puesto que, si se normalizaban los datos, se debería hacer la transformación inversa para obtener los valores reales)."
   ],
   "metadata": {
    "collapsed": false
   },
   "id": "c49eae48f20196f"
  },
  {
   "cell_type": "code",
   "execution_count": null,
   "id": "a0655a334549ce45",
   "metadata": {
    "ExecuteTime": {
     "start_time": "2023-11-22T20:02:28.681186400Z"
    }
   },
   "outputs": [],
   "source": [
    "excluded_columns = ['T']\n",
    "normalize_columns = [col for col in df2.columns if col not in excluded_columns]\n",
    "\n",
    "scaler = StandardScaler()\n",
    "\n",
    "df_normalized = pd.DataFrame(scaler.fit_transform(df2[normalize_columns]), columns=normalize_columns)\n",
    "df_normalized = pd.concat([df2[excluded_columns], df_normalized], axis=1)\n"
   ]
  },
  {
   "cell_type": "raw",
   "source": [
    "df2 = df_normalized"
   ],
   "metadata": {
    "collapsed": false
   },
   "id": "11283f970fe9941e"
  },
  {
   "cell_type": "markdown",
   "id": "e9f23a49febbd767",
   "metadata": {},
   "source": [
    "# Visualización de datos"
   ]
  },
  {
   "cell_type": "code",
   "execution_count": null,
   "id": "78300d1794613a06",
   "metadata": {
    "ExecuteTime": {
     "start_time": "2023-11-22T20:02:28.684187700Z"
    }
   },
   "outputs": [],
   "source": [
    "pd.plotting.scatter_matrix(df2)"
   ]
  },
  {
   "cell_type": "markdown",
   "id": "59efd3addd89e6ee",
   "metadata": {},
   "source": [
    "### Correlación entre SM2 y EV2\n",
    "Analizando el conjunto de datos, se encontró que, en casos donde la presión de SM2 cambia entre dos tuplas de manera drástica, el cambio se propaga de manera instantánea a la presión de EV2. Esto se puede observar en el siguiente gráfico:"
   ]
  },
  {
   "cell_type": "code",
   "execution_count": null,
   "id": "d41a3de8aa603b54",
   "metadata": {
    "ExecuteTime": {
     "start_time": "2023-11-22T20:02:28.688186700Z"
    }
   },
   "outputs": [],
   "source": [
    "plt.scatter(df_normalized['SM2'], df_normalized['EV1_1'], xlabel='SM2', ylabel='EV1_1')"
   ]
  },
  {
   "cell_type": "code",
   "execution_count": null,
   "id": "2fa97166dc4d6dea",
   "metadata": {
    "ExecuteTime": {
     "end_time": "2023-11-22T20:02:28.774205Z",
     "start_time": "2023-11-22T20:02:28.692191800Z"
    }
   },
   "outputs": [],
   "source": [
    "plt.scatter(df_normalized['SM4'], df_normalized['EV2_2'])"
   ]
  },
  {
   "cell_type": "code",
   "execution_count": null,
   "id": "bf00c66cfa1b51a3",
   "metadata": {
    "ExecuteTime": {
     "start_time": "2023-11-22T20:02:28.695186800Z"
    }
   },
   "outputs": [],
   "source": [
    "plt.scatter(df_normalized['SM4'], df_normalized['EDT1'])"
   ]
  },
  {
   "cell_type": "code",
   "execution_count": null,
   "id": "4e7f981339e9891c",
   "metadata": {
    "ExecuteTime": {
     "start_time": "2023-11-22T20:02:28.699194300Z"
    }
   },
   "outputs": [],
   "source": [
    "plt.scatter(df_normalized['SM1'], df_normalized['EB2'])"
   ]
  },
  {
   "cell_type": "code",
   "execution_count": null,
   "id": "76905499233657dc",
   "metadata": {
    "ExecuteTime": {
     "start_time": "2023-11-22T20:02:28.702187800Z"
    }
   },
   "outputs": [],
   "source": [
    "plt.scatter(df_normalized['SM1'], df_normalized['SM2'])"
   ]
  },
  {
   "cell_type": "code",
   "execution_count": null,
   "id": "a51e534d9b43e5c4",
   "metadata": {
    "ExecuteTime": {
     "start_time": "2023-11-22T20:02:28.706189400Z"
    }
   },
   "outputs": [],
   "source": [
    "plt.scatter(df_normalized['SM3'], df_normalized['EV2_1'])"
   ]
  },
  {
   "cell_type": "code",
   "execution_count": null,
   "id": "d9cafbda3496cf8",
   "metadata": {
    "ExecuteTime": {
     "start_time": "2023-11-22T20:02:28.709187400Z"
    }
   },
   "outputs": [],
   "source": [
    "plt.scatter(df_normalized['SM3'], df_normalized['EV1_2'])"
   ]
  },
  {
   "cell_type": "markdown",
   "id": "7bd9e466bb804cfb",
   "metadata": {},
   "source": [
    "# Creación de modelos\n",
    "A continuación se presentan los modelos creados para cada una de las mediciones de presión.\n",
    "Para cada estación, se probaron de manera manual una serie de modelos predictivos. En primera instancia, se probraron los modelos lineales:\n",
    "\n",
    " -  Regresión Lineal\n",
    " -  Regresión Lasso\n",
    " -  Elastic Net\n",
    " -  Modelo con Descenso por Gradiente Estocástico\n",
    "\n",
    "En todos los casos, la regresión lineal entregó los mejores resultados, pero no se obtuvo un puntaje satisfactorio.\n",
    "Por esto, se indagaron modelos no lineales, acción que se justificó al visualizarse cierto comportamiento no lineal entre los datos. Se consideraron los modelos:\n",
    "\n",
    " -  Regresión Lineal con Características Polinomiales\n",
    " -  Árbol de Decisión Mejorado por Gradiente\n",
    "\n",
    "Efectivamente se obtuvieron mejores resultados con dichos modelos, obteniéndose las mejores puntuaciones con el árbol de decisión en todos los modelos, menos el de SM2.\n",
    "Además se barajaron otros dos modelos, SVM y Random Forest; su entrenamiento tomaba un tiempo considerable, mayor sugerido para la competencia, y en ocasiones los equipos usados no podían completar el trabajo. Por esto, simplemente fueron descartados.\n",
    "Así, se escogieron los siguientes modelos:\n",
    "\n",
    "| Estación | Modelo     |\n",
    "|----------|------------|\n",
    "| SM1      | XGB        |\n",
    "| SM2      | Polinomial |\n",
    "| SM3      | XGB        |\n",
    "| SM4      | XGB        |\n"
   ]
  },
  {
   "cell_type": "markdown",
   "id": "ecadd5c2d8dd30b2",
   "metadata": {},
   "source": [
    "## Predicción SM1\n",
    "Se detectó una alta correlación entre SM1 y los sensores de EB. Además, se consideraron los sensores de EV1 y SM2 para mejorar la presición del modelo."
   ]
  },
  {
   "cell_type": "code",
   "execution_count": null,
   "id": "16b123bc430d1d9d",
   "metadata": {
    "ExecuteTime": {
     "start_time": "2023-11-22T20:02:28.712194500Z"
    }
   },
   "outputs": [],
   "source": [
    "X_1 = df2[['EB%','EB1','EB2','SM2','EV1_1']]\n",
    "y_1 = df2['SM1']\n",
    "X_train, X_test, y_train, y_test = train_test_split(X_1, y_1, random_state=42, test_size=0.4)"
   ]
  },
  {
   "cell_type": "markdown",
   "id": "355fa93bc955c707",
   "metadata": {},
   "source": [
    "### Regresión Linear"
   ]
  },
  {
   "cell_type": "code",
   "execution_count": null,
   "id": "478488929f1faded",
   "metadata": {
    "ExecuteTime": {
     "start_time": "2023-11-22T20:02:28.715192500Z"
    }
   },
   "outputs": [],
   "source": [
    "sm1 = LinearRegression()\n",
    "%time sm1.fit(X_train, y_train)\n",
    "y_pred = sm1.predict(X_test)\n",
    "r2_1 = r2_score(y_test, y_pred)\n",
    "mae_1 = mean_absolute_error(y_test, y_pred)\n",
    "rmse_1 = mean_squared_error(y_test, y_pred, squared=False)\n",
    "print(f'SM1: R2 = {r2_1}, MAE = {mae_1}, RMSE = {rmse_1}')\n",
    "cross_validate(sm1, X_1, y_1, cv=10, scoring=('r2', 'neg_mean_absolute_error', 'neg_root_mean_squared_error'))"
   ]
  },
  {
   "cell_type": "markdown",
   "id": "12c26f69183d2dfb",
   "metadata": {},
   "source": [
    "Observaciones:\n",
    "Mayor puntuación, dentro de modelos lineales, con un 40% de datos asignados para validación, con todos los datos de presión en [kPa]."
   ]
  },
  {
   "cell_type": "markdown",
   "id": "be968d753fa84a9a",
   "metadata": {},
   "source": [
    "### Regresión Linear Polinomial"
   ]
  },
  {
   "cell_type": "raw",
   "source": [
    "poly = PolynomialFeatures()\n",
    "linear = LinearRegression()\n",
    "sm1 = make_pipeline(poly, linear)\n",
    "param_grid = {'polynomialfeatures__degree': [2, 3, 4, 5, 6, 7, 8, 9, 10]}\n",
    "grid = GridSearchCV(sm1, param_grid)\n",
    "grid.fit(X_train, y_train)\n",
    "display(grid.best_params_)"
   ],
   "metadata": {
    "collapsed": false
   },
   "id": "d143f931d2eb6f4b"
  },
  {
   "cell_type": "code",
   "execution_count": null,
   "id": "3470a943d1517ba8",
   "metadata": {
    "ExecuteTime": {
     "start_time": "2023-11-22T20:02:28.718193Z"
    }
   },
   "outputs": [],
   "source": [
    "poly = PolynomialFeatures(degree=3)\n",
    "linear = LinearRegression()\n",
    "sm1 = make_pipeline(poly, linear)\n",
    "%time sm1.fit(X_train, y_train)\n",
    "y_pred = sm1.predict(X_test)\n",
    "r2_1 = r2_score(y_test, y_pred)\n",
    "mae_1 = mean_absolute_error(y_test, y_pred)\n",
    "rmse_1 = mean_squared_error(y_test, y_pred, squared=False)\n",
    "print(f'SM1: R2 = {r2_1}, MAE = {mae_1}, RMSE = {rmse_1}')\n",
    "cross_validate(sm1, X_1, y_1, cv=10, scoring=('r2', 'neg_mean_absolute_error', 'neg_root_mean_squared_error'))"
   ]
  },
  {
   "cell_type": "raw",
   "source": [
    "Observaciones: \n",
    "Presenta una mejora substancial respecto a los modelos lineales."
   ],
   "metadata": {
    "collapsed": false
   },
   "id": "252a5732959eaf1b"
  },
  {
   "cell_type": "markdown",
   "id": "ff706b8b8fe05df0",
   "metadata": {},
   "source": [
    "### Regresión Lasso"
   ]
  },
  {
   "cell_type": "code",
   "execution_count": null,
   "id": "5a250ad581f0ff9a",
   "metadata": {
    "ExecuteTime": {
     "start_time": "2023-11-22T20:02:28.721193500Z"
    }
   },
   "outputs": [],
   "source": [
    "sm1 = LassoCV(max_iter=5000)\n",
    "sm1.fit(X_train, y_train)\n",
    "y_pred = sm1.predict(X_test)\n",
    "r2_1 = r2_score(y_test, y_pred)\n",
    "mae_1 = mean_absolute_error(y_test, y_pred)\n",
    "rmse_1 = mean_squared_error(y_test, y_pred, squared=False)\n",
    "print(f'SM1: R2 = {r2_1}, MAE = {mae_1}, RMSE = {rmse_1}')\n",
    "cross_validate(sm1, X_1, y_1, cv=10, scoring=('r2', 'neg_mean_absolute_error', 'neg_root_mean_squared_error'))"
   ]
  },
  {
   "cell_type": "markdown",
   "id": "df8d651d4c016f2",
   "metadata": {},
   "source": [
    "Observaciones: \n",
    "En primer intento, se tuvo menor puntaje y problemas de convergencia.\n",
    "Se aumenta número de iteraciones y se obtiene mayor demora, manteniendo puntaje."
   ]
  },
  {
   "cell_type": "markdown",
   "id": "5e2eb9a3931e4c17",
   "metadata": {},
   "source": [
    "### Elastic Net"
   ]
  },
  {
   "cell_type": "code",
   "execution_count": null,
   "id": "843343358e71d088",
   "metadata": {
    "ExecuteTime": {
     "start_time": "2023-11-22T20:02:28.724698900Z"
    }
   },
   "outputs": [],
   "source": [
    "sm1 = ElasticNetCV()\n",
    "sm1.fit(X_train, y_train)\n",
    "y_pred = sm1.predict(X_test)\n",
    "r2_1 = r2_score(y_test, y_pred)\n",
    "mae_1 = mean_absolute_error(y_test, y_pred)\n",
    "rmse_1 = mean_squared_error(y_test, y_pred, squared=False)\n",
    "print(f'SM1: R2 = {r2_1}, MAE = {mae_1}, RMSE = {rmse_1}')\n",
    "cross_validate(sm1, X_1, y_1, cv=10, scoring=('r2', 'neg_mean_absolute_error', 'neg_root_mean_squared_error'))"
   ]
  },
  {
   "cell_type": "markdown",
   "id": "180129a43982176d",
   "metadata": {},
   "source": [
    "### SGD"
   ]
  },
  {
   "cell_type": "code",
   "execution_count": null,
   "id": "d4c34de384a34094",
   "metadata": {
    "ExecuteTime": {
     "start_time": "2023-11-22T20:02:28.728706Z"
    }
   },
   "outputs": [],
   "source": [
    "sm1 = SGDRegressor()\n",
    "sm1.fit(X_train, y_train)\n",
    "y_pred = sm1.predict(X_test)\n",
    "r2_1 = r2_score(y_test, y_pred)\n",
    "mae_1 = mean_absolute_error(y_test, y_pred)\n",
    "rmse_1 = mean_squared_error(y_test, y_pred, squared=False)\n",
    "print(f'SM1: R2 = {r2_1}, MAE = {mae_1}, RMSE = {rmse_1}')\n",
    "cross_validate(sm1, X_1, y_1, cv=10, scoring=('r2', 'neg_mean_absolute_error', 'neg_root_mean_squared_error'))"
   ]
  },
  {
   "cell_type": "markdown",
   "source": [
    "Observaciones: \n",
    "Solo funciona con datos estandarizados. Para simplificar la salida del modelo, de forma que no se tenga que pasar por una etapa extra de transformación inversa, y considerando que en la mayoría de los modelos no hubieron mejoras substanciales, se optó simplemente por usar los datos en sus medidas originales."
   ],
   "metadata": {
    "collapsed": false
   },
   "id": "64d860c9d34dd203"
  },
  {
   "cell_type": "markdown",
   "id": "6a4b6b544926d11c",
   "metadata": {},
   "source": [
    "### XGBoost"
   ]
  },
  {
   "cell_type": "raw",
   "source": [
    "param_grid = {\n",
    "    'n_estimators': [150, 175, 200],\n",
    "    'learning_rate': [0.1, 0.2, 0.3],\n",
    "    'reg_lambda': [0.5, 1, 2],\n",
    "    'reg_alpha': [0.25, 0.5, 0.75],\n",
    "}\n",
    "sm1 = XGBRegressor(random_state=42)\n",
    "grid = GridSearchCV(sm1, param_grid, scoring=('neg_mean_absolute_error'))\n",
    "grid.fit(X_train, y_train)\n",
    "display(grid.best_params_)"
   ],
   "metadata": {
    "collapsed": false
   },
   "id": "caa223ceb210572e"
  },
  {
   "cell_type": "code",
   "execution_count": null,
   "id": "d12fc0f0dd8f41d8",
   "metadata": {
    "ExecuteTime": {
     "start_time": "2023-11-22T20:02:28.731704500Z"
    }
   },
   "outputs": [],
   "source": [
    "sm1 = XGBRegressor(random_state=42, n_estimators=200, learning_rate=0.3, reg_lambda=0.5, reg_alpha=0.25)\n",
    "%time sm1.fit(X_train, y_train)\n",
    "y_pred = sm1.predict(X_test)\n",
    "r2_1 = r2_score(y_test, y_pred)\n",
    "mae_1 = mean_absolute_error(y_test, y_pred)\n",
    "rmse_1 = mean_squared_error(y_test, y_pred, squared=False)\n",
    "print(f'SM1: R2 = {r2_1}, MAE = {mae_1}, RMSE = {rmse_1}')\n",
    "cross_validate(sm1, X_1, y_1, cv=10, scoring=('r2', 'neg_mean_absolute_error', 'neg_root_mean_squared_error'))"
   ]
  },
  {
   "cell_type": "markdown",
   "source": [
    "Observaciones: \n",
    "Presenta la mejor puntuación de todos los modelos. Se escoge este."
   ],
   "metadata": {
    "collapsed": false
   },
   "id": "babc437adea223f3"
  },
  {
   "cell_type": "markdown",
   "id": "cbe0f04572730352",
   "metadata": {},
   "source": [
    "### Random Forest"
   ]
  },
  {
   "cell_type": "raw",
   "id": "b1e347f63d7c9b5d",
   "metadata": {},
   "source": [
    "sm1 = RandomForestRegressor()\n",
    "sm1.fit(X_train, y_train)\n",
    "y_pred = sm1.predict(X_test)\n",
    "r2_1 = r2_score(y_test, y_pred)\n",
    "mae_1 = mean_absolute_error(y_test, y_pred)\n",
    "print(f'SM1: R2 = {r2_1}, MAE = {mae_1}')"
   ]
  },
  {
   "cell_type": "markdown",
   "id": "774c3b6149104",
   "metadata": {},
   "source": [
    "Observaciones:\n",
    "Entrenamiento lento, fuera de plazo máximo. Descartado."
   ]
  },
  {
   "cell_type": "markdown",
   "id": "d267fc0798bf354d",
   "metadata": {},
   "source": [
    "## Predicción SM2\n",
    "Luego del análisis explorativo, se encontró una alta correlación entre las mediciones de SM2 y EV1, por lo cual se escogen sus sensores como únicas entradas del modelo."
   ]
  },
  {
   "cell_type": "code",
   "execution_count": null,
   "id": "a6297bd57a8bfd40",
   "metadata": {
    "ExecuteTime": {
     "start_time": "2023-11-22T20:02:28.733709100Z"
    }
   },
   "outputs": [],
   "source": [
    "X_2 = df2[['EV1_1', 'EV1_2']]\n",
    "y_2 = df2['SM2']\n",
    "X_2_train, X_2_test, y_2_train, y_2_test = train_test_split(X_2, y_2, random_state=42, test_size=0.4)"
   ]
  },
  {
   "cell_type": "markdown",
   "id": "f992c9dc73c9fa66",
   "metadata": {},
   "source": [
    "### Regresión Linear"
   ]
  },
  {
   "cell_type": "code",
   "execution_count": null,
   "id": "ac0a21d18c824c64",
   "metadata": {
    "ExecuteTime": {
     "start_time": "2023-11-22T20:02:28.736705500Z"
    }
   },
   "outputs": [],
   "source": [
    "sm2 = LinearRegression()\n",
    "%time sm2.fit(X_2_train, y_2_train)\n",
    "y_2_pred = sm2.predict(X_2_test)\n",
    "r2_2 = r2_score(y_2_test, y_2_pred)\n",
    "mae_2 = mean_absolute_error(y_2_test, y_2_pred)\n",
    "rmse_2 = mean_squared_error(y_2_test, y_2_pred, squared=False)\n",
    "print(f'SM2: R2 = {r2_2}, MAE = {mae_2}, RMSE = {rmse_2}')\n",
    "cross_validate(sm2, X_2, y_2, cv=10, scoring=('r2', 'neg_mean_absolute_error', 'neg_root_mean_squared_error'))"
   ]
  },
  {
   "cell_type": "markdown",
   "id": "8d898ad8f46a4fee",
   "metadata": {},
   "source": [
    "### Regresión Linear Polinomial"
   ]
  },
  {
   "cell_type": "raw",
   "source": [
    "poly = PolynomialFeatures()\n",
    "linear = LinearRegression()\n",
    "sm2 = make_pipeline(poly, linear)\n",
    "param_grid = {'polynomialfeatures__degree': [2, 3, 4, 5, 6, 7, 8, 9, 10]}\n",
    "grid = GridSearchCV(sm2, param_grid)\n",
    "grid.fit(X_2_train, y_2_train)\n",
    "display(grid.best_params_)"
   ],
   "metadata": {
    "collapsed": false
   },
   "id": "5d2f466135c10abf"
  },
  {
   "cell_type": "code",
   "execution_count": null,
   "id": "f143d5876a1a30fc",
   "metadata": {
    "ExecuteTime": {
     "start_time": "2023-11-22T20:02:28.738716100Z"
    }
   },
   "outputs": [],
   "source": [
    "poly = PolynomialFeatures(degree=4)\n",
    "linear = LinearRegression()\n",
    "sm2 = make_pipeline(poly, linear)\n",
    "%time sm2.fit(X_2_train, y_2_train)\n",
    "y_2_pred = sm2.predict(X_2_test)\n",
    "r2_2 = r2_score(y_2_test, y_2_pred)\n",
    "mae_2 = mean_absolute_error(y_2_test, y_2_pred)\n",
    "rmse_2 = mean_squared_error(y_2_test, y_2_pred, squared=False)\n",
    "print(f'SM2: R2 = {r2_2}, MAE = {mae_2}, RMSE = {rmse_2}')\n",
    "cross_validate(sm2, X_2, y_2, cv=10, scoring=('r2', 'neg_mean_absolute_error', 'neg_root_mean_squared_error'))"
   ]
  },
  {
   "cell_type": "markdown",
   "id": "c84422da85f14016",
   "metadata": {},
   "source": [
    "### Regresión Lasso"
   ]
  },
  {
   "cell_type": "code",
   "execution_count": null,
   "id": "7d427889cf68b709",
   "metadata": {
    "ExecuteTime": {
     "start_time": "2023-11-22T20:02:28.740704Z"
    }
   },
   "outputs": [],
   "source": [
    "sm2 = LassoCV()\n",
    "sm2.fit(X_2_train, y_2_train)\n",
    "y_2_pred = sm2.predict(X_2_test)\n",
    "r2_2 = r2_score(y_2_test, y_2_pred)\n",
    "mae_2 = mean_absolute_error(y_2_test, y_2_pred)\n",
    "rmse_2 = mean_squared_error(y_2_test, y_2_pred, squared=False)\n",
    "print(f'SM2: R2 = {r2_2}, MAE = {mae_2}, RMSE = {rmse_2}')\n",
    "cross_validate(sm2, X_2, y_2, cv=10, scoring=('r2', 'neg_mean_absolute_error', 'neg_root_mean_squared_error'))"
   ]
  },
  {
   "cell_type": "markdown",
   "id": "9b57cab397d037a5",
   "metadata": {},
   "source": [
    "### Elastic Net"
   ]
  },
  {
   "cell_type": "code",
   "execution_count": null,
   "id": "5cbbdbcbb2cbb4b",
   "metadata": {
    "ExecuteTime": {
     "start_time": "2023-11-22T20:02:28.741704300Z"
    }
   },
   "outputs": [],
   "source": [
    "sm2 = ElasticNetCV()\n",
    "sm2.fit(X_2_train, y_2_train)\n",
    "y_2_pred = sm2.predict(X_2_test)\n",
    "r2_2 = r2_score(y_2_test, y_2_pred)\n",
    "mae_2 = mean_absolute_error(y_2_test, y_2_pred)\n",
    "rmse_2 = mean_squared_error(y_2_test, y_2_pred, squared=False)\n",
    "print(f'SM2: R2 = {r2_2}, MAE = {mae_2}, RMSE = {rmse_2}')\n",
    "cross_validate(sm2, X_2, y_2, cv=10, scoring=('r2', 'neg_mean_absolute_error', 'neg_root_mean_squared_error'))"
   ]
  },
  {
   "cell_type": "markdown",
   "id": "fddc44cb201f088b",
   "metadata": {},
   "source": [
    "### SGD"
   ]
  },
  {
   "cell_type": "code",
   "execution_count": null,
   "id": "c462b9475c95c456",
   "metadata": {
    "ExecuteTime": {
     "start_time": "2023-11-22T20:02:28.744710200Z"
    }
   },
   "outputs": [],
   "source": [
    "sm2 = SGDRegressor()\n",
    "sm2.fit(X_2_train, y_2_train)\n",
    "y_2_pred = sm2.predict(X_2_test)\n",
    "r2_2 = r2_score(y_2_test, y_2_pred)\n",
    "mae_2 = mean_absolute_error(y_2_test, y_2_pred)\n",
    "rmse_2 = mean_squared_error(y_2_test, y_2_pred, squared=False)\n",
    "print(f'SM2: R2 = {r2_2}, MAE = {mae_2}, RMSE = {rmse_2}')\n",
    "cross_validate(sm2, X_2, y_2, cv=10, scoring=('r2', 'neg_mean_absolute_error', 'neg_root_mean_squared_error'))"
   ]
  },
  {
   "cell_type": "markdown",
   "id": "fa7dd51419e03d2c",
   "metadata": {},
   "source": [
    "### XGBoost"
   ]
  },
  {
   "cell_type": "raw",
   "source": [
    "param_grid = {\n",
    "    'n_estimators': [150, 175, 200],\n",
    "    'learning_rate': [0.1, 0.2, 0.3],\n",
    "    'reg_lambda': [0.5, 1, 2],\n",
    "    'reg_alpha': [0.25, 0.5, 0.75],\n",
    "}\n",
    "sm2 = XGBRegressor(random_state=42)\n",
    "grid = GridSearchCV(sm2, param_grid, scoring=('neg_mean_absolute_error'))\n",
    "grid.fit(X_2_train, y_train)\n",
    "display(grid.best_params_)"
   ],
   "metadata": {
    "collapsed": false
   },
   "id": "ea2590b9081eaf00"
  },
  {
   "cell_type": "code",
   "execution_count": null,
   "id": "923218bff8b99370",
   "metadata": {
    "ExecuteTime": {
     "start_time": "2023-11-22T20:02:28.746705700Z"
    }
   },
   "outputs": [],
   "source": [
    "sm2 = XGBRegressor(random_state=42, n_estimators=200, learning_rate=0.3, reg_lambda=0.5, reg_alpha=0.75)\n",
    "%time sm2.fit(X_2_train, y_2_train)\n",
    "y_2_pred = sm2.predict(X_2_test)\n",
    "r2_2 = r2_score(y_2_test, y_2_pred)\n",
    "mae_2 = mean_absolute_error(y_2_test, y_2_pred)\n",
    "rmse_2 = mean_squared_error(y_2_test, y_2_pred, squared=False)\n",
    "print(f'SM2: R2 = {r2_2}, MAE = {mae_2}, RMSE = {rmse_2}')\n",
    "cross_validate(sm2, X_2, y_2, cv=10, scoring=('r2', 'neg_mean_absolute_error', 'neg_root_mean_squared_error'))"
   ]
  },
  {
   "cell_type": "markdown",
   "id": "29003c3acba84a7a",
   "metadata": {},
   "source": [
    "## Predicción SM3\n",
    "Luego del análisis explorativo, se encontró una correlación entre las mediciones de SM3 y EV1, y entre SM3 y EV2.\n",
    "Buscando aumentar el rendimiento del modelo, y analizando de mejor manera las relaciones entre los datos, se consideraron los dos sensores de EV2, el de salida de EV1, y el de SM2, lo cual aumentó en aproximadamente 15% el rendimiento del modelo."
   ]
  },
  {
   "cell_type": "code",
   "execution_count": null,
   "id": "a0aeded01b1f3f9e",
   "metadata": {
    "ExecuteTime": {
     "start_time": "2023-11-22T20:02:28.748704200Z"
    }
   },
   "outputs": [],
   "source": [
    "X_3 = df2[['SM2', 'EV1_2', 'EV2_1', 'EV2_2']]\n",
    "y_3 = df2['SM3']\n",
    "X_3_train, X_3_test, y_3_train, y_3_test = train_test_split(X_3, y_3, random_state=42, test_size=0.4)"
   ]
  },
  {
   "cell_type": "markdown",
   "id": "e11fb0884284e236",
   "metadata": {},
   "source": [
    "### Regresión Linear"
   ]
  },
  {
   "cell_type": "code",
   "execution_count": null,
   "id": "eb0e88ae4ebb4b0",
   "metadata": {
    "ExecuteTime": {
     "start_time": "2023-11-22T20:02:28.749703900Z"
    }
   },
   "outputs": [],
   "source": [
    "sm3 = LinearRegression()\n",
    "%time sm3.fit(X_3_train, y_3_train)\n",
    "y_3_pred = sm3.predict(X_3_test) \n",
    "r2_3 = r2_score(y_3_test, y_3_pred)\n",
    "mae_3 = mean_absolute_error(y_3_test, y_3_pred)\n",
    "rmse_3 = mean_squared_error(y_3_test, y_3_pred, squared=False)\n",
    "print(f'SM3: R2 = {r2_3}, MAE = {mae_3}, RMSE = {rmse_3}')\n",
    "cross_validate(sm3, X_3, y_3, cv=10, scoring=('r2', 'neg_mean_absolute_error', 'neg_root_mean_squared_error'))"
   ]
  },
  {
   "cell_type": "markdown",
   "id": "8590e8c4522ba75f",
   "metadata": {},
   "source": [
    "### Regresión Linear Polinomial"
   ]
  },
  {
   "cell_type": "raw",
   "source": [
    "poly = PolynomialFeatures()\n",
    "linear = LinearRegression()\n",
    "sm3 = make_pipeline(poly, linear)\n",
    "param_grid = {'polynomialfeatures__degree': [2, 3, 4, 5, 6, 7, 8, 9, 10]}\n",
    "grid = GridSearchCV(sm3, param_grid)\n",
    "grid.fit(X_3_train, y_3_train)\n",
    "display(grid.best_params_)"
   ],
   "metadata": {
    "collapsed": false
   },
   "id": "a19dd66368568573"
  },
  {
   "cell_type": "code",
   "execution_count": null,
   "id": "c245c5df86464c5d",
   "metadata": {
    "ExecuteTime": {
     "start_time": "2023-11-22T20:02:28.751703600Z"
    }
   },
   "outputs": [],
   "source": [
    "poly = PolynomialFeatures(degree=4)\n",
    "linear = LinearRegression()\n",
    "%time sm3 = make_pipeline(poly, linear)\n",
    "sm3.fit(X_3_train, y_3_train)\n",
    "y_3_pred = sm3.predict(X_3_test)\n",
    "r2_3 = r2_score(y_3_test, y_3_pred)\n",
    "mae_3 = mean_absolute_error(y_3_test, y_3_pred)\n",
    "rmse_3 = mean_squared_error(y_3_test, y_3_pred, squared=False)\n",
    "print(f'SM3: R2 = {r2_3}, MAE = {mae_3}, RMSE = {rmse_3}')\n",
    "cross_validate(sm3, X_3, y_3, cv=10, scoring=('r2', 'neg_mean_absolute_error', 'neg_root_mean_squared_error'))"
   ]
  },
  {
   "cell_type": "markdown",
   "id": "696e4db354b4696f",
   "metadata": {},
   "source": [
    "### Regresión Lasso"
   ]
  },
  {
   "cell_type": "code",
   "execution_count": null,
   "id": "80c9da5af7c0b9a8",
   "metadata": {
    "ExecuteTime": {
     "start_time": "2023-11-22T20:02:28.752703900Z"
    }
   },
   "outputs": [],
   "source": [
    "sm3 = LassoCV()\n",
    "sm3.fit(X_3_train, y_3_train)\n",
    "y_3_pred = sm3.predict(X_3_test)\n",
    "r2_3 = r2_score(y_3_test, y_3_pred)\n",
    "mae_3 = mean_absolute_error(y_3_test, y_3_pred)\n",
    "rmse_3 = mean_squared_error(y_3_test, y_3_pred, squared=False)\n",
    "print(f'SM3: R2 = {r2_3}, MAE = {mae_3}, RMSE = {rmse_3}')\n",
    "cross_validate(sm3, X_3, y_3, cv=10, scoring=('r2', 'neg_mean_absolute_error', 'neg_root_mean_squared_error'))"
   ]
  },
  {
   "cell_type": "markdown",
   "id": "5c7b273bd35d284c",
   "metadata": {},
   "source": [
    "### Elastic Net"
   ]
  },
  {
   "cell_type": "code",
   "execution_count": null,
   "id": "dc432d66825276eb",
   "metadata": {
    "ExecuteTime": {
     "start_time": "2023-11-22T20:02:28.754706300Z"
    }
   },
   "outputs": [],
   "source": [
    "sm3 = ElasticNetCV()\n",
    "sm3.fit(X_3_train, y_3_train)\n",
    "y_3_pred = sm3.predict(X_3_test)\n",
    "r2_3 = r2_score(y_3_test, y_3_pred)\n",
    "mae_3 = mean_absolute_error(y_3_test, y_3_pred)\n",
    "rmse_3 = mean_squared_error(y_3_test, y_3_pred, squared=False)\n",
    "print(f'SM3: R2 = {r2_3}, MAE = {mae_3}, RMSE = {rmse_3}')\n",
    "cross_validate(sm3, X_3, y_3, cv=10, scoring=('r2', 'neg_mean_absolute_error', 'neg_root_mean_squared_error'))"
   ]
  },
  {
   "cell_type": "markdown",
   "id": "3d334d79231ba74d",
   "metadata": {},
   "source": [
    "### SGD"
   ]
  },
  {
   "cell_type": "code",
   "execution_count": null,
   "id": "e28175358af95dc2",
   "metadata": {
    "ExecuteTime": {
     "start_time": "2023-11-22T20:02:28.756705700Z"
    }
   },
   "outputs": [],
   "source": [
    "sm3 = SGDRegressor()\n",
    "sm3.fit(X_3_train, y_3_train)\n",
    "y_3_pred = sm3.predict(X_3_test)\n",
    "r2_3 = r2_score(y_3_test, y_3_pred)\n",
    "mae_3 = mean_absolute_error(y_3_test, y_3_pred)\n",
    "rmse_3 = mean_squared_error(y_3_test, y_3_pred, squared=False)\n",
    "print(f'SM3: R2 = {r2_3}, MAE = {mae_3}, RMSE = {rmse_3}')\n",
    "cross_validate(sm3, X_3, y_3, cv=10, scoring=('r2', 'neg_mean_absolute_error', 'neg_root_mean_squared_error'))"
   ]
  },
  {
   "cell_type": "markdown",
   "id": "21f344d45b67d0f",
   "metadata": {},
   "source": [
    "### XGBoost"
   ]
  },
  {
   "cell_type": "raw",
   "source": [
    "param_grid = {\n",
    "    'n_estimators': [150, 175, 200],\n",
    "    'learning_rate': [0.1, 0.2, 0.3],\n",
    "    'reg_lambda': [0.5, 1, 2],\n",
    "    'reg_alpha': [0.25, 0.5, 0.75],\n",
    "}\n",
    "sm3 = XGBRegressor(random_state=42)\n",
    "grid = GridSearchCV(sm3, param_grid, scoring=('neg_mean_absolute_error'))\n",
    "grid.fit(X_3_train, y_3_train)\n",
    "display(grid.best_params_)"
   ],
   "metadata": {
    "collapsed": false
   },
   "id": "5e5174d73336af43"
  },
  {
   "cell_type": "code",
   "execution_count": null,
   "outputs": [],
   "source": [
    "sm3 = XGBRegressor(random_state=42, n_estimators=200, learning_rate=0.3, reg_lambda=0.5, reg_alpha=0.5)\n",
    "sm3.fit(X_3_train, y_3_train)\n",
    "y_3_pred = sm3.predict(X_3_test)\n",
    "r2_3 = r2_score(y_3_test, y_3_pred)\n",
    "mae_3 = mean_absolute_error(y_3_test, y_3_pred)\n",
    "rmse_3 = mean_squared_error(y_3_test, y_3_pred, squared=False)\n",
    "print(f'SM3: R2 = {r2_3}, MAE = {mae_3}, RMSE = {rmse_3}')\n",
    "cross_validate(sm3, X_3, y_3, cv=10, scoring=('r2', 'neg_mean_absolute_error', 'neg_root_mean_squared_error'))"
   ],
   "metadata": {
    "collapsed": false,
    "ExecuteTime": {
     "start_time": "2023-11-22T20:02:28.759705100Z"
    }
   },
   "id": "bd156d1617d5bc2b"
  },
  {
   "cell_type": "markdown",
   "source": [
    "Observaciones:\n",
    "El modelo arrogaba un puntaje de R2 de 89% aproximadamente. Se hizo un ajuste manual de hiperparámetros, lo que elevó la puntuación a ~95%. Para corroborar dichos valores, se hizo una búsqueda de hiperparámetros con validación cruzada, "
   ],
   "metadata": {
    "collapsed": false
   },
   "id": "e9276bc59e39492b"
  },
  {
   "cell_type": "markdown",
   "id": "e323a887a7135cc",
   "metadata": {},
   "source": [
    "## Predicción SM4\n",
    "Luego del análisis explorativo, se encontró una correlación entre las mediciones de SM4 y EV2, y entre SM4 y EDT1."
   ]
  },
  {
   "cell_type": "code",
   "execution_count": null,
   "id": "5c3674fa6a06f76c",
   "metadata": {
    "ExecuteTime": {
     "start_time": "2023-11-22T20:02:28.761705800Z"
    }
   },
   "outputs": [],
   "source": [
    "X_4 = df2[['EV2_1','EV2_2', 'EDT%', 'EDT1']] \n",
    "y_4 = df2['SM4']\n",
    "X_4_train, X_4_test, y_4_train, y_4_test = train_test_split(X_4, y_4, random_state=42, test_size=0.4)"
   ]
  },
  {
   "cell_type": "markdown",
   "id": "14e1ea27dc7323da",
   "metadata": {},
   "source": [
    "### Regresión Linear"
   ]
  },
  {
   "cell_type": "code",
   "execution_count": null,
   "id": "6c80fb3c60f1c452",
   "metadata": {
    "ExecuteTime": {
     "start_time": "2023-11-22T20:02:28.764705700Z"
    }
   },
   "outputs": [],
   "source": [
    "sm4 = LinearRegression()\n",
    "sm4.fit(X_4_train, y_4_train)\n",
    "y_4_pred = sm4.predict(X_4_test)\n",
    "r2_4 = r2_score(y_4_test, y_4_pred)\n",
    "mae_4 = mean_absolute_error(y_4_test, y_4_pred)\n",
    "rmse_4 = mean_squared_error(y_4_test, y_4_pred, squared=False)\n",
    "print(f'SM4: R2 = {r2_4}, MAE = {mae_4}, RMSE = {rmse_4}')\n",
    "cross_validate(sm4, X_4, y_4, cv=10, scoring=('r2', 'neg_mean_absolute_error', 'neg_root_mean_squared_error'))"
   ]
  },
  {
   "cell_type": "markdown",
   "id": "e0d5216f923da0a1",
   "metadata": {},
   "source": [
    "### Regresión Lineal Polinomial"
   ]
  },
  {
   "cell_type": "raw",
   "source": [
    "poly = PolynomialFeatures()\n",
    "linear = LinearRegression()\n",
    "sm4 = make_pipeline(poly, linear)\n",
    "param_grid = {'polynomialfeatures__degree': [2, 3, 4, 5, 6, 7, 8, 9, 10]}\n",
    "grid = GridSearchCV(sm4, param_grid)\n",
    "grid.fit(X_4_train, y_4_train)\n",
    "display(grid.best_params_)"
   ],
   "metadata": {
    "collapsed": false
   },
   "id": "4ce8989d72d19309"
  },
  {
   "cell_type": "code",
   "execution_count": null,
   "id": "d35e40f1950b249d",
   "metadata": {
    "ExecuteTime": {
     "start_time": "2023-11-22T20:02:28.766705200Z"
    }
   },
   "outputs": [],
   "source": [
    "poly = PolynomialFeatures(degree=4)\n",
    "linear = LinearRegression()\n",
    "sm4 = make_pipeline(poly, linear)\n",
    "sm4.fit(X_4_train, y_4_train)\n",
    "y_4_pred = sm4.predict(X_4_test)\n",
    "r2_4 = r2_score(y_4_test, y_4_pred)\n",
    "mae_4 = mean_absolute_error(y_4_test, y_4_pred)\n",
    "rmse_4 = mean_squared_error(y_4_test, y_4_pred, squared=False)\n",
    "print(f'SM4: R2 = {r2_4}, MAE = {mae_4}, RMSE = {rmse_4}')\n",
    "cross_validate(sm4, X_4, y_4, cv=10, scoring=('r2', 'neg_mean_absolute_error', 'neg_root_mean_squared_error'))"
   ]
  },
  {
   "cell_type": "markdown",
   "id": "859c492bc5ea355b",
   "metadata": {},
   "source": [
    "### Regresión Lasso"
   ]
  },
  {
   "cell_type": "code",
   "execution_count": null,
   "id": "f003d05b4a025175",
   "metadata": {
    "ExecuteTime": {
     "start_time": "2023-11-22T20:02:28.768705300Z"
    }
   },
   "outputs": [],
   "source": [
    "sm4 = LassoCV()\n",
    "sm4.fit(X_4_train, y_4_train)\n",
    "y_4_pred = sm4.predict(X_4_test)\n",
    "r2_4 = r2_score(y_4_test, y_4_pred)\n",
    "mae_4 = mean_absolute_error(y_4_test, y_4_pred)\n",
    "rmse_4 = mean_squared_error(y_4_test, y_4_pred, squared=False)\n",
    "print(f'SM4: R2 = {r2_4}, MAE = {mae_4}, RMSE = {rmse_4}')\n",
    "cross_validate(sm4, X_4, y_4, cv=10, scoring=('r2', 'neg_mean_absolute_error', 'neg_root_mean_squared_error'))"
   ]
  },
  {
   "cell_type": "markdown",
   "id": "1ea9a5bd9574da82",
   "metadata": {},
   "source": [
    "### Elastic Net"
   ]
  },
  {
   "cell_type": "code",
   "execution_count": null,
   "id": "2f97f1a9010d9733",
   "metadata": {
    "ExecuteTime": {
     "start_time": "2023-11-22T20:02:28.770708300Z"
    }
   },
   "outputs": [],
   "source": [
    "sm4 = ElasticNetCV()\n",
    "sm4.fit(X_4_train, y_4_train)\n",
    "y_4_pred = sm4.predict(X_4_test)\n",
    "r2_4 = r2_score(y_4_test, y_4_pred)\n",
    "mae_4 = mean_absolute_error(y_4_test, y_4_pred)\n",
    "rmse_4 = mean_squared_error(y_4_test, y_4_pred, squared=False)\n",
    "print(f'SM4: R2 = {r2_4}, MAE = {mae_4}, RMSE = {rmse_4}')\n",
    "cross_validate(sm4, X_4, y_4, cv=10, scoring=('r2', 'neg_mean_absolute_error', 'neg_root_mean_squared_error'))"
   ]
  },
  {
   "cell_type": "markdown",
   "id": "a5e5e788dfc6f508",
   "metadata": {},
   "source": [
    "### SGD"
   ]
  },
  {
   "cell_type": "code",
   "execution_count": null,
   "id": "4f9b84f6c2a5e732",
   "metadata": {
    "ExecuteTime": {
     "start_time": "2023-11-22T20:02:28.771708700Z"
    }
   },
   "outputs": [],
   "source": [
    "sm4 = SGDRegressor()\n",
    "sm4.fit(X_4_train, y_4_train)\n",
    "y_4_pred = sm4.predict(X_4_test)\n",
    "r2_4 = r2_score(y_4_test, y_4_pred)\n",
    "mae_4 = mean_absolute_error(y_4_test, y_4_pred)\n",
    "rmse_4 = mean_squared_error(y_4_test, y_4_pred, squared=False)\n",
    "print(f'SM4: R2 = {r2_4}, MAE = {mae_4}, RMSE = {rmse_4}')\n",
    "cross_validate(sm4, X_4, y_4, cv=10, scoring=('r2', 'neg_mean_absolute_error', 'neg_root_mean_squared_error'))"
   ]
  },
  {
   "cell_type": "markdown",
   "id": "341a4a54819efe9c",
   "metadata": {},
   "source": [
    "### XGBoost"
   ]
  },
  {
   "cell_type": "raw",
   "source": [
    "param_grid = {\n",
    "    'n_estimators': [150, 175, 200],\n",
    "    'learning_rate': [0.1, 0.2, 0.3],\n",
    "    'reg_lambda': [0.5, 1, 2],\n",
    "    'reg_alpha': [0.25, 0.5, 0.75],\n",
    "}\n",
    "sm4 = XGBRegressor(random_state=42)\n",
    "grid = GridSearchCV(sm4, param_grid, scoring=('neg_mean_absolute_error'))\n",
    "grid.fit(X_4_train, y_4_train)\n",
    "display(grid.best_params_)"
   ],
   "metadata": {
    "collapsed": false
   },
   "id": "c9897cb700920c87"
  },
  {
   "cell_type": "code",
   "execution_count": null,
   "id": "b5faf96c8e17cbc9",
   "metadata": {
    "ExecuteTime": {
     "start_time": "2023-11-22T20:02:28.773708200Z"
    }
   },
   "outputs": [],
   "source": [
    "sm4 = XGBRegressor(random_state=42, n_estimators=175, learning_rate=0.302, reg_lambda=1, reg_alpha=0.5)\n",
    "sm4.fit(X_4_train, y_4_train)\n",
    "y_4_pred = sm4.predict(X_4_test)\n",
    "r2_4 = r2_score(y_4_test, y_4_pred)\n",
    "mae_4 = mean_absolute_error(y_4_test, y_4_pred)\n",
    "rmse_4 = mean_squared_error(y_4_test, y_4_pred, squared=False)\n",
    "print(f'SM4: R2 = {r2_4}, MAE = {mae_4}, RMSE = {rmse_4}')\n",
    "cross_validate(sm4, X_4, y_4, cv=10, scoring=('r2', 'neg_mean_absolute_error', 'neg_root_mean_squared_error'))"
   ]
  },
  {
   "cell_type": "code",
   "execution_count": null,
   "id": "cb2724536f29ad28",
   "metadata": {
    "ExecuteTime": {
     "end_time": "2023-11-22T20:02:28.820342100Z",
     "start_time": "2023-11-22T20:02:28.775717100Z"
    }
   },
   "outputs": [],
   "source": []
  }
 ],
 "metadata": {
  "kernelspec": {
   "display_name": "Python 3 (ipykernel)",
   "language": "python",
   "name": "python3"
  },
  "language_info": {
   "codemirror_mode": {
    "name": "ipython",
    "version": 3
   },
   "file_extension": ".py",
   "mimetype": "text/x-python",
   "name": "python",
   "nbconvert_exporter": "python",
   "pygments_lexer": "ipython3",
   "version": "3.9.16"
  }
 },
 "nbformat": 4,
 "nbformat_minor": 5
}
