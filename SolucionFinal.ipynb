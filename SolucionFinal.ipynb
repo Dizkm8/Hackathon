{
 "cells": [
  {
   "cell_type": "markdown",
   "source": [
    "# 1era Hackathon Minera Centinela\n",
    "Equipo ARCA"
   ],
   "metadata": {
    "collapsed": false
   },
   "id": "c71f138470f81bdd"
  },
  {
   "cell_type": "code",
   "execution_count": null,
   "outputs": [],
   "source": [
    "import pandas as pd\n",
    "from sklearn.base import clone as clone_model\n",
    "from sklearn.linear_model import LinearRegression\n",
    "from sklearn.preprocessing import PolynomialFeatures\n",
    "from sklearn.pipeline import make_pipeline\n",
    "from xgboost import XGBRegressor"
   ],
   "metadata": {
    "collapsed": false
   },
   "id": "5a2b8bc979092096"
  },
  {
   "cell_type": "code",
   "execution_count": null,
   "outputs": [],
   "source": [
    "columns_rename = {\n",
    " 'tiempo': 'T',\n",
    " '% Solido  Bombeo concentrado_EB': 'EB%', \n",
    " 'Presión de Descarga_EB_1': 'EB1',\n",
    " 'Presión de Descarga_EB_2': 'EB2',\n",
    " 'Presion_Estación de Valvulas_EV1_1': 'EV1_1',\n",
    " 'Presión estación de valvulas 2_EV2_1': 'EV2_1',\n",
    " 'Presion_Estación de Valvulas_EV1_2': 'EV1_2',\n",
    " 'Presión estación de valvulas 2_EV2_2': 'EV2_2',\n",
    " 'Presión_SM-1': 'SM1',\n",
    " 'Presión_SM-2': 'SM2',\n",
    " 'Presión_SM-3': 'SM3',\n",
    " 'Presión_SM-4': 'SM4',\n",
    " 'Porcentaje de Solido Alimentación Espesador': 'EDT%',\n",
    " 'Presión_EDT_1': 'EDT1',\n",
    " 'Presión_EDT_2': 'EDT2',\n",
    " 'Presión_EDT_3': 'EDT3'\n",
    "}"
   ],
   "metadata": {
    "collapsed": false
   },
   "id": "12c41f86b0a452bb"
  },
  {
   "cell_type": "code",
   "execution_count": null,
   "outputs": [],
   "source": [
    "final_data = pd.read_excel('Data_test_hakcathon_CEN.xlsx')\n",
    "train_data = pd.read_excel('Hack_concentraducto_v01.xlsx', sheet_name='Data_Hackathon')"
   ],
   "metadata": {
    "collapsed": false
   },
   "id": "6ee36abec0b9947c"
  },
  {
   "cell_type": "markdown",
   "source": [
    "## Transformación de datos"
   ],
   "metadata": {
    "collapsed": false
   },
   "id": "c641bd0908060dd7"
  },
  {
   "cell_type": "code",
   "execution_count": null,
   "outputs": [],
   "source": [
    "final_data.rename(columns=columns_rename, inplace=True)\n",
    "train_data.rename(columns=columns_rename, inplace=True)"
   ],
   "metadata": {
    "collapsed": false
   },
   "id": "739d1d509ac9cfa1"
  },
  {
   "cell_type": "code",
   "execution_count": null,
   "outputs": [],
   "source": [
    "conversion = 6.89476 # [kPa/psi]\n",
    "\n",
    "final_data[['EB1','EB2']] = final_data[['EB1','EB2']].apply(lambda x: x * conversion)\n",
    "\n",
    "train_data[['EB1','EB2']] = train_data[['EB1','EB2']].apply(lambda x: x * conversion)"
   ],
   "metadata": {
    "collapsed": false
   },
   "id": "7900d9fed1faa1b1"
  },
  {
   "cell_type": "markdown",
   "source": [
    "## Generación de modelos"
   ],
   "metadata": {
    "collapsed": false
   },
   "id": "c9f560517d87e5f7"
  },
  {
   "cell_type": "code",
   "execution_count": null,
   "outputs": [],
   "source": [
    "models = dict()\n",
    "pretrained_models = dict()"
   ],
   "metadata": {
    "collapsed": false
   },
   "id": "4b0b265644de1597"
  },
  {
   "cell_type": "markdown",
   "source": [
    "### Modelo SM1"
   ],
   "metadata": {
    "collapsed": false
   },
   "id": "dd2192ed9bb11a10"
  },
  {
   "cell_type": "code",
   "execution_count": null,
   "outputs": [],
   "source": [
    "sm1_model = XGBRegressor(random_state=42, n_estimators=175, learning_rate=0.302, reg_lambda=1, reg_alpha=0.5)\n",
    "models['SM1'] = clone_model(sm1_model)"
   ],
   "metadata": {
    "collapsed": false
   },
   "id": "fd0a9c8b29ec0d0d"
  },
  {
   "cell_type": "code",
   "execution_count": null,
   "outputs": [],
   "source": [
    "sm1_model.fit(train_data[['EB%','EB1','EB2','SM2','EV1_1']], train_data['SM1'])\n",
    "pretrained_models['SM1'] = sm1_model"
   ],
   "metadata": {
    "collapsed": false
   },
   "id": "af0bf6f354136ac"
  },
  {
   "cell_type": "markdown",
   "source": [
    "### Modelo SM2"
   ],
   "metadata": {
    "collapsed": false
   },
   "id": "e6523145e22ad8f2"
  },
  {
   "cell_type": "code",
   "execution_count": null,
   "outputs": [],
   "source": [
    "sm2_model = make_pipeline(PolynomialFeatures(degree=4),  LinearRegression())\n",
    "models['SM2'] = clone_model(sm2_model)"
   ],
   "metadata": {
    "collapsed": false
   },
   "id": "c013cf0d83128fc"
  },
  {
   "cell_type": "code",
   "execution_count": null,
   "outputs": [],
   "source": [
    "sm2_model.fit(train_data[['EV1_1', 'EV1_2']], train_data['SM2'])\n",
    "pretrained_models['SM2'] = sm2_model"
   ],
   "metadata": {
    "collapsed": false
   },
   "id": "76d21771d1533bae"
  },
  {
   "cell_type": "markdown",
   "source": [
    "### Modelo SM3"
   ],
   "metadata": {
    "collapsed": false
   },
   "id": "d61f19825e296df"
  },
  {
   "cell_type": "code",
   "execution_count": null,
   "outputs": [],
   "source": [
    "sm3_model = XGBRegressor(random_state=42, n_estimators=175, learning_rate=0.302, reg_lambda=1, reg_alpha=0.5)\n",
    "models['SM3'] = clone_model(sm3_model)"
   ],
   "metadata": {
    "collapsed": false
   },
   "id": "7a2669b4adabbaf3"
  },
  {
   "cell_type": "code",
   "execution_count": null,
   "outputs": [],
   "source": [
    "sm3_model.fit(train_data[['SM2', 'EV1_2', 'EV2_1', 'EV2_2']], train_data['SM3'])\n",
    "pretrained_models['SM3'] = sm3_model"
   ],
   "metadata": {
    "collapsed": false
   },
   "id": "7e65832337ab38d4"
  },
  {
   "cell_type": "markdown",
   "source": [
    "### Modelo SM4"
   ],
   "metadata": {
    "collapsed": false
   },
   "id": "7621fad6f7b7a6b7"
  },
  {
   "cell_type": "code",
   "execution_count": null,
   "outputs": [],
   "source": [
    "sm4_model = XGBRegressor(random_state=42, n_estimators=175, learning_rate=0.302, reg_lambda=1, reg_alpha=0.5)\n",
    "models['SM4'] = clone_model(sm4_model)"
   ],
   "metadata": {
    "collapsed": false
   },
   "id": "13daaa423c148da3"
  },
  {
   "cell_type": "code",
   "execution_count": null,
   "outputs": [],
   "source": [
    "sm4_model.fit(train_data[['EV2_1','EV2_2', 'EDT%', 'EDT1']], train_data['SM4'])\n",
    "pretrained_models['SM4'] = sm4_model"
   ],
   "metadata": {
    "collapsed": false
   },
   "id": "1a50df6b7b8f69b7"
  },
  {
   "cell_type": "markdown",
   "source": [
    "## Predicción de datos faltantes"
   ],
   "metadata": {
    "collapsed": false
   },
   "id": "23e23f5fe1ddef23"
  },
  {
   "cell_type": "markdown",
   "source": [
    "### SM1"
   ],
   "metadata": {
    "collapsed": false
   },
   "id": "9bc98345069758d5"
  },
  {
   "cell_type": "code",
   "execution_count": null,
   "outputs": [],
   "source": [
    "y_1 = final_data['SM1']\n",
    "y_1_targets = y_1.isna()\n",
    "X_1 = final_data[y_1_targets][['EB%','EB1','EB2','SM2','EV1_1']]\n",
    "y_1_pred = pretrained_models['SM1'].predict(X_1)\n",
    "final_data.loc[y_1_targets, 'SM1'] = y_1_pred"
   ],
   "metadata": {
    "collapsed": false
   },
   "id": "54729987c0543d61"
  },
  {
   "cell_type": "markdown",
   "source": [
    "### SM2"
   ],
   "metadata": {
    "collapsed": false
   },
   "id": "7019f31d491a6252"
  },
  {
   "cell_type": "code",
   "execution_count": null,
   "outputs": [],
   "source": [
    "y_2 = final_data['SM2']\n",
    "y_2_targets = y_2.isna()\n",
    "X_2 = final_data[y_2_targets][['EV1_1', 'EV1_2']]\n",
    "y_2_pred = pretrained_models['SM2'].predict(X_2)\n",
    "final_data.loc[y_2_targets, 'SM2'] = y_2_pred"
   ],
   "metadata": {
    "collapsed": false
   },
   "id": "bdde41f0956be6e3"
  },
  {
   "cell_type": "markdown",
   "source": [
    "### SM3"
   ],
   "metadata": {
    "collapsed": false
   },
   "id": "f9fb2b005f979f08"
  },
  {
   "cell_type": "code",
   "execution_count": null,
   "outputs": [],
   "source": [
    "y_3 = final_data['SM3']\n",
    "y_3_targets = y_3.isna()\n",
    "X_3 = final_data[y_3_targets][['SM2', 'EV1_2', 'EV2_1', 'EV2_2']]\n",
    "y_3_pred = pretrained_models['SM3'].predict(X_3)\n",
    "final_data.loc[y_3_targets, 'SM3'] = y_3_pred"
   ],
   "metadata": {
    "collapsed": false
   },
   "id": "6d86a804bcefa2ad"
  },
  {
   "cell_type": "markdown",
   "source": [
    "### SM4"
   ],
   "metadata": {
    "collapsed": false
   },
   "id": "4e4ae465664cd005"
  },
  {
   "cell_type": "code",
   "execution_count": null,
   "outputs": [],
   "source": [
    "y_4 = final_data['SM4']\n",
    "y_4_targets = y_4.isna()\n",
    "X_4 = final_data[y_4_targets][['EV2_1','EV2_2', 'EDT%', 'EDT1']]\n",
    "y_4_pred = pretrained_models['SM4'].predict(X_4)\n",
    "final_data.loc[y_4_targets, 'SM4'] = y_4_pred"
   ],
   "metadata": {
    "collapsed": false
   },
   "id": "eb39d51eaba10364"
  },
  {
   "cell_type": "markdown",
   "source": [
    "## Exportado de datos finales"
   ],
   "metadata": {
    "collapsed": false
   },
   "id": "6f359684e657e385"
  },
  {
   "cell_type": "code",
   "execution_count": null,
   "outputs": [],
   "source": [
    "final_data.to_excel('Data_test_hackathon_CEN_final_Team_ARCA.xlsx', index=False)"
   ],
   "metadata": {
    "collapsed": false
   },
   "id": "f535f439a6d9f092"
  }
 ],
 "metadata": {
  "kernelspec": {
   "display_name": "Python 3",
   "language": "python",
   "name": "python3"
  },
  "language_info": {
   "codemirror_mode": {
    "name": "ipython",
    "version": 2
   },
   "file_extension": ".py",
   "mimetype": "text/x-python",
   "name": "python",
   "nbconvert_exporter": "python",
   "pygments_lexer": "ipython2",
   "version": "2.7.6"
  }
 },
 "nbformat": 4,
 "nbformat_minor": 5
}
